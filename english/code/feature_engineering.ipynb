{
 "cells": [
  {
   "cell_type": "markdown",
   "metadata": {},
   "source": [
    "## Process Files"
   ]
  },
  {
   "cell_type": "code",
   "execution_count": 1,
   "metadata": {},
   "outputs": [
    {
     "data": {
      "text/html": [
       "<div>\n",
       "<style scoped>\n",
       "    .dataframe tbody tr th:only-of-type {\n",
       "        vertical-align: middle;\n",
       "    }\n",
       "\n",
       "    .dataframe tbody tr th {\n",
       "        vertical-align: top;\n",
       "    }\n",
       "\n",
       "    .dataframe thead th {\n",
       "        text-align: right;\n",
       "    }\n",
       "</style>\n",
       "<table border=\"1\" class=\"dataframe\">\n",
       "  <thead>\n",
       "    <tr style=\"text-align: right;\">\n",
       "      <th></th>\n",
       "      <th>author</th>\n",
       "      <th>content</th>\n",
       "      <th>poem name</th>\n",
       "      <th>age</th>\n",
       "      <th>type</th>\n",
       "      <th>clean_content</th>\n",
       "      <th>tok_clean_content</th>\n",
       "      <th>nostop_clean_content</th>\n",
       "      <th>lemmatized_content</th>\n",
       "      <th>all_nouns</th>\n",
       "      <th>tok_all_nouns</th>\n",
       "      <th>sentiment_detailed</th>\n",
       "      <th>sentiment</th>\n",
       "      <th>dep_nouns</th>\n",
       "      <th>dep_adjs</th>\n",
       "      <th>adj_tag</th>\n",
       "    </tr>\n",
       "  </thead>\n",
       "  <tbody>\n",
       "    <tr>\n",
       "      <th>45</th>\n",
       "      <td>SIR PHILIP SIDNEY</td>\n",
       "      <td>With how sad steps, O Moon, thou climb'st the ...</td>\n",
       "      <td>Astrophil and Stella 31: With how sad steps, O...</td>\n",
       "      <td>Renaissance</td>\n",
       "      <td>Nature</td>\n",
       "      <td>With how sad steps  O Moon  thou climb st the ...</td>\n",
       "      <td>['with', 'how', 'sad', 'steps', 'o', 'moon', '...</td>\n",
       "      <td>['sad', 'steps', 'moon', 'climb', 'st', 'skies...</td>\n",
       "      <td>['sad', 'step', 'moon', 'climb', 'st', 'sky', ...</td>\n",
       "      <td>step moon climb st sky face place try sure lov...</td>\n",
       "      <td>['step', 'moon', 'climb', 'st', 'sky', 'face',...</td>\n",
       "      <td>sad</td>\n",
       "      <td>negative</td>\n",
       "      <td>['steps', 'archer', 'arrows', 'eyes', 'love']</td>\n",
       "      <td>['sad', 'busy', 'sharp', 'acquainted', 'consta...</td>\n",
       "      <td>['negative', 'negative', 'negative', 'positive...</td>\n",
       "    </tr>\n",
       "    <tr>\n",
       "      <th>46</th>\n",
       "      <td>SIR PHILIP SIDNEY</td>\n",
       "      <td>When Nature made her chief work, Stella's eyes...</td>\n",
       "      <td>Astrophil and Stella 7: When Nature made her c...</td>\n",
       "      <td>Renaissance</td>\n",
       "      <td>Nature</td>\n",
       "      <td>When Nature made her chief work  Stella s eyes...</td>\n",
       "      <td>['when', 'nature', 'made', 'her', 'chief', 'wo...</td>\n",
       "      <td>['nature', 'made', 'chief', 'work', 'stella', ...</td>\n",
       "      <td>['nature', 'made', 'chief', 'work', 'stella', ...</td>\n",
       "      <td>nature work stella eye wrapt beam bright paint...</td>\n",
       "      <td>['nature', 'work', 'stella', 'eye', 'wrapt', '...</td>\n",
       "      <td>devout</td>\n",
       "      <td>positive</td>\n",
       "      <td>['work', 'colour', 'black', 'hue', 'object', '...</td>\n",
       "      <td>['black', 'beamy', 'sober', 'best', 'brave', '...</td>\n",
       "      <td>['negative', 'positive', 'negative', 'positive...</td>\n",
       "    </tr>\n",
       "    <tr>\n",
       "      <th>47</th>\n",
       "      <td>JOHN DONNE</td>\n",
       "      <td>Come live with me, and be my love,\\nAnd we wil...</td>\n",
       "      <td>The Bait</td>\n",
       "      <td>Renaissance</td>\n",
       "      <td>Nature</td>\n",
       "      <td>Come live with me  and be my love   And we wil...</td>\n",
       "      <td>['come', 'live', 'with', 'me', 'and', 'be', 'm...</td>\n",
       "      <td>['come', 'live', 'love', 'new', 'pleasures', '...</td>\n",
       "      <td>['come', 'live', 'love', 'new', 'pleasure', 'p...</td>\n",
       "      <td>pleasure sand crystal brook line silver hook r...</td>\n",
       "      <td>['pleasure', 'sand', 'crystal', 'brook', 'line...</td>\n",
       "      <td>devout</td>\n",
       "      <td>positive</td>\n",
       "      <td>['pleasures', 'sands', 'brooks', 'run', 'bath'...</td>\n",
       "      <td>['new', 'golden', 'crystal', 'Warm', 'live', '...</td>\n",
       "      <td>['positive', 'positive', 'positive', 'positive...</td>\n",
       "    </tr>\n",
       "    <tr>\n",
       "      <th>48</th>\n",
       "      <td>JOHN DONNE</td>\n",
       "      <td>Our storm is past, and that storm's tyrannous ...</td>\n",
       "      <td>The Calm</td>\n",
       "      <td>Renaissance</td>\n",
       "      <td>Nature</td>\n",
       "      <td>Our storm is past  and that storm s tyrannous ...</td>\n",
       "      <td>['our', 'storm', 'is', 'past', 'and', 'that', ...</td>\n",
       "      <td>['storm', 'past', 'storm', 'tyrannous', 'rage'...</td>\n",
       "      <td>['storm', 'past', 'storm', 'tyrannous', 'rage'...</td>\n",
       "      <td>storm storm rage calm nothing suage afflicts s...</td>\n",
       "      <td>['storm', 'storm', 'rage', 'calm', 'nothing', ...</td>\n",
       "      <td>serious</td>\n",
       "      <td>negative</td>\n",
       "      <td>['rage', 'calm', 'block', 'plays', 'the', 'use...</td>\n",
       "      <td>['tyrannous', 'stupid', 'more', 'ended', 'tack...</td>\n",
       "      <td>['negative', 'negative', 'negative', 'negative...</td>\n",
       "    </tr>\n",
       "    <tr>\n",
       "      <th>49</th>\n",
       "      <td>JOHN DONNE</td>\n",
       "      <td>Where, like a pillow on a bed\\n         A preg...</td>\n",
       "      <td>The Ecstasy</td>\n",
       "      <td>Renaissance</td>\n",
       "      <td>Nature</td>\n",
       "      <td>Where  like a pillow on a bed           A preg...</td>\n",
       "      <td>['where', 'like', 'a', 'pillow', 'on', 'a', 'b...</td>\n",
       "      <td>['like', 'pillow', 'bed', 'pregnant', 'bank', ...</td>\n",
       "      <td>['like', 'pillow', 'bed', 'pregnant', 'bank', ...</td>\n",
       "      <td>bed bank swell violet head hand thence spring ...</td>\n",
       "      <td>['bed', 'bank', 'swell', 'violet', 'head', 'ha...</td>\n",
       "      <td>serious</td>\n",
       "      <td>positive</td>\n",
       "      <td>['swell', 'head', 'balm', 'string', 'fate', 'v...</td>\n",
       "      <td>['pregnant', 'reclining', 'fast', 'double', 'e...</td>\n",
       "      <td>['negative', 'positive', 'positive', 'positive...</td>\n",
       "    </tr>\n",
       "  </tbody>\n",
       "</table>\n",
       "</div>"
      ],
      "text/plain": [
       "               author                                            content  \\\n",
       "45  SIR PHILIP SIDNEY  With how sad steps, O Moon, thou climb'st the ...   \n",
       "46  SIR PHILIP SIDNEY  When Nature made her chief work, Stella's eyes...   \n",
       "47         JOHN DONNE  Come live with me, and be my love,\\nAnd we wil...   \n",
       "48         JOHN DONNE  Our storm is past, and that storm's tyrannous ...   \n",
       "49         JOHN DONNE  Where, like a pillow on a bed\\n         A preg...   \n",
       "\n",
       "                                            poem name          age    type  \\\n",
       "45  Astrophil and Stella 31: With how sad steps, O...  Renaissance  Nature   \n",
       "46  Astrophil and Stella 7: When Nature made her c...  Renaissance  Nature   \n",
       "47                                           The Bait  Renaissance  Nature   \n",
       "48                                           The Calm  Renaissance  Nature   \n",
       "49                                        The Ecstasy  Renaissance  Nature   \n",
       "\n",
       "                                        clean_content  \\\n",
       "45  With how sad steps  O Moon  thou climb st the ...   \n",
       "46  When Nature made her chief work  Stella s eyes...   \n",
       "47  Come live with me  and be my love   And we wil...   \n",
       "48  Our storm is past  and that storm s tyrannous ...   \n",
       "49  Where  like a pillow on a bed           A preg...   \n",
       "\n",
       "                                    tok_clean_content  \\\n",
       "45  ['with', 'how', 'sad', 'steps', 'o', 'moon', '...   \n",
       "46  ['when', 'nature', 'made', 'her', 'chief', 'wo...   \n",
       "47  ['come', 'live', 'with', 'me', 'and', 'be', 'm...   \n",
       "48  ['our', 'storm', 'is', 'past', 'and', 'that', ...   \n",
       "49  ['where', 'like', 'a', 'pillow', 'on', 'a', 'b...   \n",
       "\n",
       "                                 nostop_clean_content  \\\n",
       "45  ['sad', 'steps', 'moon', 'climb', 'st', 'skies...   \n",
       "46  ['nature', 'made', 'chief', 'work', 'stella', ...   \n",
       "47  ['come', 'live', 'love', 'new', 'pleasures', '...   \n",
       "48  ['storm', 'past', 'storm', 'tyrannous', 'rage'...   \n",
       "49  ['like', 'pillow', 'bed', 'pregnant', 'bank', ...   \n",
       "\n",
       "                                   lemmatized_content  \\\n",
       "45  ['sad', 'step', 'moon', 'climb', 'st', 'sky', ...   \n",
       "46  ['nature', 'made', 'chief', 'work', 'stella', ...   \n",
       "47  ['come', 'live', 'love', 'new', 'pleasure', 'p...   \n",
       "48  ['storm', 'past', 'storm', 'tyrannous', 'rage'...   \n",
       "49  ['like', 'pillow', 'bed', 'pregnant', 'bank', ...   \n",
       "\n",
       "                                            all_nouns  \\\n",
       "45  step moon climb st sky face place try sure lov...   \n",
       "46  nature work stella eye wrapt beam bright paint...   \n",
       "47  pleasure sand crystal brook line silver hook r...   \n",
       "48  storm storm rage calm nothing suage afflicts s...   \n",
       "49  bed bank swell violet head hand thence spring ...   \n",
       "\n",
       "                                        tok_all_nouns sentiment_detailed  \\\n",
       "45  ['step', 'moon', 'climb', 'st', 'sky', 'face',...                sad   \n",
       "46  ['nature', 'work', 'stella', 'eye', 'wrapt', '...             devout   \n",
       "47  ['pleasure', 'sand', 'crystal', 'brook', 'line...             devout   \n",
       "48  ['storm', 'storm', 'rage', 'calm', 'nothing', ...            serious   \n",
       "49  ['bed', 'bank', 'swell', 'violet', 'head', 'ha...            serious   \n",
       "\n",
       "   sentiment                                          dep_nouns  \\\n",
       "45  negative      ['steps', 'archer', 'arrows', 'eyes', 'love']   \n",
       "46  positive  ['work', 'colour', 'black', 'hue', 'object', '...   \n",
       "47  positive  ['pleasures', 'sands', 'brooks', 'run', 'bath'...   \n",
       "48  negative  ['rage', 'calm', 'block', 'plays', 'the', 'use...   \n",
       "49  positive  ['swell', 'head', 'balm', 'string', 'fate', 'v...   \n",
       "\n",
       "                                             dep_adjs  \\\n",
       "45  ['sad', 'busy', 'sharp', 'acquainted', 'consta...   \n",
       "46  ['black', 'beamy', 'sober', 'best', 'brave', '...   \n",
       "47  ['new', 'golden', 'crystal', 'Warm', 'live', '...   \n",
       "48  ['tyrannous', 'stupid', 'more', 'ended', 'tack...   \n",
       "49  ['pregnant', 'reclining', 'fast', 'double', 'e...   \n",
       "\n",
       "                                              adj_tag  \n",
       "45  ['negative', 'negative', 'negative', 'positive...  \n",
       "46  ['negative', 'positive', 'negative', 'positive...  \n",
       "47  ['positive', 'positive', 'positive', 'positive...  \n",
       "48  ['negative', 'negative', 'negative', 'negative...  \n",
       "49  ['negative', 'positive', 'positive', 'positive...  "
      ]
     },
     "execution_count": 1,
     "metadata": {},
     "output_type": "execute_result"
    }
   ],
   "source": [
    "# import functions\n",
    "import re\n",
    "import pandas as pd\n",
    "import string\n",
    "import numpy as np\n",
    "import nltk\n",
    "from nltk import pos_tag\n",
    "from nltk.tag import StanfordNERTagger\n",
    "from nltk.corpus import stopwords\n",
    "from nltk.tokenize import word_tokenize\n",
    "from sklearn.feature_extraction.text import CountVectorizer\n",
    "from sklearn.decomposition import TruncatedSVD, SparsePCA\n",
    "from sklearn.ensemble import RandomForestClassifier\n",
    "from sklearn.feature_extraction.text import TfidfVectorizer\n",
    "from sklearn.pipeline import Pipeline\n",
    "from sklearn.metrics import classification_report, confusion_matrix\n",
    "from sklearn.model_selection import train_test_split\n",
    "from sklearn import metrics\n",
    "from sklearn.metrics import accuracy_score, confusion_matrix, classification_report\n",
    "from sklearn.model_selection import KFold #for K-fold cross validation\n",
    "from sklearn.model_selection import cross_val_score #score evaluation\n",
    "from sklearn.model_selection import cross_val_predict #prediction\n",
    "from sklearn.model_selection import GridSearchCV # for Hyper parameter tuning\n",
    "\n",
    "renaissance = pd.read_csv('/Users/jojoli/Documents/夏校申请:项目制作/英才计划/正式培养/english/datasets/renaissance_adj-tagged.csv')\n",
    "re_unfeatured = renaissance.head(50)\n",
    "re_featured = renaissance.head(50)\n",
    "re_featured.tail()\n",
    "# print(type(re_featured['adj_tag'][0]))"
   ]
  },
  {
   "cell_type": "code",
   "execution_count": 2,
   "metadata": {},
   "outputs": [
    {
     "data": {
      "text/html": [
       "<div>\n",
       "<style scoped>\n",
       "    .dataframe tbody tr th:only-of-type {\n",
       "        vertical-align: middle;\n",
       "    }\n",
       "\n",
       "    .dataframe tbody tr th {\n",
       "        vertical-align: top;\n",
       "    }\n",
       "\n",
       "    .dataframe thead th {\n",
       "        text-align: right;\n",
       "    }\n",
       "</style>\n",
       "<table border=\"1\" class=\"dataframe\">\n",
       "  <thead>\n",
       "    <tr style=\"text-align: right;\">\n",
       "      <th></th>\n",
       "      <th>author</th>\n",
       "      <th>content</th>\n",
       "      <th>poem name</th>\n",
       "      <th>age</th>\n",
       "      <th>type</th>\n",
       "      <th>clean_content</th>\n",
       "      <th>tok_clean_content</th>\n",
       "      <th>nostop_clean_content</th>\n",
       "      <th>lemmatized_content</th>\n",
       "      <th>all_nouns</th>\n",
       "      <th>tok_all_nouns</th>\n",
       "      <th>sentiment_detailed</th>\n",
       "      <th>sentiment</th>\n",
       "      <th>dep_nouns</th>\n",
       "      <th>dep_adjs</th>\n",
       "      <th>adj_tag</th>\n",
       "    </tr>\n",
       "  </thead>\n",
       "  <tbody>\n",
       "    <tr>\n",
       "      <th>0</th>\n",
       "      <td>WILLIAM SHAKESPEARE</td>\n",
       "      <td>Let the bird of loudest lay\\nOn the sole Arabi...</td>\n",
       "      <td>The Phoenix and the Turtle</td>\n",
       "      <td>Renaissance</td>\n",
       "      <td>Mythology &amp; Folklore</td>\n",
       "      <td>Let the bird of loudest lay  On the sole Arabi...</td>\n",
       "      <td>['let', 'the', 'bird', 'of', 'loudest', 'lay',...</td>\n",
       "      <td>['let', 'bird', 'loudest', 'lay', 'sole', 'ara...</td>\n",
       "      <td>['let', 'bird', 'loudest', 'lay', 'sole', 'ara...</td>\n",
       "      <td>bird lay tree herald trumpet chaste harbinger ...</td>\n",
       "      <td>['bird', 'lay', 'tree', 'herald', 'trumpet', '...</td>\n",
       "      <td>didactic</td>\n",
       "      <td>positive</td>\n",
       "      <td>['bird', 'sad', 'tree', 'wings', 'precurrer', ...</td>\n",
       "      <td>['loudest', 'sole', 'chaste', 'fiend', 'wing',...</td>\n",
       "      <td>['negative', 'negative', 'positive', 'negative...</td>\n",
       "    </tr>\n",
       "    <tr>\n",
       "      <th>1</th>\n",
       "      <td>DUCHESS OF NEWCASTLE MARGARET CAVENDISH</td>\n",
       "      <td>Sir Charles into my chamber coming in,\\nWhen I...</td>\n",
       "      <td>An Epilogue to the Above</td>\n",
       "      <td>Renaissance</td>\n",
       "      <td>Mythology &amp; Folklore</td>\n",
       "      <td>Sir Charles into my chamber coming in   When I...</td>\n",
       "      <td>['sir', 'charles', 'into', 'my', 'chamber', 'c...</td>\n",
       "      <td>['sir', 'charles', 'chamber', 'coming', 'writi...</td>\n",
       "      <td>['sir', 'charles', 'chamber', 'coming', 'writi...</td>\n",
       "      <td>sir charles fairy queen hewhen queen mab servi...</td>\n",
       "      <td>['sir', 'charles', 'fairy', 'queen', 'hewhen',...</td>\n",
       "      <td>storytelling</td>\n",
       "      <td>positive</td>\n",
       "      <td>['report', 'Both', 'court', 'garment', 'service']</td>\n",
       "      <td>['loud', 'beauty', 'stately', 'thin', 'humble']</td>\n",
       "      <td>['negative', 'positive', 'positive', 'positive...</td>\n",
       "    </tr>\n",
       "    <tr>\n",
       "      <th>2</th>\n",
       "      <td>THOMAS BASTARD</td>\n",
       "      <td>Our vice runs beyond all that old men saw,\\nAn...</td>\n",
       "      <td>Book 7, Epigram 42</td>\n",
       "      <td>Renaissance</td>\n",
       "      <td>Mythology &amp; Folklore</td>\n",
       "      <td>Our vice runs beyond all that old men saw   An...</td>\n",
       "      <td>['our', 'vice', 'runs', 'beyond', 'all', 'that...</td>\n",
       "      <td>['vice', 'runs', 'beyond', 'old', 'men', 'saw'...</td>\n",
       "      <td>['vice', 'run', 'beyond', 'old', 'men', 'saw',...</td>\n",
       "      <td>vice men law mean sits extreme circe monster h...</td>\n",
       "      <td>['vice', 'men', 'law', 'mean', 'sits', 'extrem...</td>\n",
       "      <td>bitter</td>\n",
       "      <td>negative</td>\n",
       "      <td>['men', 'mean', 'extreme', 'filthiness', 'Circ...</td>\n",
       "      <td>['old', 'golden', 'high', 'feigned', 'filthine...</td>\n",
       "      <td>['negative', 'positive', 'positive', 'negative...</td>\n",
       "    </tr>\n",
       "    <tr>\n",
       "      <th>3</th>\n",
       "      <td>RICHARD BARNFIELD</td>\n",
       "      <td>Long have I longd to see my love againe,\\nStil...</td>\n",
       "      <td>Sonnet 16</td>\n",
       "      <td>Renaissance</td>\n",
       "      <td>Mythology &amp; Folklore</td>\n",
       "      <td>Long have I longd to see my love againe   Stil...</td>\n",
       "      <td>['long', 'have', 'i', 'longd', 'to', 'see', 'm...</td>\n",
       "      <td>['long', 'longd', 'see', 'love', 'againe', 'st...</td>\n",
       "      <td>['long', 'longd', 'see', 'love', 'againe', 'st...</td>\n",
       "      <td>longd againe world gaine day see countenaunce ...</td>\n",
       "      <td>['longd', 'againe', 'world', 'gaine', 'day', '...</td>\n",
       "      <td>sad</td>\n",
       "      <td>negative</td>\n",
       "      <td>['gaine', 'countenaunce', 'continuance', 'what...</td>\n",
       "      <td>['precious', 'sterne', 'long', 'continuance', ...</td>\n",
       "      <td>['positive', 'negative', 'negative', 'negative...</td>\n",
       "    </tr>\n",
       "    <tr>\n",
       "      <th>4</th>\n",
       "      <td>RICHARD BARNFIELD</td>\n",
       "      <td>Cherry-lipt Adonis in his snowie shape,\\n    M...</td>\n",
       "      <td>Sonnet 17</td>\n",
       "      <td>Renaissance</td>\n",
       "      <td>Mythology &amp; Folklore</td>\n",
       "      <td>Cherry lipt Adonis in his snowie shape       M...</td>\n",
       "      <td>['cherry', 'lipt', 'adonis', 'in', 'his', 'sno...</td>\n",
       "      <td>['cherry', 'lipt', 'adonis', 'snowie', 'shape'...</td>\n",
       "      <td>['cherry', 'lipt', 'adonis', 'snowie', 'shape'...</td>\n",
       "      <td>cherry lipt adonis snowie shape faire front po...</td>\n",
       "      <td>['cherry', 'lipt', 'adonis', 'snowie', 'shape'...</td>\n",
       "      <td>sad</td>\n",
       "      <td>negative</td>\n",
       "      <td>['ivorie', 'red', 'grape', 'limbs', 'eies', 't...</td>\n",
       "      <td>['white', 'roseate', 'crimson', 'soft', 'framd...</td>\n",
       "      <td>['negative', 'positive', 'negative', 'positive...</td>\n",
       "    </tr>\n",
       "  </tbody>\n",
       "</table>\n",
       "</div>"
      ],
      "text/plain": [
       "                                    author  \\\n",
       "0                      WILLIAM SHAKESPEARE   \n",
       "1  DUCHESS OF NEWCASTLE MARGARET CAVENDISH   \n",
       "2                           THOMAS BASTARD   \n",
       "3                        RICHARD BARNFIELD   \n",
       "4                        RICHARD BARNFIELD   \n",
       "\n",
       "                                             content  \\\n",
       "0  Let the bird of loudest lay\\nOn the sole Arabi...   \n",
       "1  Sir Charles into my chamber coming in,\\nWhen I...   \n",
       "2  Our vice runs beyond all that old men saw,\\nAn...   \n",
       "3  Long have I longd to see my love againe,\\nStil...   \n",
       "4  Cherry-lipt Adonis in his snowie shape,\\n    M...   \n",
       "\n",
       "                    poem name          age                  type  \\\n",
       "0  The Phoenix and the Turtle  Renaissance  Mythology & Folklore   \n",
       "1    An Epilogue to the Above  Renaissance  Mythology & Folklore   \n",
       "2          Book 7, Epigram 42  Renaissance  Mythology & Folklore   \n",
       "3                   Sonnet 16  Renaissance  Mythology & Folklore   \n",
       "4                   Sonnet 17  Renaissance  Mythology & Folklore   \n",
       "\n",
       "                                       clean_content  \\\n",
       "0  Let the bird of loudest lay  On the sole Arabi...   \n",
       "1  Sir Charles into my chamber coming in   When I...   \n",
       "2  Our vice runs beyond all that old men saw   An...   \n",
       "3  Long have I longd to see my love againe   Stil...   \n",
       "4  Cherry lipt Adonis in his snowie shape       M...   \n",
       "\n",
       "                                   tok_clean_content  \\\n",
       "0  ['let', 'the', 'bird', 'of', 'loudest', 'lay',...   \n",
       "1  ['sir', 'charles', 'into', 'my', 'chamber', 'c...   \n",
       "2  ['our', 'vice', 'runs', 'beyond', 'all', 'that...   \n",
       "3  ['long', 'have', 'i', 'longd', 'to', 'see', 'm...   \n",
       "4  ['cherry', 'lipt', 'adonis', 'in', 'his', 'sno...   \n",
       "\n",
       "                                nostop_clean_content  \\\n",
       "0  ['let', 'bird', 'loudest', 'lay', 'sole', 'ara...   \n",
       "1  ['sir', 'charles', 'chamber', 'coming', 'writi...   \n",
       "2  ['vice', 'runs', 'beyond', 'old', 'men', 'saw'...   \n",
       "3  ['long', 'longd', 'see', 'love', 'againe', 'st...   \n",
       "4  ['cherry', 'lipt', 'adonis', 'snowie', 'shape'...   \n",
       "\n",
       "                                  lemmatized_content  \\\n",
       "0  ['let', 'bird', 'loudest', 'lay', 'sole', 'ara...   \n",
       "1  ['sir', 'charles', 'chamber', 'coming', 'writi...   \n",
       "2  ['vice', 'run', 'beyond', 'old', 'men', 'saw',...   \n",
       "3  ['long', 'longd', 'see', 'love', 'againe', 'st...   \n",
       "4  ['cherry', 'lipt', 'adonis', 'snowie', 'shape'...   \n",
       "\n",
       "                                           all_nouns  \\\n",
       "0  bird lay tree herald trumpet chaste harbinger ...   \n",
       "1  sir charles fairy queen hewhen queen mab servi...   \n",
       "2  vice men law mean sits extreme circe monster h...   \n",
       "3  longd againe world gaine day see countenaunce ...   \n",
       "4  cherry lipt adonis snowie shape faire front po...   \n",
       "\n",
       "                                       tok_all_nouns sentiment_detailed  \\\n",
       "0  ['bird', 'lay', 'tree', 'herald', 'trumpet', '...           didactic   \n",
       "1  ['sir', 'charles', 'fairy', 'queen', 'hewhen',...       storytelling   \n",
       "2  ['vice', 'men', 'law', 'mean', 'sits', 'extrem...             bitter   \n",
       "3  ['longd', 'againe', 'world', 'gaine', 'day', '...                sad   \n",
       "4  ['cherry', 'lipt', 'adonis', 'snowie', 'shape'...                sad   \n",
       "\n",
       "  sentiment                                          dep_nouns  \\\n",
       "0  positive  ['bird', 'sad', 'tree', 'wings', 'precurrer', ...   \n",
       "1  positive  ['report', 'Both', 'court', 'garment', 'service']   \n",
       "2  negative  ['men', 'mean', 'extreme', 'filthiness', 'Circ...   \n",
       "3  negative  ['gaine', 'countenaunce', 'continuance', 'what...   \n",
       "4  negative  ['ivorie', 'red', 'grape', 'limbs', 'eies', 't...   \n",
       "\n",
       "                                            dep_adjs  \\\n",
       "0  ['loudest', 'sole', 'chaste', 'fiend', 'wing',...   \n",
       "1    ['loud', 'beauty', 'stately', 'thin', 'humble']   \n",
       "2  ['old', 'golden', 'high', 'feigned', 'filthine...   \n",
       "3  ['precious', 'sterne', 'long', 'continuance', ...   \n",
       "4  ['white', 'roseate', 'crimson', 'soft', 'framd...   \n",
       "\n",
       "                                             adj_tag  \n",
       "0  ['negative', 'negative', 'positive', 'negative...  \n",
       "1  ['negative', 'positive', 'positive', 'positive...  \n",
       "2  ['negative', 'positive', 'positive', 'negative...  \n",
       "3  ['positive', 'negative', 'negative', 'negative...  \n",
       "4  ['negative', 'positive', 'negative', 'positive...  "
      ]
     },
     "execution_count": 2,
     "metadata": {},
     "output_type": "execute_result"
    }
   ],
   "source": [
    "re_unfeatured.head()"
   ]
  },
  {
   "cell_type": "markdown",
   "metadata": {},
   "source": [
    "## Feature extraction"
   ]
  },
  {
   "cell_type": "markdown",
   "metadata": {},
   "source": [
    "### Text-based features"
   ]
  },
  {
   "cell_type": "code",
   "execution_count": 3,
   "metadata": {},
   "outputs": [],
   "source": [
    "eliza_stw = ['adieu', 'anon', 'attend', 'aye', 'but soft', 'doth', \"e'en\", \"e'er\", 'haply', 'hence', 'hither', 'sirrah', 'thee', 'thither', 'thou', 'thou art', 'thy', 'whence', 'wilt', 'withal', 'hath']\n",
    "stw = stopwords.words('english') + eliza_stw\n",
    "\n",
    "def count_words(text):\n",
    "    return len(str(text).split())\n",
    "\n",
    "def count_uniquewords(text):\n",
    "    return len(set(str(text).split()))\n",
    "\n",
    "def count_chars(text):\n",
    "    return len(str(text))\n",
    "\n",
    "def word_density(text):\n",
    "    return count_chars(text) / (count_words(text) + 1)\n",
    "\n",
    "def count_stopwords(text):\n",
    "    stopwords = [word for word in str(text).split() if word in stw]\n",
    "    return len(stopwords)\n",
    "\n",
    "def count_puncts(text):\n",
    "    puncts = re.findall('[' + string.punctuation + ']' + '\\n' + '\\r', str(text))\n",
    "    return len(puncts)\n",
    "\n",
    "def count_upperwords(text):\n",
    "    upperwords = re.findall(r\"\\b[A-Z0-9]+\\b\", str(text))\n",
    "    return len(upperwords)\n",
    "\n",
    "def count_lines(text):\n",
    "    lines = 0\n",
    "    for i in text:\n",
    "        if i == '\\n':\n",
    "            lines = lines + 1\n",
    "    return lines + 1\n",
    "\n",
    "def count_num_positive_imagery(text):\n",
    "    cnt = 0\n",
    "    for each in text:\n",
    "        if each == 'p':\n",
    "            cnt+=1\n",
    "    all = count_num_all_imagery(text)\n",
    "    return cnt / all\n",
    "\n",
    "def count_num_negative_imagery(text):\n",
    "    cnt = 0\n",
    "    for each in text:\n",
    "        if each == 'n':\n",
    "            cnt+=1\n",
    "    all = count_num_all_imagery(text)\n",
    "    if (all != 0):\n",
    "        return cnt / all\n",
    "    else:\n",
    "        return 0.5\n",
    "\n",
    "def count_num_all_imagery(text):\n",
    "    cnt = 1\n",
    "    for each in text:\n",
    "        if (each == \",\"):\n",
    "            cnt += 1\n",
    "    return cnt"
   ]
  },
  {
   "cell_type": "markdown",
   "metadata": {},
   "source": [
    "### NLP-based features"
   ]
  },
  {
   "cell_type": "code",
   "execution_count": 4,
   "metadata": {},
   "outputs": [],
   "source": [
    "pos_dic = {\n",
    "    \"NN\" : \"noun\", \"NNS\" : \"noun\", \"NNP\": \"noun\", \"NNPS\" : \"noun\",\n",
    "    \"PRP\" : \"pron\", \"PRP$\" : \"pron\", \"WP\" : \"pron\", \"WP$\" : \"pron\",\n",
    "    \"VB\" : \"verb\", \"VBD\" : \"verb\", \"VBG\" : \"verb\", \"VBN\" : \"verb\", \"VBP\" : \"verb\", \"VBZ\": \"verb\",\n",
    "    \"JJ\" : \"adj\", \"JJR\" : \"adj\", \"JJS\" : \"adj\",\n",
    "    \"RB\"  : \"adv\", \"RBR\" : \"adv\", \"RBS\" : \"adv\", \"WRB\" : \"adj\"\n",
    "}\n",
    "\n",
    "def count_tag_noun(text):\n",
    "    pos_counts = 0\n",
    "    for each in pos_tag(str(text).split()):\n",
    "        if each[1] == 'NN' or each[1] == 'NNP' or each[1] == 'NNPS' or each[1] == 'NNS':\n",
    "            pos_counts = pos_counts + 1\n",
    "    return pos_counts\n",
    "\n",
    "def count_tag_pron(text):\n",
    "    pos_counts = 0\n",
    "    for each in pos_tag(str(text).split()):\n",
    "        if each[1] == 'PRP' or each[1] == 'PRP$' or each[1] == 'WP' or each[1] == 'WP$':\n",
    "            pos_counts = pos_counts + 1\n",
    "    return pos_counts\n",
    "\n",
    "def count_tag_verb(text):\n",
    "    pos_counts = 0\n",
    "    for each in pos_tag(str(text).split()):\n",
    "        if each[1] == 'VB' or each[1] == 'VBD' or each[1] == 'VBG' or each[1] == 'VBN' or each[1] == 'VBP' or each[1] == 'VBZ':\n",
    "            pos_counts = pos_counts + 1\n",
    "    return pos_counts\n",
    "\n",
    "def count_tag_adj(text):\n",
    "    pos_counts = 0\n",
    "    for each in pos_tag(str(text).split()):\n",
    "        if each[1] == 'JJ' or each[1] == 'JJR' or each[1] == 'JJS':\n",
    "            pos_counts = pos_counts + 1\n",
    "    return pos_counts\n",
    "\n",
    "def count_tag_adv(text):\n",
    "    pos_counts = 0\n",
    "    for each in pos_tag(str(text).split()):\n",
    "        if each[1] == 'RB' or each[1] == 'RBR' or each[1] == 'RBS' or each[1] == 'WRB':\n",
    "            pos_counts = pos_counts + 1\n",
    "    return pos_counts"
   ]
  },
  {
   "cell_type": "code",
   "execution_count": null,
   "metadata": {},
   "outputs": [],
   "source": []
  },
  {
   "cell_type": "markdown",
   "metadata": {},
   "source": [
    "## Train Model Without Feature Engineering"
   ]
  },
  {
   "cell_type": "code",
   "execution_count": 5,
   "metadata": {},
   "outputs": [
    {
     "name": "stdout",
     "output_type": "stream",
     "text": [
      "(50, 3516)\n"
     ]
    }
   ],
   "source": [
    "# Using TF-IDF\n",
    "vectorizer = TfidfVectorizer()\n",
    "re_unfeatured_text = vectorizer.fit_transform(re_unfeatured['lemmatized_content']).toarray()\n",
    "print(re_unfeatured_text.shape)"
   ]
  },
  {
   "cell_type": "code",
   "execution_count": 6,
   "metadata": {},
   "outputs": [],
   "source": [
    "re_unfeatured_tfidf = pd.DataFrame(re_unfeatured_text)\n",
    "re_unfeatured_targeted = re_unfeatured.sentiment\n",
    "X_train_reu, X_test_reu, y_train_reu, y_test_reu = train_test_split(re_unfeatured_tfidf, re_unfeatured_targeted ,test_size=0.3, random_state=42)"
   ]
  },
  {
   "cell_type": "markdown",
   "metadata": {},
   "source": [
    "### Random Forest"
   ]
  },
  {
   "cell_type": "code",
   "execution_count": 7,
   "metadata": {},
   "outputs": [
    {
     "name": "stdout",
     "output_type": "stream",
     "text": [
      "              precision    recall  f1-score   support\n",
      "\n",
      "    negative       0.71      0.45      0.56        11\n",
      "    positive       0.25      0.50      0.33         4\n",
      "\n",
      "    accuracy                           0.47        15\n",
      "   macro avg       0.48      0.48      0.44        15\n",
      "weighted avg       0.59      0.47      0.50        15\n",
      "\n",
      "--------------The Accuracy of the model----------------------------\n",
      "Accuracy of Random Forest on test set: 0.46666667\n"
     ]
    },
    {
     "data": {
      "text/plain": [
       "Text(0.5, 1.05, 'Confusion_matrix')"
      ]
     },
     "execution_count": 7,
     "metadata": {},
     "output_type": "execute_result"
    },
    {
     "data": {
      "image/png": "[encoded data removed]",
      "text/plain": [
       "<Figure size 432x288 with 2 Axes>"
      ]
     },
     "metadata": {
      "needs_background": "light"
     },
     "output_type": "display_data"
    }
   ],
   "source": [
    "import seaborn as sns\n",
    "import matplotlib.pyplot as plt\n",
    "\n",
    "umodel1 = RandomForestClassifier(criterion='gini', n_estimators=700,\n",
    "                             min_samples_split=10,min_samples_leaf=1,\n",
    "                             max_features='auto',oob_score=True,\n",
    "                             random_state=1,n_jobs=-1)\n",
    "umodel1.fit(X_train_reu, y_train_reu)\n",
    "y_pred_rm1 = umodel1.predict(X_test_reu)\n",
    "print(metrics.classification_report(y_pred_rm1, y_test_reu))\n",
    "print('--------------The Accuracy of the model----------------------------')\n",
    "print('Accuracy of Random Forest on test set: {:.8f}'.format(accuracy_score(y_pred_rm1, y_test_reu)))\n",
    "\n",
    "sns.heatmap(confusion_matrix(y_test_reu,y_pred_rm1),annot=True,fmt='3.0f',cmap=\"summer\")\n",
    "plt.title('Confusion_matrix', y=1.05, size=15)"
   ]
  },
  {
   "cell_type": "markdown",
   "metadata": {},
   "source": [
    "### Multinomial Naive Bayes"
   ]
  },
  {
   "cell_type": "code",
   "execution_count": 8,
   "metadata": {},
   "outputs": [
    {
     "name": "stdout",
     "output_type": "stream",
     "text": [
      "              precision    recall  f1-score   support\n",
      "\n",
      "    negative       0.14      0.33      0.20         3\n",
      "    positive       0.75      0.50      0.60        12\n",
      "\n",
      "    accuracy                           0.47        15\n",
      "   macro avg       0.45      0.42      0.40        15\n",
      "weighted avg       0.63      0.47      0.52        15\n",
      "\n",
      "--------------The Accuracy of the model----------------------------\n",
      "Accuracy of Multinomial Naive Bayes on test set: 0.46666667\n"
     ]
    },
    {
     "data": {
      "text/plain": [
       "Text(0.5, 1.05, 'Confusion_matrix')"
      ]
     },
     "execution_count": 8,
     "metadata": {},
     "output_type": "execute_result"
    },
    {
     "data": {
      "image/png": "[encoded data removed]",
      "text/plain": [
       "<Figure size 432x288 with 2 Axes>"
      ]
     },
     "metadata": {
      "needs_background": "light"
     },
     "output_type": "display_data"
    }
   ],
   "source": [
    "from sklearn.naive_bayes import MultinomialNB\n",
    "\n",
    "multinomialnb = MultinomialNB()\n",
    "multinomialnb.fit(X_train_reu, y_train_reu)\n",
    "y_pred_rm2 = multinomialnb.predict(X_test_reu)\n",
    "print(metrics.classification_report(y_pred_rm2, y_test_reu))\n",
    "print('--------------The Accuracy of the model----------------------------')\n",
    "print('Accuracy of Multinomial Naive Bayes on test set: {:.8f}'.format(accuracy_score(y_pred_rm2, y_test_reu)))\n",
    "\n",
    "sns.heatmap(confusion_matrix(y_test_reu,y_pred_rm2),annot=True,fmt='3.0f',cmap=\"summer\")\n",
    "plt.title('Confusion_matrix', y=1.05, size=15)"
   ]
  },
  {
   "cell_type": "markdown",
   "metadata": {},
   "source": [
    "### Support Vector Machine (SVM)"
   ]
  },
  {
   "cell_type": "code",
   "execution_count": 9,
   "metadata": {},
   "outputs": [
    {
     "name": "stdout",
     "output_type": "stream",
     "text": [
      "              precision    recall  f1-score   support\n",
      "\n",
      "    negative       0.14      0.33      0.20         3\n",
      "    positive       0.75      0.50      0.60        12\n",
      "\n",
      "    accuracy                           0.47        15\n",
      "   macro avg       0.45      0.42      0.40        15\n",
      "weighted avg       0.63      0.47      0.52        15\n",
      "\n",
      "--------------The Accuracy of the model----------------------------\n",
      "Accuracy of SVM on test set: 0.46666667\n"
     ]
    },
    {
     "data": {
      "text/plain": [
       "Text(0.5, 1.05, 'Confusion_matrix')"
      ]
     },
     "execution_count": 9,
     "metadata": {},
     "output_type": "execute_result"
    },
    {
     "data": {
      "image/png": "[encoded data removed]",
      "text/plain": [
       "<Figure size 432x288 with 2 Axes>"
      ]
     },
     "metadata": {
      "needs_background": "light"
     },
     "output_type": "display_data"
    }
   ],
   "source": [
    "from sklearn.svm import LinearSVC\n",
    "\n",
    "linearsvc = LinearSVC()\n",
    "\n",
    "linearsvc.fit(X_train_reu, y_train_reu)\n",
    "y_pred_rm3 = linearsvc.predict(X_test_reu)\n",
    "print(metrics.classification_report(y_pred_rm3, y_test_reu))\n",
    "print('--------------The Accuracy of the model----------------------------')\n",
    "print('Accuracy of SVM on test set: {:.8f}'.format(accuracy_score(y_pred_rm3, y_test_reu)))\n",
    "\n",
    "sns.heatmap(confusion_matrix(y_test_reu,y_pred_rm3),annot=True,fmt='3.0f',cmap=\"summer\")\n",
    "plt.title('Confusion_matrix', y=1.05, size=15)"
   ]
  },
  {
   "cell_type": "code",
   "execution_count": null,
   "metadata": {},
   "outputs": [],
   "source": []
  },
  {
   "cell_type": "markdown",
   "metadata": {},
   "source": [
    "## Train Model With Feature Engineering"
   ]
  },
  {
   "cell_type": "code",
   "execution_count": 10,
   "metadata": {},
   "outputs": [
    {
     "name": "stderr",
     "output_type": "stream",
     "text": [
      "/var/folders/vd/5g8qdg_17s911457c0s_h84w0000gn/T/ipykernel_49968/4077918113.py:1: SettingWithCopyWarning: \n",
      "A value is trying to be set on a copy of a slice from a DataFrame.\n",
      "Try using .loc[row_indexer,col_indexer] = value instead\n",
      "\n",
      "See the caveats in the documentation: https://pandas.pydata.org/pandas-docs/stable/user_guide/indexing.html#returning-a-view-versus-a-copy\n",
      "  re_featured['word_count'] = re_featured['content'].apply(lambda x:count_words(x))\n",
      "/var/folders/vd/5g8qdg_17s911457c0s_h84w0000gn/T/ipykernel_49968/4077918113.py:2: SettingWithCopyWarning: \n",
      "A value is trying to be set on a copy of a slice from a DataFrame.\n",
      "Try using .loc[row_indexer,col_indexer] = value instead\n",
      "\n",
      "See the caveats in the documentation: https://pandas.pydata.org/pandas-docs/stable/user_guide/indexing.html#returning-a-view-versus-a-copy\n",
      "  re_featured['unique_word_count'] = re_featured['content'].apply(lambda x:count_uniquewords(x))\n",
      "/var/folders/vd/5g8qdg_17s911457c0s_h84w0000gn/T/ipykernel_49968/4077918113.py:3: SettingWithCopyWarning: \n",
      "A value is trying to be set on a copy of a slice from a DataFrame.\n",
      "Try using .loc[row_indexer,col_indexer] = value instead\n",
      "\n",
      "See the caveats in the documentation: https://pandas.pydata.org/pandas-docs/stable/user_guide/indexing.html#returning-a-view-versus-a-copy\n",
      "  re_featured['char_count'] = re_featured['content'].apply(lambda x:count_chars(x))\n",
      "/var/folders/vd/5g8qdg_17s911457c0s_h84w0000gn/T/ipykernel_49968/4077918113.py:4: SettingWithCopyWarning: \n",
      "A value is trying to be set on a copy of a slice from a DataFrame.\n",
      "Try using .loc[row_indexer,col_indexer] = value instead\n",
      "\n",
      "See the caveats in the documentation: https://pandas.pydata.org/pandas-docs/stable/user_guide/indexing.html#returning-a-view-versus-a-copy\n",
      "  re_featured['cal_word_density'] = re_featured['content'].apply(lambda x:word_density(x))\n",
      "/var/folders/vd/5g8qdg_17s911457c0s_h84w0000gn/T/ipykernel_49968/4077918113.py:5: SettingWithCopyWarning: \n",
      "A value is trying to be set on a copy of a slice from a DataFrame.\n",
      "Try using .loc[row_indexer,col_indexer] = value instead\n",
      "\n",
      "See the caveats in the documentation: https://pandas.pydata.org/pandas-docs/stable/user_guide/indexing.html#returning-a-view-versus-a-copy\n",
      "  re_featured['stopword_count'] = re_featured['content'].apply(lambda x:count_stopwords(x))\n",
      "/var/folders/vd/5g8qdg_17s911457c0s_h84w0000gn/T/ipykernel_49968/4077918113.py:6: SettingWithCopyWarning: \n",
      "A value is trying to be set on a copy of a slice from a DataFrame.\n",
      "Try using .loc[row_indexer,col_indexer] = value instead\n",
      "\n",
      "See the caveats in the documentation: https://pandas.pydata.org/pandas-docs/stable/user_guide/indexing.html#returning-a-view-versus-a-copy\n",
      "  re_featured['punct_count'] = re_featured['content'].apply(lambda x:count_puncts(x))\n",
      "/var/folders/vd/5g8qdg_17s911457c0s_h84w0000gn/T/ipykernel_49968/4077918113.py:7: SettingWithCopyWarning: \n",
      "A value is trying to be set on a copy of a slice from a DataFrame.\n",
      "Try using .loc[row_indexer,col_indexer] = value instead\n",
      "\n",
      "See the caveats in the documentation: https://pandas.pydata.org/pandas-docs/stable/user_guide/indexing.html#returning-a-view-versus-a-copy\n",
      "  re_featured['line_count'] = re_featured['content'].apply(lambda x:count_lines(x))\n",
      "/var/folders/vd/5g8qdg_17s911457c0s_h84w0000gn/T/ipykernel_49968/4077918113.py:8: SettingWithCopyWarning: \n",
      "A value is trying to be set on a copy of a slice from a DataFrame.\n",
      "Try using .loc[row_indexer,col_indexer] = value instead\n",
      "\n",
      "See the caveats in the documentation: https://pandas.pydata.org/pandas-docs/stable/user_guide/indexing.html#returning-a-view-versus-a-copy\n",
      "  re_featured['unique_vs_words'] = re_featured['unique_word_count']/re_featured['word_count']\n",
      "/var/folders/vd/5g8qdg_17s911457c0s_h84w0000gn/T/ipykernel_49968/4077918113.py:9: SettingWithCopyWarning: \n",
      "A value is trying to be set on a copy of a slice from a DataFrame.\n",
      "Try using .loc[row_indexer,col_indexer] = value instead\n",
      "\n",
      "See the caveats in the documentation: https://pandas.pydata.org/pandas-docs/stable/user_guide/indexing.html#returning-a-view-versus-a-copy\n",
      "  re_featured['stop_vs_words'] = re_featured['stopword_count']/re_featured['word_count']\n",
      "/var/folders/vd/5g8qdg_17s911457c0s_h84w0000gn/T/ipykernel_49968/4077918113.py:10: SettingWithCopyWarning: \n",
      "A value is trying to be set on a copy of a slice from a DataFrame.\n",
      "Try using .loc[row_indexer,col_indexer] = value instead\n",
      "\n",
      "See the caveats in the documentation: https://pandas.pydata.org/pandas-docs/stable/user_guide/indexing.html#returning-a-view-versus-a-copy\n",
      "  re_featured['upperword_count'] = re_featured['content'].apply(lambda x:count_upperwords(x))\n",
      "/var/folders/vd/5g8qdg_17s911457c0s_h84w0000gn/T/ipykernel_49968/4077918113.py:11: SettingWithCopyWarning: \n",
      "A value is trying to be set on a copy of a slice from a DataFrame.\n",
      "Try using .loc[row_indexer,col_indexer] = value instead\n",
      "\n",
      "See the caveats in the documentation: https://pandas.pydata.org/pandas-docs/stable/user_guide/indexing.html#returning-a-view-versus-a-copy\n",
      "  re_featured['pos_count_noun'] = re_featured['content'].apply(lambda x:count_tag_noun(x))\n",
      "/var/folders/vd/5g8qdg_17s911457c0s_h84w0000gn/T/ipykernel_49968/4077918113.py:12: SettingWithCopyWarning: \n",
      "A value is trying to be set on a copy of a slice from a DataFrame.\n",
      "Try using .loc[row_indexer,col_indexer] = value instead\n",
      "\n",
      "See the caveats in the documentation: https://pandas.pydata.org/pandas-docs/stable/user_guide/indexing.html#returning-a-view-versus-a-copy\n",
      "  re_featured['pos_count_verb'] = re_featured['content'].apply(lambda x:count_tag_verb(x))\n",
      "/var/folders/vd/5g8qdg_17s911457c0s_h84w0000gn/T/ipykernel_49968/4077918113.py:13: SettingWithCopyWarning: \n",
      "A value is trying to be set on a copy of a slice from a DataFrame.\n",
      "Try using .loc[row_indexer,col_indexer] = value instead\n",
      "\n",
      "See the caveats in the documentation: https://pandas.pydata.org/pandas-docs/stable/user_guide/indexing.html#returning-a-view-versus-a-copy\n",
      "  re_featured['pos_count_pron'] = re_featured['content'].apply(lambda x:count_tag_pron(x))\n",
      "/var/folders/vd/5g8qdg_17s911457c0s_h84w0000gn/T/ipykernel_49968/4077918113.py:14: SettingWithCopyWarning: \n",
      "A value is trying to be set on a copy of a slice from a DataFrame.\n",
      "Try using .loc[row_indexer,col_indexer] = value instead\n",
      "\n",
      "See the caveats in the documentation: https://pandas.pydata.org/pandas-docs/stable/user_guide/indexing.html#returning-a-view-versus-a-copy\n",
      "  re_featured['pos_count_adj'] = re_featured['content'].apply(lambda x:count_tag_adj(x))\n",
      "/var/folders/vd/5g8qdg_17s911457c0s_h84w0000gn/T/ipykernel_49968/4077918113.py:15: SettingWithCopyWarning: \n",
      "A value is trying to be set on a copy of a slice from a DataFrame.\n",
      "Try using .loc[row_indexer,col_indexer] = value instead\n",
      "\n",
      "See the caveats in the documentation: https://pandas.pydata.org/pandas-docs/stable/user_guide/indexing.html#returning-a-view-versus-a-copy\n",
      "  re_featured['pos_count_adv'] = re_featured['content'].apply(lambda x:count_tag_adv(x))\n",
      "/var/folders/vd/5g8qdg_17s911457c0s_h84w0000gn/T/ipykernel_49968/4077918113.py:16: SettingWithCopyWarning: \n",
      "A value is trying to be set on a copy of a slice from a DataFrame.\n",
      "Try using .loc[row_indexer,col_indexer] = value instead\n",
      "\n",
      "See the caveats in the documentation: https://pandas.pydata.org/pandas-docs/stable/user_guide/indexing.html#returning-a-view-versus-a-copy\n",
      "  re_featured['count_positive'] = re_featured['adj_tag'].apply(lambda x:count_num_positive_imagery(x))\n",
      "/var/folders/vd/5g8qdg_17s911457c0s_h84w0000gn/T/ipykernel_49968/4077918113.py:17: SettingWithCopyWarning: \n",
      "A value is trying to be set on a copy of a slice from a DataFrame.\n",
      "Try using .loc[row_indexer,col_indexer] = value instead\n",
      "\n",
      "See the caveats in the documentation: https://pandas.pydata.org/pandas-docs/stable/user_guide/indexing.html#returning-a-view-versus-a-copy\n",
      "  re_featured['count_negative'] = re_featured['adj_tag'].apply(lambda x:count_num_negative_imagery(x))\n"
     ]
    },
    {
     "data": {
      "text/html": [
       "<div>\n",
       "<style scoped>\n",
       "    .dataframe tbody tr th:only-of-type {\n",
       "        vertical-align: middle;\n",
       "    }\n",
       "\n",
       "    .dataframe tbody tr th {\n",
       "        vertical-align: top;\n",
       "    }\n",
       "\n",
       "    .dataframe thead th {\n",
       "        text-align: right;\n",
       "    }\n",
       "</style>\n",
       "<table border=\"1\" class=\"dataframe\">\n",
       "  <thead>\n",
       "    <tr style=\"text-align: right;\">\n",
       "      <th></th>\n",
       "      <th>author</th>\n",
       "      <th>content</th>\n",
       "      <th>poem name</th>\n",
       "      <th>age</th>\n",
       "      <th>type</th>\n",
       "      <th>clean_content</th>\n",
       "      <th>tok_clean_content</th>\n",
       "      <th>nostop_clean_content</th>\n",
       "      <th>lemmatized_content</th>\n",
       "      <th>all_nouns</th>\n",
       "      <th>...</th>\n",
       "      <th>unique_vs_words</th>\n",
       "      <th>stop_vs_words</th>\n",
       "      <th>upperword_count</th>\n",
       "      <th>pos_count_noun</th>\n",
       "      <th>pos_count_verb</th>\n",
       "      <th>pos_count_pron</th>\n",
       "      <th>pos_count_adj</th>\n",
       "      <th>pos_count_adv</th>\n",
       "      <th>count_positive</th>\n",
       "      <th>count_negative</th>\n",
       "    </tr>\n",
       "  </thead>\n",
       "  <tbody>\n",
       "    <tr>\n",
       "      <th>0</th>\n",
       "      <td>WILLIAM SHAKESPEARE</td>\n",
       "      <td>Let the bird of loudest lay\\nOn the sole Arabi...</td>\n",
       "      <td>The Phoenix and the Turtle</td>\n",
       "      <td>Renaissance</td>\n",
       "      <td>Mythology &amp; Folklore</td>\n",
       "      <td>Let the bird of loudest lay  On the sole Arabi...</td>\n",
       "      <td>['let', 'the', 'bird', 'of', 'loudest', 'lay',...</td>\n",
       "      <td>['let', 'bird', 'loudest', 'lay', 'sole', 'ara...</td>\n",
       "      <td>['let', 'bird', 'loudest', 'lay', 'sole', 'ara...</td>\n",
       "      <td>bird lay tree herald trumpet chaste harbinger ...</td>\n",
       "      <td>...</td>\n",
       "      <td>0.699717</td>\n",
       "      <td>0.334278</td>\n",
       "      <td>0</td>\n",
       "      <td>128</td>\n",
       "      <td>48</td>\n",
       "      <td>17</td>\n",
       "      <td>34</td>\n",
       "      <td>17</td>\n",
       "      <td>0.555556</td>\n",
       "      <td>0.444444</td>\n",
       "    </tr>\n",
       "    <tr>\n",
       "      <th>1</th>\n",
       "      <td>DUCHESS OF NEWCASTLE MARGARET CAVENDISH</td>\n",
       "      <td>Sir Charles into my chamber coming in,\\nWhen I...</td>\n",
       "      <td>An Epilogue to the Above</td>\n",
       "      <td>Renaissance</td>\n",
       "      <td>Mythology &amp; Folklore</td>\n",
       "      <td>Sir Charles into my chamber coming in   When I...</td>\n",
       "      <td>['sir', 'charles', 'into', 'my', 'chamber', 'c...</td>\n",
       "      <td>['sir', 'charles', 'chamber', 'coming', 'writi...</td>\n",
       "      <td>['sir', 'charles', 'chamber', 'coming', 'writi...</td>\n",
       "      <td>sir charles fairy queen hewhen queen mab servi...</td>\n",
       "      <td>...</td>\n",
       "      <td>0.743119</td>\n",
       "      <td>0.302752</td>\n",
       "      <td>8</td>\n",
       "      <td>35</td>\n",
       "      <td>22</td>\n",
       "      <td>19</td>\n",
       "      <td>6</td>\n",
       "      <td>3</td>\n",
       "      <td>0.800000</td>\n",
       "      <td>0.200000</td>\n",
       "    </tr>\n",
       "    <tr>\n",
       "      <th>2</th>\n",
       "      <td>THOMAS BASTARD</td>\n",
       "      <td>Our vice runs beyond all that old men saw,\\nAn...</td>\n",
       "      <td>Book 7, Epigram 42</td>\n",
       "      <td>Renaissance</td>\n",
       "      <td>Mythology &amp; Folklore</td>\n",
       "      <td>Our vice runs beyond all that old men saw   An...</td>\n",
       "      <td>['our', 'vice', 'runs', 'beyond', 'all', 'that...</td>\n",
       "      <td>['vice', 'runs', 'beyond', 'old', 'men', 'saw'...</td>\n",
       "      <td>['vice', 'run', 'beyond', 'old', 'men', 'saw',...</td>\n",
       "      <td>vice men law mean sits extreme circe monster h...</td>\n",
       "      <td>...</td>\n",
       "      <td>0.796610</td>\n",
       "      <td>0.322034</td>\n",
       "      <td>0</td>\n",
       "      <td>19</td>\n",
       "      <td>7</td>\n",
       "      <td>5</td>\n",
       "      <td>6</td>\n",
       "      <td>2</td>\n",
       "      <td>0.400000</td>\n",
       "      <td>0.600000</td>\n",
       "    </tr>\n",
       "    <tr>\n",
       "      <th>3</th>\n",
       "      <td>RICHARD BARNFIELD</td>\n",
       "      <td>Long have I longd to see my love againe,\\nStil...</td>\n",
       "      <td>Sonnet 16</td>\n",
       "      <td>Renaissance</td>\n",
       "      <td>Mythology &amp; Folklore</td>\n",
       "      <td>Long have I longd to see my love againe   Stil...</td>\n",
       "      <td>['long', 'have', 'i', 'longd', 'to', 'see', 'm...</td>\n",
       "      <td>['long', 'longd', 'see', 'love', 'againe', 'st...</td>\n",
       "      <td>['long', 'longd', 'see', 'love', 'againe', 'st...</td>\n",
       "      <td>longd againe world gaine day see countenaunce ...</td>\n",
       "      <td>...</td>\n",
       "      <td>0.706897</td>\n",
       "      <td>0.284483</td>\n",
       "      <td>10</td>\n",
       "      <td>36</td>\n",
       "      <td>26</td>\n",
       "      <td>18</td>\n",
       "      <td>6</td>\n",
       "      <td>7</td>\n",
       "      <td>0.200000</td>\n",
       "      <td>0.800000</td>\n",
       "    </tr>\n",
       "    <tr>\n",
       "      <th>4</th>\n",
       "      <td>RICHARD BARNFIELD</td>\n",
       "      <td>Cherry-lipt Adonis in his snowie shape,\\n    M...</td>\n",
       "      <td>Sonnet 17</td>\n",
       "      <td>Renaissance</td>\n",
       "      <td>Mythology &amp; Folklore</td>\n",
       "      <td>Cherry lipt Adonis in his snowie shape       M...</td>\n",
       "      <td>['cherry', 'lipt', 'adonis', 'in', 'his', 'sno...</td>\n",
       "      <td>['cherry', 'lipt', 'adonis', 'snowie', 'shape'...</td>\n",
       "      <td>['cherry', 'lipt', 'adonis', 'snowie', 'shape'...</td>\n",
       "      <td>cherry lipt adonis snowie shape faire front po...</td>\n",
       "      <td>...</td>\n",
       "      <td>0.851485</td>\n",
       "      <td>0.227723</td>\n",
       "      <td>0</td>\n",
       "      <td>42</td>\n",
       "      <td>15</td>\n",
       "      <td>10</td>\n",
       "      <td>9</td>\n",
       "      <td>4</td>\n",
       "      <td>0.500000</td>\n",
       "      <td>0.500000</td>\n",
       "    </tr>\n",
       "  </tbody>\n",
       "</table>\n",
       "<p>5 rows × 33 columns</p>\n",
       "</div>"
      ],
      "text/plain": [
       "                                    author  \\\n",
       "0                      WILLIAM SHAKESPEARE   \n",
       "1  DUCHESS OF NEWCASTLE MARGARET CAVENDISH   \n",
       "2                           THOMAS BASTARD   \n",
       "3                        RICHARD BARNFIELD   \n",
       "4                        RICHARD BARNFIELD   \n",
       "\n",
       "                                             content  \\\n",
       "0  Let the bird of loudest lay\\nOn the sole Arabi...   \n",
       "1  Sir Charles into my chamber coming in,\\nWhen I...   \n",
       "2  Our vice runs beyond all that old men saw,\\nAn...   \n",
       "3  Long have I longd to see my love againe,\\nStil...   \n",
       "4  Cherry-lipt Adonis in his snowie shape,\\n    M...   \n",
       "\n",
       "                    poem name          age                  type  \\\n",
       "0  The Phoenix and the Turtle  Renaissance  Mythology & Folklore   \n",
       "1    An Epilogue to the Above  Renaissance  Mythology & Folklore   \n",
       "2          Book 7, Epigram 42  Renaissance  Mythology & Folklore   \n",
       "3                   Sonnet 16  Renaissance  Mythology & Folklore   \n",
       "4                   Sonnet 17  Renaissance  Mythology & Folklore   \n",
       "\n",
       "                                       clean_content  \\\n",
       "0  Let the bird of loudest lay  On the sole Arabi...   \n",
       "1  Sir Charles into my chamber coming in   When I...   \n",
       "2  Our vice runs beyond all that old men saw   An...   \n",
       "3  Long have I longd to see my love againe   Stil...   \n",
       "4  Cherry lipt Adonis in his snowie shape       M...   \n",
       "\n",
       "                                   tok_clean_content  \\\n",
       "0  ['let', 'the', 'bird', 'of', 'loudest', 'lay',...   \n",
       "1  ['sir', 'charles', 'into', 'my', 'chamber', 'c...   \n",
       "2  ['our', 'vice', 'runs', 'beyond', 'all', 'that...   \n",
       "3  ['long', 'have', 'i', 'longd', 'to', 'see', 'm...   \n",
       "4  ['cherry', 'lipt', 'adonis', 'in', 'his', 'sno...   \n",
       "\n",
       "                                nostop_clean_content  \\\n",
       "0  ['let', 'bird', 'loudest', 'lay', 'sole', 'ara...   \n",
       "1  ['sir', 'charles', 'chamber', 'coming', 'writi...   \n",
       "2  ['vice', 'runs', 'beyond', 'old', 'men', 'saw'...   \n",
       "3  ['long', 'longd', 'see', 'love', 'againe', 'st...   \n",
       "4  ['cherry', 'lipt', 'adonis', 'snowie', 'shape'...   \n",
       "\n",
       "                                  lemmatized_content  \\\n",
       "0  ['let', 'bird', 'loudest', 'lay', 'sole', 'ara...   \n",
       "1  ['sir', 'charles', 'chamber', 'coming', 'writi...   \n",
       "2  ['vice', 'run', 'beyond', 'old', 'men', 'saw',...   \n",
       "3  ['long', 'longd', 'see', 'love', 'againe', 'st...   \n",
       "4  ['cherry', 'lipt', 'adonis', 'snowie', 'shape'...   \n",
       "\n",
       "                                           all_nouns  ... unique_vs_words  \\\n",
       "0  bird lay tree herald trumpet chaste harbinger ...  ...        0.699717   \n",
       "1  sir charles fairy queen hewhen queen mab servi...  ...        0.743119   \n",
       "2  vice men law mean sits extreme circe monster h...  ...        0.796610   \n",
       "3  longd againe world gaine day see countenaunce ...  ...        0.706897   \n",
       "4  cherry lipt adonis snowie shape faire front po...  ...        0.851485   \n",
       "\n",
       "  stop_vs_words upperword_count pos_count_noun pos_count_verb pos_count_pron  \\\n",
       "0      0.334278               0            128             48             17   \n",
       "1      0.302752               8             35             22             19   \n",
       "2      0.322034               0             19              7              5   \n",
       "3      0.284483              10             36             26             18   \n",
       "4      0.227723               0             42             15             10   \n",
       "\n",
       "   pos_count_adj  pos_count_adv  count_positive  count_negative  \n",
       "0             34             17        0.555556        0.444444  \n",
       "1              6              3        0.800000        0.200000  \n",
       "2              6              2        0.400000        0.600000  \n",
       "3              6              7        0.200000        0.800000  \n",
       "4              9              4        0.500000        0.500000  \n",
       "\n",
       "[5 rows x 33 columns]"
      ]
     },
     "execution_count": 10,
     "metadata": {},
     "output_type": "execute_result"
    }
   ],
   "source": [
    "re_featured['word_count'] = re_featured['content'].apply(lambda x:count_words(x))\n",
    "re_featured['unique_word_count'] = re_featured['content'].apply(lambda x:count_uniquewords(x))\n",
    "re_featured['char_count'] = re_featured['content'].apply(lambda x:count_chars(x))\n",
    "re_featured['cal_word_density'] = re_featured['content'].apply(lambda x:word_density(x))\n",
    "re_featured['stopword_count'] = re_featured['content'].apply(lambda x:count_stopwords(x))\n",
    "re_featured['punct_count'] = re_featured['content'].apply(lambda x:count_puncts(x))\n",
    "re_featured['line_count'] = re_featured['content'].apply(lambda x:count_lines(x))\n",
    "re_featured['unique_vs_words'] = re_featured['unique_word_count']/re_featured['word_count']\n",
    "re_featured['stop_vs_words'] = re_featured['stopword_count']/re_featured['word_count']\n",
    "re_featured['upperword_count'] = re_featured['content'].apply(lambda x:count_upperwords(x))\n",
    "re_featured['pos_count_noun'] = re_featured['content'].apply(lambda x:count_tag_noun(x))\n",
    "re_featured['pos_count_verb'] = re_featured['content'].apply(lambda x:count_tag_verb(x))\n",
    "re_featured['pos_count_pron'] = re_featured['content'].apply(lambda x:count_tag_pron(x))\n",
    "re_featured['pos_count_adj'] = re_featured['content'].apply(lambda x:count_tag_adj(x))\n",
    "re_featured['pos_count_adv'] = re_featured['content'].apply(lambda x:count_tag_adv(x))\n",
    "re_featured['count_positive'] = re_featured['adj_tag'].apply(lambda x:count_num_positive_imagery(x))\n",
    "re_featured['count_negative'] = re_featured['adj_tag'].apply(lambda x:count_num_negative_imagery(x))\n",
    "\n",
    "re_featured.head(5)"
   ]
  },
  {
   "cell_type": "code",
   "execution_count": 11,
   "metadata": {},
   "outputs": [
    {
     "name": "stdout",
     "output_type": "stream",
     "text": [
      "(50, 3884)\n"
     ]
    }
   ],
   "source": [
    "# # Using TF-IDF\n",
    "vectorizer2 = TfidfVectorizer()\n",
    "re_featured_text = vectorizer2.fit_transform(re_featured['content']).toarray()\n",
    "print(re_featured_text.shape)"
   ]
  },
  {
   "cell_type": "code",
   "execution_count": 12,
   "metadata": {},
   "outputs": [],
   "source": [
    "re_featured_tfidf = pd.DataFrame(re_featured_text)\n",
    "re_featured_targeted = re_unfeatured.sentiment\n",
    "\"\"\"\n",
    "'word_count', 'unique_word_count', 'char_count',\n",
    "       'cal_word_density', 'stopword_count', 'punct_count',\n",
    "       'line_count', 'unique_vs_words', 'stop_vs_words', 'upperword_count',\n",
    "       'pos_count_noun', 'pos_count_verb', 'pos_count_adj', 'pos_count_pron',\n",
    "       'pos_count_adv',\n",
    "\"\"\"\n",
    "features = ['count_positive', 'count_negative']\n",
    "re_featured_all = pd.merge(re_featured_tfidf,re_featured[features],left_index=True, right_index=True)\n",
    "X_train_ref, X_test_ref, y_train_ref, y_test_ref = train_test_split(re_featured_all, re_featured_targeted ,test_size=0.3, random_state=42)"
   ]
  },
  {
   "cell_type": "markdown",
   "metadata": {},
   "source": [
    "### Random Forest"
   ]
  },
  {
   "cell_type": "code",
   "execution_count": 13,
   "metadata": {},
   "outputs": [
    {
     "name": "stderr",
     "output_type": "stream",
     "text": [
      "/Users/jojoli/miniconda3/lib/python3.8/site-packages/sklearn/utils/validation.py:1688: FutureWarning: Feature names only support names that are all strings. Got feature names with dtypes: ['int', 'str']. An error will be raised in 1.2.\n",
      "  warnings.warn(\n"
     ]
    },
    {
     "name": "stdout",
     "output_type": "stream",
     "text": [
      "              precision    recall  f1-score   support\n",
      "\n",
      "    negative       0.71      0.50      0.59        10\n",
      "    positive       0.38      0.60      0.46         5\n",
      "\n",
      "    accuracy                           0.53        15\n",
      "   macro avg       0.54      0.55      0.52        15\n",
      "weighted avg       0.60      0.53      0.55        15\n",
      "\n",
      "--------------The Accuracy of the model----------------------------\n",
      "Accuracy of Random Forest on test set: 0.53333333\n"
     ]
    },
    {
     "name": "stderr",
     "output_type": "stream",
     "text": [
      "/Users/jojoli/miniconda3/lib/python3.8/site-packages/sklearn/utils/validation.py:1688: FutureWarning: Feature names only support names that are all strings. Got feature names with dtypes: ['int', 'str']. An error will be raised in 1.2.\n",
      "  warnings.warn(\n"
     ]
    },
    {
     "data": {
      "text/plain": [
       "Text(0.5, 1.05, 'Confusion_matrix')"
      ]
     },
     "execution_count": 13,
     "metadata": {},
     "output_type": "execute_result"
    },
    {
     "data": {
      "image/png": "[encoded data removed]",
      "text/plain": [
       "<Figure size 432x288 with 2 Axes>"
      ]
     },
     "metadata": {
      "needs_background": "light"
     },
     "output_type": "display_data"
    }
   ],
   "source": [
    "# Random Forest\n",
    "import seaborn as sns\n",
    "import matplotlib.pyplot as plt\n",
    "\n",
    "fmodel1 = RandomForestClassifier(criterion='gini', n_estimators=700,\n",
    "                             min_samples_split=10,min_samples_leaf=1,\n",
    "                             max_features='auto',oob_score=True,\n",
    "                             random_state=1,n_jobs=-1)\n",
    "fmodel1.fit(X_train_ref, y_train_ref)\n",
    "y_pred_rm4 = fmodel1.predict(X_test_ref)\n",
    "print(metrics.classification_report(y_pred_rm4, y_test_ref))\n",
    "print('--------------The Accuracy of the model----------------------------')\n",
    "print('Accuracy of Random Forest on test set: {:.8f}'.format(accuracy_score(y_pred_rm4, y_test_ref)))\n",
    "\n",
    "sns.heatmap(confusion_matrix(y_test_ref,y_pred_rm4),annot=True,fmt='3.0f',cmap=\"summer\")\n",
    "plt.title('Confusion_matrix', y=1.05, size=15)"
   ]
  },
  {
   "cell_type": "markdown",
   "metadata": {},
   "source": [
    "### Multinomial Naive Bayes"
   ]
  },
  {
   "cell_type": "code",
   "execution_count": 14,
   "metadata": {},
   "outputs": [
    {
     "name": "stdout",
     "output_type": "stream",
     "text": [
      "              precision    recall  f1-score   support\n",
      "\n",
      "    negative       0.14      1.00      0.25         1\n",
      "    positive       1.00      0.57      0.73        14\n",
      "\n",
      "    accuracy                           0.60        15\n",
      "   macro avg       0.57      0.79      0.49        15\n",
      "weighted avg       0.94      0.60      0.70        15\n",
      "\n",
      "--------------The Accuracy of the model----------------------------\n",
      "Accuracy of Multinomial Naive Bayes on test set: 0.60000000\n"
     ]
    },
    {
     "name": "stderr",
     "output_type": "stream",
     "text": [
      "/Users/jojoli/miniconda3/lib/python3.8/site-packages/sklearn/utils/validation.py:1688: FutureWarning: Feature names only support names that are all strings. Got feature names with dtypes: ['int', 'str']. An error will be raised in 1.2.\n",
      "  warnings.warn(\n",
      "/Users/jojoli/miniconda3/lib/python3.8/site-packages/sklearn/utils/validation.py:1688: FutureWarning: Feature names only support names that are all strings. Got feature names with dtypes: ['int', 'str']. An error will be raised in 1.2.\n",
      "  warnings.warn(\n"
     ]
    },
    {
     "data": {
      "text/plain": [
       "Text(0.5, 1.05, 'Confusion_matrix')"
      ]
     },
     "execution_count": 14,
     "metadata": {},
     "output_type": "execute_result"
    },
    {
     "data": {
      "image/png": "[encoded data removed]",
      "text/plain": [
       "<Figure size 432x288 with 2 Axes>"
      ]
     },
     "metadata": {
      "needs_background": "light"
     },
     "output_type": "display_data"
    }
   ],
   "source": [
    "multinomialnb2 = MultinomialNB()\n",
    "multinomialnb2.fit(X_train_ref, y_train_ref)\n",
    "y_pred_rm5 = multinomialnb2.predict(X_test_ref)\n",
    "print(metrics.classification_report(y_pred_rm5, y_test_ref))\n",
    "print('--------------The Accuracy of the model----------------------------')\n",
    "print('Accuracy of Multinomial Naive Bayes on test set: {:.8f}'.format(accuracy_score(y_pred_rm5, y_test_ref)))\n",
    "\n",
    "sns.heatmap(confusion_matrix(y_test_ref,y_pred_rm5),annot=True,fmt='3.0f',cmap=\"summer\")\n",
    "plt.title('Confusion_matrix', y=1.05, size=15)"
   ]
  },
  {
   "cell_type": "markdown",
   "metadata": {},
   "source": [
    "### Support Vector Machine (SVM)"
   ]
  },
  {
   "cell_type": "code",
   "execution_count": 15,
   "metadata": {},
   "outputs": [
    {
     "name": "stdout",
     "output_type": "stream",
     "text": [
      "              precision    recall  f1-score   support\n",
      "\n",
      "    negative       0.86      0.86      0.86         7\n",
      "    positive       0.88      0.88      0.88         8\n",
      "\n",
      "    accuracy                           0.87        15\n",
      "   macro avg       0.87      0.87      0.87        15\n",
      "weighted avg       0.87      0.87      0.87        15\n",
      "\n",
      "--------------The Accuracy of the model----------------------------\n",
      "Accuracy of SVM on test set: 0.86666667\n"
     ]
    },
    {
     "name": "stderr",
     "output_type": "stream",
     "text": [
      "/Users/jojoli/miniconda3/lib/python3.8/site-packages/sklearn/utils/validation.py:1688: FutureWarning: Feature names only support names that are all strings. Got feature names with dtypes: ['int', 'str']. An error will be raised in 1.2.\n",
      "  warnings.warn(\n",
      "/Users/jojoli/miniconda3/lib/python3.8/site-packages/sklearn/utils/validation.py:1688: FutureWarning: Feature names only support names that are all strings. Got feature names with dtypes: ['int', 'str']. An error will be raised in 1.2.\n",
      "  warnings.warn(\n"
     ]
    },
    {
     "data": {
      "text/plain": [
       "Text(0.5, 1.05, 'Confusion_matrix')"
      ]
     },
     "execution_count": 15,
     "metadata": {},
     "output_type": "execute_result"
    },
    {
     "data": {
      "image/png": "[encoded data removed]",
      "text/plain": [
       "<Figure size 432x288 with 2 Axes>"
      ]
     },
     "metadata": {
      "needs_background": "light"
     },
     "output_type": "display_data"
    }
   ],
   "source": [
    "linearsvc = LinearSVC()\n",
    "\n",
    "linearsvc.fit(X_train_ref, y_train_ref)\n",
    "y_pred_rm6 = linearsvc.predict(X_test_ref)\n",
    "print(metrics.classification_report(y_pred_rm6, y_test_ref))\n",
    "print('--------------The Accuracy of the model----------------------------')\n",
    "print('Accuracy of SVM on test set: {:.8f}'.format(accuracy_score(y_pred_rm6, y_test_ref)))\n",
    "\n",
    "sns.heatmap(confusion_matrix(y_test_ref,y_pred_rm2),annot=True,fmt='3.0f',cmap=\"summer\")\n",
    "plt.title('Confusion_matrix', y=1.05, size=15)"
   ]
  },
  {
   "cell_type": "code",
   "execution_count": 41,
   "metadata": {},
   "outputs": [],
   "source": [
    "re_featured.to_csv(\"/Users/jojoli/Documents/夏校申请:项目制作/英才计划/正式培养/english/datasets/renaissance_featured.csv\")"
   ]
  },
  {
   "cell_type": "markdown",
   "metadata": {},
   "source": []
  },
  {
   "cell_type": "markdown",
   "metadata": {},
   "source": [
    "## Coreference Resolution + Feature Engineering"
   ]
  },
  {
   "cell_type": "code",
   "execution_count": 18,
   "metadata": {},
   "outputs": [],
   "source": [
    "# 是否可以在coreference resolution的基础上进行feature engineering\n",
    "# Add the number of positive and negative imageries according to the results in\n",
    "    # coreference resolution to feature engineering and then train with the same models\n",
    "# 存储标注：https://blog.csdn.net/Itsme_MrJJ/article/details/123830831"
   ]
  },
  {
   "cell_type": "code",
   "execution_count": 20,
   "metadata": {},
   "outputs": [],
   "source": [
    "import functions\n",
    "# Use the last function of en_functions.py and read the csv file\n",
    "# Train model"
   ]
  },
  {
   "cell_type": "code",
   "execution_count": null,
   "metadata": {},
   "outputs": [],
   "source": []
  }
 ],
 "metadata": {
  "kernelspec": {
   "display_name": "Python 3.8.11 ('base')",
   "language": "python",
   "name": "python3"
  },
  "language_info": {
   "codemirror_mode": {
    "name": "ipython",
    "version": 3
   },
   "file_extension": ".py",
   "mimetype": "text/x-python",
   "name": "python",
   "nbconvert_exporter": "python",
   "pygments_lexer": "ipython3",
   "version": "3.8.11"
  },
  "orig_nbformat": 4,
  "vscode": {
   "interpreter": {
    "hash": "fa6335b93832437a7ad6101cee87dd3e9814daa15b714665e121125b2ec0bb3c"
   }
  }
 },
 "nbformat": 4,
 "nbformat_minor": 2
}
