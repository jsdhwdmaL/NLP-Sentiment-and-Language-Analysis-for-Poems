{
 "cells": [
  {
   "attachments": {},
   "cell_type": "markdown",
   "metadata": {},
   "source": [
    "### CoreNLP -- Parsing"
   ]
  },
  {
   "cell_type": "code",
   "execution_count": 1,
   "metadata": {},
   "outputs": [
    {
     "name": "stdout",
     "output_type": "stream",
     "text": [
      "(314, 13)\n",
      "(258, 13)\n"
     ]
    }
   ],
   "source": [
    "import nltk\n",
    "import numpy as np\n",
    "import pandas as pd\n",
    "import string\n",
    "df_renaissance = pd.read_csv('/Users/jojoli/Documents/夏校申请:项目制作/英才计划/正式培养/english/datasets/renaissance_preprocessed.csv')\n",
    "df_modern = pd.read_csv('/Users/jojoli/Documents/夏校申请:项目制作/英才计划/正式培养/english/datasets/modern_preprocessed.csv')\n",
    "print(df_renaissance.shape)\n",
    "print(df_modern.shape)"
   ]
  },
  {
   "cell_type": "code",
   "execution_count": 5,
   "metadata": {},
   "outputs": [],
   "source": [
    "def txt_generate(text, begin, end, name):\n",
    "    temp = text[begin]\n",
    "    for i in range (begin+1, end):\n",
    "        temp = temp + '\\n' +  text[i]\n",
    "    filename = \"/Users/jojoli/Documents/夏校申请:项目制作/英才计划/正式培养/english/datasets/coref/\" + name\n",
    "    with open(filename, 'w') as file_object1:\n",
    "        file_object1.write(temp)\n",
    "\n",
    "# 第1-50首一个一个generate，然后一个一个提取\n",
    "for i in range (1, 52):\n",
    "    temp = \"r\"+str(i)+\".txt\"\n",
    "    txt_generate(df_renaissance['content'], i-1, i, temp)\n"
   ]
  },
  {
   "cell_type": "code",
   "execution_count": 1,
   "metadata": {},
   "outputs": [],
   "source": [
    "# 运行指令：\n",
    "# export CLASSPATH=$CLASSPATH:/Users/jojoli/stanford-corenlp-4.4.0/*:\n",
    "# java -Xmx5g edu.stanford.nlp.pipeline.StanfordCoreNLP -file input.txt"
   ]
  },
  {
   "attachments": {},
   "cell_type": "markdown",
   "metadata": {},
   "source": [
    "### Extract Imageries and Adjectives by Written Functions"
   ]
  },
  {
   "cell_type": "code",
   "execution_count": 1,
   "metadata": {},
   "outputs": [
    {
     "name": "stdout",
     "output_type": "stream",
     "text": [
      "No.1 done.\n",
      "No.2 done.\n",
      "No.3 done.\n",
      "No.4 done.\n",
      "No.5 done.\n",
      "No.6 done.\n",
      "No.7 done.\n",
      "No.8 done.\n",
      "No.9 done.\n",
      "No.10 done.\n",
      "No.11 done.\n",
      "No.12 done.\n",
      "No.13 done.\n",
      "No.14 done.\n",
      "No.15 done.\n",
      "No.16 done.\n",
      "No.17 done.\n",
      "No.18 done.\n",
      "No.19 done.\n",
      "No.20 done.\n",
      "No.21 done.\n",
      "No.22 done.\n",
      "No.23 done.\n",
      "No.24 done.\n",
      "No.25 done.\n",
      "No.26 done.\n",
      "No.27 done.\n",
      "No.28 done.\n",
      "No.29 done.\n",
      "No.30 done.\n",
      "No.31 done.\n",
      "No.32 done.\n",
      "No.33 done.\n",
      "No.34 done.\n",
      "No.35 done.\n",
      "No.36 done.\n",
      "No.37 done.\n",
      "No.38 done.\n",
      "No.39 done.\n",
      "No.40 done.\n",
      "No.41 done.\n",
      "No.42 done.\n",
      "No.43 done.\n",
      "No.44 done.\n",
      "No.45 done.\n",
      "No.46 done.\n",
      "No.47 done.\n",
      "No.48 done.\n",
      "No.49 done.\n",
      "No.50 done.\n",
      "No.51 done.\n",
      "Parsing analysis completed.\n",
      "\n"
     ]
    }
   ],
   "source": [
    "import functions\n",
    "# functions.read_parsing(\"/Users/jojoli/Documents/夏校申请:项目制作/英才计划/正式培养/english/datasets/coref/r3.txt.out\")\n",
    "functions.read_parsing_file()"
   ]
  },
  {
   "attachments": {},
   "cell_type": "markdown",
   "metadata": {},
   "source": [
    "## "
   ]
  }
 ],
 "metadata": {
  "kernelspec": {
   "display_name": "Python 3.8.11 ('base')",
   "language": "python",
   "name": "python3"
  },
  "language_info": {
   "codemirror_mode": {
    "name": "ipython",
    "version": 3
   },
   "file_extension": ".py",
   "mimetype": "text/x-python",
   "name": "python",
   "nbconvert_exporter": "python",
   "pygments_lexer": "ipython3",
   "version": "3.8.11"
  },
  "orig_nbformat": 4,
  "vscode": {
   "interpreter": {
    "hash": "fa6335b93832437a7ad6101cee87dd3e9814daa15b714665e121125b2ec0bb3c"
   }
  }
 },
 "nbformat": 4,
 "nbformat_minor": 2
}
