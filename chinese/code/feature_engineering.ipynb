{
 "cells": [
  {
   "cell_type": "markdown",
   "metadata": {},
   "source": [
    "## Process Files"
   ]
  },
  {
   "cell_type": "code",
   "execution_count": 13,
   "metadata": {},
   "outputs": [
    {
     "data": {
      "text/html": [
       "<div>\n",
       "<style scoped>\n",
       "    .dataframe tbody tr th:only-of-type {\n",
       "        vertical-align: middle;\n",
       "    }\n",
       "\n",
       "    .dataframe tbody tr th {\n",
       "        vertical-align: top;\n",
       "    }\n",
       "\n",
       "    .dataframe thead th {\n",
       "        text-align: right;\n",
       "    }\n",
       "</style>\n",
       "<table border=\"1\" class=\"dataframe\">\n",
       "  <thead>\n",
       "    <tr style=\"text-align: right;\">\n",
       "      <th></th>\n",
       "      <th>type</th>\n",
       "      <th>content</th>\n",
       "      <th>clean_content</th>\n",
       "      <th>nostop_clean_content</th>\n",
       "      <th>all_nouns</th>\n",
       "      <th>sentiment</th>\n",
       "    </tr>\n",
       "  </thead>\n",
       "  <tbody>\n",
       "    <tr>\n",
       "      <th>0</th>\n",
       "      <td>偶题阁下厅</td>\n",
       "      <td>静爱青苔院，深宜白鬓翁。貌将松共瘦，心与竹俱空。暖有低檐日，春多飏幕风。平生闲境界，尽在五言中。</td>\n",
       "      <td>静爱青苔院 深宜白鬓翁 貌将松共瘦 心与竹俱空 暖有低檐日 春多飏幕风 平生闲境界 尽在五言中</td>\n",
       "      <td>静爱青苔院 深宜白鬓翁 貌将松共瘦 心竹俱空 暖有低檐日 春多飏幕风 平生闲境界 尽五言中</td>\n",
       "      <td>['鬓翁', '貌', '心', '竹', '境界', '言']</td>\n",
       "      <td>positive</td>\n",
       "    </tr>\n",
       "    <tr>\n",
       "      <th>1</th>\n",
       "      <td>雪中书怀</td>\n",
       "      <td>腊雪一尺厚，云冻寒顽痴。孤城大泽畔，人疏烟火微。愤悱欲谁语，忧愠不能持。天子号仁圣，任贤如事...</td>\n",
       "      <td>腊雪一尺厚 云冻寒顽痴 孤城大泽畔 人疏烟火微 愤悱欲谁语 忧愠不能持 天子号仁圣 任贤如事...</td>\n",
       "      <td>腊雪一尺厚 云冻寒顽痴 孤城大泽畔 人疏烟火微 愤悱欲语 忧愠不能持 天子号仁圣 任贤如事师...</td>\n",
       "      <td>['云', '泽畔', '人', '烟火', '语', '天子', '号', '事', '师...</td>\n",
       "      <td>positive</td>\n",
       "    </tr>\n",
       "    <tr>\n",
       "      <th>2</th>\n",
       "      <td>随驾游青城</td>\n",
       "      <td>因随八马上仙山，顿隔尘埃物象闲。只恐西追王母宴，却忧难得到人间。</td>\n",
       "      <td>因随八马上仙山 顿隔尘埃物象闲 只恐西追王母宴 却忧难得到人间</td>\n",
       "      <td>随八马上仙山 顿隔尘埃物象闲 只恐西追王母宴 却忧难得到人间</td>\n",
       "      <td>['马上', '仙山', '物象', '宴']</td>\n",
       "      <td>positive</td>\n",
       "    </tr>\n",
       "    <tr>\n",
       "      <th>3</th>\n",
       "      <td>冬夜</td>\n",
       "      <td>羁旅复经冬，瓢空盎亦空。泪流寒枕上，迹绝旧山中。凌结浮萍水，雪和衰柳风。曙光鸡未报，嘹唳两三鸿。</td>\n",
       "      <td>羁旅复经冬 瓢空盎亦空 泪流寒枕上 迹绝旧山中 凌结浮萍水 雪和衰柳风 曙光鸡未报 嘹唳两三鸿</td>\n",
       "      <td>羁旅复经冬 瓢空盎亦空 泪流寒枕上 迹绝旧山中 凌结浮萍水 雪衰柳风 曙光鸡未报 嘹唳两三鸿</td>\n",
       "      <td>['瓢空盎', '泪流', '枕上', '迹', '山中', '水', '雪', '风', ...</td>\n",
       "      <td>negative</td>\n",
       "    </tr>\n",
       "    <tr>\n",
       "      <th>4</th>\n",
       "      <td>酬白乐天杏花园</td>\n",
       "      <td>刘郎不用闲惆怅，且作花间共醉人。算得贞元旧朝士，几人同见太和春。</td>\n",
       "      <td>刘郎不用闲惆怅 且作花间共醉人 算得贞元旧朝士 几人同见太和春</td>\n",
       "      <td>刘郎不用闲惆怅 作花间共醉人 算得贞元旧朝士 几人见太春</td>\n",
       "      <td>['花间', '人']</td>\n",
       "      <td>positive</td>\n",
       "    </tr>\n",
       "  </tbody>\n",
       "</table>\n",
       "</div>"
      ],
      "text/plain": [
       "      type                                            content  \\\n",
       "0    偶题阁下厅   静爱青苔院，深宜白鬓翁。貌将松共瘦，心与竹俱空。暖有低檐日，春多飏幕风。平生闲境界，尽在五言中。   \n",
       "1     雪中书怀  腊雪一尺厚，云冻寒顽痴。孤城大泽畔，人疏烟火微。愤悱欲谁语，忧愠不能持。天子号仁圣，任贤如事...   \n",
       "2    随驾游青城                   因随八马上仙山，顿隔尘埃物象闲。只恐西追王母宴，却忧难得到人间。   \n",
       "3       冬夜   羁旅复经冬，瓢空盎亦空。泪流寒枕上，迹绝旧山中。凌结浮萍水，雪和衰柳风。曙光鸡未报，嘹唳两三鸿。   \n",
       "4  酬白乐天杏花园                   刘郎不用闲惆怅，且作花间共醉人。算得贞元旧朝士，几人同见太和春。   \n",
       "\n",
       "                                       clean_content  \\\n",
       "0    静爱青苔院 深宜白鬓翁 貌将松共瘦 心与竹俱空 暖有低檐日 春多飏幕风 平生闲境界 尽在五言中   \n",
       "1  腊雪一尺厚 云冻寒顽痴 孤城大泽畔 人疏烟火微 愤悱欲谁语 忧愠不能持 天子号仁圣 任贤如事...   \n",
       "2                    因随八马上仙山 顿隔尘埃物象闲 只恐西追王母宴 却忧难得到人间   \n",
       "3    羁旅复经冬 瓢空盎亦空 泪流寒枕上 迹绝旧山中 凌结浮萍水 雪和衰柳风 曙光鸡未报 嘹唳两三鸿   \n",
       "4                    刘郎不用闲惆怅 且作花间共醉人 算得贞元旧朝士 几人同见太和春   \n",
       "\n",
       "                                nostop_clean_content  \\\n",
       "0      静爱青苔院 深宜白鬓翁 貌将松共瘦 心竹俱空 暖有低檐日 春多飏幕风 平生闲境界 尽五言中   \n",
       "1  腊雪一尺厚 云冻寒顽痴 孤城大泽畔 人疏烟火微 愤悱欲语 忧愠不能持 天子号仁圣 任贤如事师...   \n",
       "2                     随八马上仙山 顿隔尘埃物象闲 只恐西追王母宴 却忧难得到人间   \n",
       "3     羁旅复经冬 瓢空盎亦空 泪流寒枕上 迹绝旧山中 凌结浮萍水 雪衰柳风 曙光鸡未报 嘹唳两三鸿   \n",
       "4                       刘郎不用闲惆怅 作花间共醉人 算得贞元旧朝士 几人见太春   \n",
       "\n",
       "                                           all_nouns sentiment  \n",
       "0                   ['鬓翁', '貌', '心', '竹', '境界', '言']  positive  \n",
       "1  ['云', '泽畔', '人', '烟火', '语', '天子', '号', '事', '师...  positive  \n",
       "2                            ['马上', '仙山', '物象', '宴']  positive  \n",
       "3  ['瓢空盎', '泪流', '枕上', '迹', '山中', '水', '雪', '风', ...  negative  \n",
       "4                                        ['花间', '人']  positive  "
      ]
     },
     "execution_count": 13,
     "metadata": {},
     "output_type": "execute_result"
    }
   ],
   "source": [
    "import re\n",
    "import pandas as pd\n",
    "import string\n",
    "import numpy as np\n",
    "import nltk\n",
    "from nltk import pos_tag\n",
    "from nltk.tag import StanfordNERTagger\n",
    "from nltk.corpus import stopwords\n",
    "from nltk.tokenize import word_tokenize\n",
    "from sklearn.feature_extraction.text import CountVectorizer\n",
    "from sklearn.decomposition import TruncatedSVD, SparsePCA\n",
    "from sklearn.ensemble import RandomForestClassifier\n",
    "from sklearn.feature_extraction.text import TfidfVectorizer\n",
    "from sklearn.pipeline import Pipeline\n",
    "from sklearn.metrics import classification_report, confusion_matrix\n",
    "from sklearn.model_selection import train_test_split\n",
    "from sklearn import metrics\n",
    "from sklearn.metrics import accuracy_score, confusion_matrix, classification_report\n",
    "from sklearn.model_selection import KFold #for K-fold cross validation\n",
    "from sklearn.model_selection import cross_val_score #score evaluation\n",
    "from sklearn.model_selection import cross_val_predict #prediction\n",
    "from sklearn.model_selection import GridSearchCV # for Hyper parameter tuning\n",
    "\n",
    "honk = pd.read_csv(\"/Users/jojoli/Documents/夏校申请:项目制作/英才计划/正式培养/chinese/datasets/Tang_Dynasty_adj-tagged.csv\")\n",
    "unfeatured = honk.drop([\"sentiment_detailed\", \"dep_nouns\", \"dep_adjs\", \"adj_tag\"], axis=1)\n",
    "featured = honk.drop([\"sentiment_detailed\"], axis=1)\n",
    "unfeatured.head()"
   ]
  },
  {
   "cell_type": "markdown",
   "metadata": {},
   "source": [
    "## Feature extraction"
   ]
  },
  {
   "cell_type": "code",
   "execution_count": 2,
   "metadata": {},
   "outputs": [],
   "source": [
    "# Initiation\n",
    "\n",
    "from jiayan import load_lm\n",
    "from jiayan import CharHMMTokenizer\n",
    "from jiayan import CRFPOSTagger\n",
    "from jiayan import CRFSentencizer\n",
    "\n",
    "lm = load_lm('/Users/jojoli/jiayan_models/jiayan.klm')\n",
    "postagger = CRFPOSTagger()\n",
    "postagger.load('/Users/jojoli/jiayan_models/pos_model')"
   ]
  },
  {
   "cell_type": "code",
   "execution_count": 3,
   "metadata": {},
   "outputs": [
    {
     "name": "stdout",
     "output_type": "stream",
     "text": [
      "5\n",
      "1\n"
     ]
    },
    {
     "data": {
      "text/plain": [
       "['v', 'nd', 'v', 'n', 'v', 'n', 'd', 'v', 'v', 'u', 'm', 'n', 'd', 'a']"
      ]
     },
     "execution_count": 3,
     "metadata": {},
     "output_type": "execute_result"
    }
   ],
   "source": [
    "def count_words(text):\n",
    "    cnt = len(str(text))\n",
    "    for ch in str(text):\n",
    "        if ch == \" \":\n",
    "            cnt-=1\n",
    "    return cnt\n",
    "\n",
    "def count_stopwords(text):\n",
    "    cnt = 0\n",
    "    ls = postagger.postag(text)\n",
    "    for chr in ls:\n",
    "        if chr == 'p' or chr == 'r' or chr == 'u' or chr == 'c':\n",
    "            cnt+=1\n",
    "    return cnt\n",
    "\n",
    "def count_lines(text):\n",
    "    return len(str(text).split())\n",
    "\n",
    "def count_tag_noun(text):\n",
    "    pos_counts = 0\n",
    "    ls = postagger.postag(text)\n",
    "    for each in ls:\n",
    "        if each == 'b' or each == 'n' or each == 'nd' or each == 'nh' or each == 'ni' or each == 'nl' or each == 'ns' or each == 'nt' or each == 'nz' or each == 'j':\n",
    "            pos_counts+=1\n",
    "    return pos_counts\n",
    "\n",
    "def count_tag_pron(text):\n",
    "    pos_counts = 0\n",
    "    ls = postagger.postag(text)\n",
    "    for each in ls:\n",
    "        if each == 'r':\n",
    "            pos_counts+=1\n",
    "    return pos_counts\n",
    "\n",
    "def count_tag_verb(text):\n",
    "    pos_counts = 0\n",
    "    ls = postagger.postag(text)\n",
    "    for each in ls:\n",
    "        if each == 'v':\n",
    "            pos_counts+=1\n",
    "    return pos_counts\n",
    "\n",
    "def count_tag_adj(text):\n",
    "    pos_counts = 0\n",
    "    ls = postagger.postag(text)\n",
    "    for each in ls:\n",
    "        if each == 'a' or each == 'z':\n",
    "            pos_counts+=1\n",
    "    return pos_counts\n",
    "\n",
    "def count_tag_adv(text):\n",
    "    pos_counts = 0\n",
    "    ls = postagger.postag(text)\n",
    "    for each in ls:\n",
    "        if each == 'd':\n",
    "            pos_counts+=1\n",
    "    return pos_counts\n",
    "\n",
    "def count_num_positive_imagery(text):\n",
    "    cnt = 0\n",
    "    for each in text:\n",
    "        if each == 'p':\n",
    "            cnt+=1\n",
    "    all = count_num_all_imagery(text)\n",
    "    return cnt / all\n",
    "\n",
    "def count_num_negative_imagery(text):\n",
    "    cnt = 0\n",
    "    for each in text:\n",
    "        if each == 'n':\n",
    "            cnt+=1\n",
    "    all = count_num_all_imagery(text)\n",
    "    return cnt / all\n",
    "\n",
    "def count_num_all_imagery(text):\n",
    "    cnt = 1\n",
    "    for each in text:\n",
    "        if (each == \",\"):\n",
    "            cnt += 1\n",
    "    return cnt\n",
    "\n",
    "\n",
    "# Testing\n",
    "print(count_tag_verb(\"砌下落梅如雪乱 拂了一身还满\"))\n",
    "print(count_stopwords(\"砌下落梅如雪乱 拂了一身还满\"))\n",
    "postagger.postag(\"砌下落梅如雪乱 拂了一身还满\")"
   ]
  },
  {
   "cell_type": "markdown",
   "metadata": {},
   "source": [
    "## Train Model Without Feature Engineering"
   ]
  },
  {
   "cell_type": "code",
   "execution_count": 4,
   "metadata": {},
   "outputs": [
    {
     "name": "stdout",
     "output_type": "stream",
     "text": [
      "(30, 347)\n"
     ]
    }
   ],
   "source": [
    "# Using TF-IDF\n",
    "vectorizer = TfidfVectorizer()\n",
    "unfeatured_text = vectorizer.fit_transform(unfeatured['clean_content']).toarray()\n",
    "print(unfeatured_text.shape)"
   ]
  },
  {
   "cell_type": "code",
   "execution_count": 5,
   "metadata": {},
   "outputs": [],
   "source": [
    "unfeatured_tfidf = pd.DataFrame(unfeatured_text)\n",
    "unfeatured_targeted = unfeatured.sentiment\n",
    "X_train_un, X_test_un, y_train_un, y_test_un = train_test_split(unfeatured_tfidf, unfeatured_targeted ,test_size=0.2, random_state=42)"
   ]
  },
  {
   "cell_type": "markdown",
   "metadata": {},
   "source": [
    "### Random Forest"
   ]
  },
  {
   "cell_type": "code",
   "execution_count": 20,
   "metadata": {},
   "outputs": [
    {
     "name": "stdout",
     "output_type": "stream",
     "text": [
      "              precision    recall  f1-score   support\n",
      "\n",
      "    negative       0.00      0.00      0.00         0\n",
      "    positive       1.00      0.67      0.80         6\n",
      "\n",
      "    accuracy                           0.67         6\n",
      "   macro avg       0.50      0.33      0.40         6\n",
      "weighted avg       1.00      0.67      0.80         6\n",
      "\n",
      "--------------The Accuracy of the model----------------------------\n",
      "Accuracy of Random Forest on test set: 0.66666667\n"
     ]
    },
    {
     "name": "stderr",
     "output_type": "stream",
     "text": [
      "/Users/jojoli/miniconda3/lib/python3.8/site-packages/sklearn/metrics/_classification.py:1318: UndefinedMetricWarning: Recall and F-score are ill-defined and being set to 0.0 in labels with no true samples. Use `zero_division` parameter to control this behavior.\n",
      "  _warn_prf(average, modifier, msg_start, len(result))\n",
      "/Users/jojoli/miniconda3/lib/python3.8/site-packages/sklearn/metrics/_classification.py:1318: UndefinedMetricWarning: Recall and F-score are ill-defined and being set to 0.0 in labels with no true samples. Use `zero_division` parameter to control this behavior.\n",
      "  _warn_prf(average, modifier, msg_start, len(result))\n",
      "/Users/jojoli/miniconda3/lib/python3.8/site-packages/sklearn/metrics/_classification.py:1318: UndefinedMetricWarning: Recall and F-score are ill-defined and being set to 0.0 in labels with no true samples. Use `zero_division` parameter to control this behavior.\n",
      "  _warn_prf(average, modifier, msg_start, len(result))\n"
     ]
    },
    {
     "data": {
      "text/plain": [
       "Text(0.5, 1.05, 'Confusion_matrix')"
      ]
     },
     "execution_count": 20,
     "metadata": {},
     "output_type": "execute_result"
    },
    {
     "data": {
      "image/png": "[encoded data removed]",
      "text/plain": [
       "<Figure size 432x288 with 2 Axes>"
      ]
     },
     "metadata": {
      "needs_background": "light"
     },
     "output_type": "display_data"
    }
   ],
   "source": [
    "import seaborn as sns\n",
    "import matplotlib.pyplot as plt\n",
    "\n",
    "umodel1 = RandomForestClassifier(criterion='gini', n_estimators=700,\n",
    "                             min_samples_split=10,min_samples_leaf=1,\n",
    "                             max_features='auto',oob_score=True,\n",
    "                             random_state=1,n_jobs=-1)\n",
    "umodel1.fit(X_train_un, y_train_un)\n",
    "y_pred_rm1 = umodel1.predict(X_test_un)\n",
    "print(metrics.classification_report(y_pred_rm1, y_test_un))\n",
    "print('--------------The Accuracy of the model----------------------------')\n",
    "print('Accuracy of Random Forest on test set: {:.8f}'.format(accuracy_score(y_pred_rm1, y_test_un)))\n",
    "\n",
    "sns.heatmap(confusion_matrix(y_test_un,y_pred_rm1),annot=True,fmt='3.0f',cmap=\"summer\")\n",
    "plt.title('Confusion_matrix', y=1.05, size=15)"
   ]
  },
  {
   "cell_type": "markdown",
   "metadata": {},
   "source": [
    "### Multinomial Naive Bayes"
   ]
  },
  {
   "cell_type": "code",
   "execution_count": 7,
   "metadata": {},
   "outputs": [
    {
     "name": "stdout",
     "output_type": "stream",
     "text": [
      "              precision    recall  f1-score   support\n",
      "\n",
      "    negative       0.00      0.00      0.00         0\n",
      "    positive       1.00      0.67      0.80         6\n",
      "\n",
      "    accuracy                           0.67         6\n",
      "   macro avg       0.50      0.33      0.40         6\n",
      "weighted avg       1.00      0.67      0.80         6\n",
      "\n",
      "--------------The Accuracy of the model----------------------------\n",
      "Accuracy of Multinomial Naive Bayes on test set: 0.66666667\n"
     ]
    },
    {
     "name": "stderr",
     "output_type": "stream",
     "text": [
      "/Users/jojoli/miniconda3/lib/python3.8/site-packages/sklearn/metrics/_classification.py:1318: UndefinedMetricWarning: Recall and F-score are ill-defined and being set to 0.0 in labels with no true samples. Use `zero_division` parameter to control this behavior.\n",
      "  _warn_prf(average, modifier, msg_start, len(result))\n",
      "/Users/jojoli/miniconda3/lib/python3.8/site-packages/sklearn/metrics/_classification.py:1318: UndefinedMetricWarning: Recall and F-score are ill-defined and being set to 0.0 in labels with no true samples. Use `zero_division` parameter to control this behavior.\n",
      "  _warn_prf(average, modifier, msg_start, len(result))\n",
      "/Users/jojoli/miniconda3/lib/python3.8/site-packages/sklearn/metrics/_classification.py:1318: UndefinedMetricWarning: Recall and F-score are ill-defined and being set to 0.0 in labels with no true samples. Use `zero_division` parameter to control this behavior.\n",
      "  _warn_prf(average, modifier, msg_start, len(result))\n"
     ]
    },
    {
     "data": {
      "text/plain": [
       "Text(0.5, 1.05, 'Confusion_matrix')"
      ]
     },
     "execution_count": 7,
     "metadata": {},
     "output_type": "execute_result"
    },
    {
     "data": {
      "image/png": "[encoded data removed]",
      "text/plain": [
       "<Figure size 432x288 with 2 Axes>"
      ]
     },
     "metadata": {
      "needs_background": "light"
     },
     "output_type": "display_data"
    }
   ],
   "source": [
    "from sklearn.naive_bayes import MultinomialNB\n",
    "\n",
    "multinomialnb = MultinomialNB()\n",
    "multinomialnb.fit(X_train_un, y_train_un)\n",
    "y_pred_rm2 = multinomialnb.predict(X_test_un)\n",
    "print(metrics.classification_report(y_pred_rm2, y_test_un))\n",
    "print('--------------The Accuracy of the model----------------------------')\n",
    "print('Accuracy of Multinomial Naive Bayes on test set: {:.8f}'.format(accuracy_score(y_pred_rm2, y_test_un)))\n",
    "\n",
    "sns.heatmap(confusion_matrix(y_test_un,y_pred_rm2),annot=True,fmt='3.0f',cmap=\"summer\")\n",
    "plt.title('Confusion_matrix', y=1.05, size=15)"
   ]
  },
  {
   "cell_type": "markdown",
   "metadata": {},
   "source": [
    "### Support Vector Machine (SVM)"
   ]
  },
  {
   "cell_type": "code",
   "execution_count": 8,
   "metadata": {},
   "outputs": [
    {
     "name": "stdout",
     "output_type": "stream",
     "text": [
      "              precision    recall  f1-score   support\n",
      "\n",
      "    negative       0.00      0.00      0.00         0\n",
      "    positive       1.00      0.67      0.80         6\n",
      "\n",
      "    accuracy                           0.67         6\n",
      "   macro avg       0.50      0.33      0.40         6\n",
      "weighted avg       1.00      0.67      0.80         6\n",
      "\n",
      "--------------The Accuracy of the model----------------------------\n",
      "Accuracy of SVM on test set: 0.66666667\n"
     ]
    },
    {
     "name": "stderr",
     "output_type": "stream",
     "text": [
      "/Users/jojoli/miniconda3/lib/python3.8/site-packages/sklearn/metrics/_classification.py:1318: UndefinedMetricWarning: Recall and F-score are ill-defined and being set to 0.0 in labels with no true samples. Use `zero_division` parameter to control this behavior.\n",
      "  _warn_prf(average, modifier, msg_start, len(result))\n",
      "/Users/jojoli/miniconda3/lib/python3.8/site-packages/sklearn/metrics/_classification.py:1318: UndefinedMetricWarning: Recall and F-score are ill-defined and being set to 0.0 in labels with no true samples. Use `zero_division` parameter to control this behavior.\n",
      "  _warn_prf(average, modifier, msg_start, len(result))\n",
      "/Users/jojoli/miniconda3/lib/python3.8/site-packages/sklearn/metrics/_classification.py:1318: UndefinedMetricWarning: Recall and F-score are ill-defined and being set to 0.0 in labels with no true samples. Use `zero_division` parameter to control this behavior.\n",
      "  _warn_prf(average, modifier, msg_start, len(result))\n"
     ]
    },
    {
     "data": {
      "text/plain": [
       "Text(0.5, 1.05, 'Confusion_matrix')"
      ]
     },
     "execution_count": 8,
     "metadata": {},
     "output_type": "execute_result"
    },
    {
     "data": {
      "image/png": "[encoded data removed]",
      "text/plain": [
       "<Figure size 432x288 with 2 Axes>"
      ]
     },
     "metadata": {
      "needs_background": "light"
     },
     "output_type": "display_data"
    }
   ],
   "source": [
    "from sklearn.svm import LinearSVC\n",
    "\n",
    "linearsvc = LinearSVC()\n",
    "\n",
    "linearsvc.fit(X_train_un, y_train_un)\n",
    "y_pred_rm3 = linearsvc.predict(X_test_un)\n",
    "print(metrics.classification_report(y_pred_rm3, y_test_un))\n",
    "print('--------------The Accuracy of the model----------------------------')\n",
    "print('Accuracy of SVM on test set: {:.8f}'.format(accuracy_score(y_pred_rm3, y_test_un)))\n",
    "\n",
    "sns.heatmap(confusion_matrix(y_test_un,y_pred_rm3),annot=True,fmt='3.0f',cmap=\"summer\")\n",
    "plt.title('Confusion_matrix', y=1.05, size=15)"
   ]
  },
  {
   "cell_type": "code",
   "execution_count": null,
   "metadata": {},
   "outputs": [],
   "source": []
  },
  {
   "cell_type": "markdown",
   "metadata": {},
   "source": [
    "## Train Model With Feature Engineering"
   ]
  },
  {
   "cell_type": "code",
   "execution_count": 14,
   "metadata": {},
   "outputs": [
    {
     "data": {
      "text/html": [
       "<div>\n",
       "<style scoped>\n",
       "    .dataframe tbody tr th:only-of-type {\n",
       "        vertical-align: middle;\n",
       "    }\n",
       "\n",
       "    .dataframe tbody tr th {\n",
       "        vertical-align: top;\n",
       "    }\n",
       "\n",
       "    .dataframe thead th {\n",
       "        text-align: right;\n",
       "    }\n",
       "</style>\n",
       "<table border=\"1\" class=\"dataframe\">\n",
       "  <thead>\n",
       "    <tr style=\"text-align: right;\">\n",
       "      <th></th>\n",
       "      <th>type</th>\n",
       "      <th>content</th>\n",
       "      <th>clean_content</th>\n",
       "      <th>nostop_clean_content</th>\n",
       "      <th>all_nouns</th>\n",
       "      <th>sentiment</th>\n",
       "      <th>dep_nouns</th>\n",
       "      <th>dep_adjs</th>\n",
       "      <th>adj_tag</th>\n",
       "      <th>word_count</th>\n",
       "      <th>stopword_count</th>\n",
       "      <th>line_count</th>\n",
       "      <th>stop_vs_words</th>\n",
       "      <th>pos_count_noun</th>\n",
       "      <th>pos_count_verb</th>\n",
       "      <th>pos_count_pron</th>\n",
       "      <th>pos_count_adj</th>\n",
       "      <th>pos_count_adv</th>\n",
       "      <th>count_positive</th>\n",
       "      <th>count_negative</th>\n",
       "    </tr>\n",
       "  </thead>\n",
       "  <tbody>\n",
       "    <tr>\n",
       "      <th>0</th>\n",
       "      <td>偶题阁下厅</td>\n",
       "      <td>静爱青苔院，深宜白鬓翁。貌将松共瘦，心与竹俱空。暖有低檐日，春多飏幕风。平生闲境界，尽在五言中。</td>\n",
       "      <td>静爱青苔院 深宜白鬓翁 貌将松共瘦 心与竹俱空 暖有低檐日 春多飏幕风 平生闲境界 尽在五言中</td>\n",
       "      <td>静爱青苔院 深宜白鬓翁 貌将松共瘦 心竹俱空 暖有低檐日 春多飏幕风 平生闲境界 尽五言中</td>\n",
       "      <td>['鬓翁', '貌', '心', '竹', '境界', '言']</td>\n",
       "      <td>positive</td>\n",
       "      <td>['青', '苔', '院', '白', '\\t']</td>\n",
       "      <td>['靜', '深', '深', '深', '\\t']</td>\n",
       "      <td>['positive', 'positive', 'positive', 'positive...</td>\n",
       "      <td>40</td>\n",
       "      <td>3</td>\n",
       "      <td>8</td>\n",
       "      <td>0.075000</td>\n",
       "      <td>22</td>\n",
       "      <td>7</td>\n",
       "      <td>0</td>\n",
       "      <td>11</td>\n",
       "      <td>3</td>\n",
       "      <td>1.000000</td>\n",
       "      <td>0.000000</td>\n",
       "    </tr>\n",
       "    <tr>\n",
       "      <th>1</th>\n",
       "      <td>雪中书怀</td>\n",
       "      <td>腊雪一尺厚，云冻寒顽痴。孤城大泽畔，人疏烟火微。愤悱欲谁语，忧愠不能持。天子号仁圣，任贤如事...</td>\n",
       "      <td>腊雪一尺厚 云冻寒顽痴 孤城大泽畔 人疏烟火微 愤悱欲谁语 忧愠不能持 天子号仁圣 任贤如事...</td>\n",
       "      <td>腊雪一尺厚 云冻寒顽痴 孤城大泽畔 人疏烟火微 愤悱欲语 忧愠不能持 天子号仁圣 任贤如事师...</td>\n",
       "      <td>['云', '泽畔', '人', '烟火', '语', '天子', '号', '事', '师...</td>\n",
       "      <td>positive</td>\n",
       "      <td>['\\t', '亭', '障', '师', '盗', '策', '鞭', '，', '肉',...</td>\n",
       "      <td>['\\t', '\\t', '牵', '牵', '不', '长', '如', '不', '一'...</td>\n",
       "      <td>['negative', 'negative', 'positive', 'positive...</td>\n",
       "      <td>160</td>\n",
       "      <td>14</td>\n",
       "      <td>32</td>\n",
       "      <td>0.087500</td>\n",
       "      <td>69</td>\n",
       "      <td>71</td>\n",
       "      <td>8</td>\n",
       "      <td>20</td>\n",
       "      <td>10</td>\n",
       "      <td>0.882353</td>\n",
       "      <td>0.117647</td>\n",
       "    </tr>\n",
       "    <tr>\n",
       "      <th>2</th>\n",
       "      <td>随驾游青城</td>\n",
       "      <td>因随八马上仙山，顿隔尘埃物象闲。只恐西追王母宴，却忧难得到人间。</td>\n",
       "      <td>因随八马上仙山 顿隔尘埃物象闲 只恐西追王母宴 却忧难得到人间</td>\n",
       "      <td>随八马上仙山 顿隔尘埃物象闲 只恐西追王母宴 却忧难得到人间</td>\n",
       "      <td>['马上', '仙山', '物象', '宴']</td>\n",
       "      <td>positive</td>\n",
       "      <td>['馬', '山', '\\t']</td>\n",
       "      <td>['因', '，', '\\t']</td>\n",
       "      <td>['positive', 'positive']</td>\n",
       "      <td>28</td>\n",
       "      <td>2</td>\n",
       "      <td>4</td>\n",
       "      <td>0.071429</td>\n",
       "      <td>17</td>\n",
       "      <td>6</td>\n",
       "      <td>0</td>\n",
       "      <td>2</td>\n",
       "      <td>3</td>\n",
       "      <td>1.000000</td>\n",
       "      <td>0.000000</td>\n",
       "    </tr>\n",
       "    <tr>\n",
       "      <th>3</th>\n",
       "      <td>冬夜</td>\n",
       "      <td>羁旅复经冬，瓢空盎亦空。泪流寒枕上，迹绝旧山中。凌结浮萍水，雪和衰柳风。曙光鸡未报，嘹唳两三鸿。</td>\n",
       "      <td>羁旅复经冬 瓢空盎亦空 泪流寒枕上 迹绝旧山中 凌结浮萍水 雪和衰柳风 曙光鸡未报 嘹唳两三鸿</td>\n",
       "      <td>羁旅复经冬 瓢空盎亦空 泪流寒枕上 迹绝旧山中 凌结浮萍水 雪衰柳风 曙光鸡未报 嘹唳两三鸿</td>\n",
       "      <td>['瓢空盎', '泪流', '枕上', '迹', '山中', '水', '雪', '风', ...</td>\n",
       "      <td>negative</td>\n",
       "      <td>['冬', '\\t']</td>\n",
       "      <td>['复', '\\t']</td>\n",
       "      <td>['negative', 'negative']</td>\n",
       "      <td>40</td>\n",
       "      <td>2</td>\n",
       "      <td>8</td>\n",
       "      <td>0.050000</td>\n",
       "      <td>22</td>\n",
       "      <td>11</td>\n",
       "      <td>0</td>\n",
       "      <td>5</td>\n",
       "      <td>4</td>\n",
       "      <td>0.000000</td>\n",
       "      <td>1.000000</td>\n",
       "    </tr>\n",
       "    <tr>\n",
       "      <th>4</th>\n",
       "      <td>酬白乐天杏花园</td>\n",
       "      <td>刘郎不用闲惆怅，且作花间共醉人。算得贞元旧朝士，几人同见太和春。</td>\n",
       "      <td>刘郎不用闲惆怅 且作花间共醉人 算得贞元旧朝士 几人同见太和春</td>\n",
       "      <td>刘郎不用闲惆怅 作花间共醉人 算得贞元旧朝士 几人见太春</td>\n",
       "      <td>['花间', '人']</td>\n",
       "      <td>positive</td>\n",
       "      <td>['閑', '\\t']</td>\n",
       "      <td>['不', '和']</td>\n",
       "      <td>['positive', 'positive', 'positive']</td>\n",
       "      <td>28</td>\n",
       "      <td>4</td>\n",
       "      <td>4</td>\n",
       "      <td>0.142857</td>\n",
       "      <td>10</td>\n",
       "      <td>7</td>\n",
       "      <td>0</td>\n",
       "      <td>2</td>\n",
       "      <td>5</td>\n",
       "      <td>1.000000</td>\n",
       "      <td>0.000000</td>\n",
       "    </tr>\n",
       "  </tbody>\n",
       "</table>\n",
       "</div>"
      ],
      "text/plain": [
       "      type                                            content  \\\n",
       "0    偶题阁下厅   静爱青苔院，深宜白鬓翁。貌将松共瘦，心与竹俱空。暖有低檐日，春多飏幕风。平生闲境界，尽在五言中。   \n",
       "1     雪中书怀  腊雪一尺厚，云冻寒顽痴。孤城大泽畔，人疏烟火微。愤悱欲谁语，忧愠不能持。天子号仁圣，任贤如事...   \n",
       "2    随驾游青城                   因随八马上仙山，顿隔尘埃物象闲。只恐西追王母宴，却忧难得到人间。   \n",
       "3       冬夜   羁旅复经冬，瓢空盎亦空。泪流寒枕上，迹绝旧山中。凌结浮萍水，雪和衰柳风。曙光鸡未报，嘹唳两三鸿。   \n",
       "4  酬白乐天杏花园                   刘郎不用闲惆怅，且作花间共醉人。算得贞元旧朝士，几人同见太和春。   \n",
       "\n",
       "                                       clean_content  \\\n",
       "0    静爱青苔院 深宜白鬓翁 貌将松共瘦 心与竹俱空 暖有低檐日 春多飏幕风 平生闲境界 尽在五言中   \n",
       "1  腊雪一尺厚 云冻寒顽痴 孤城大泽畔 人疏烟火微 愤悱欲谁语 忧愠不能持 天子号仁圣 任贤如事...   \n",
       "2                    因随八马上仙山 顿隔尘埃物象闲 只恐西追王母宴 却忧难得到人间   \n",
       "3    羁旅复经冬 瓢空盎亦空 泪流寒枕上 迹绝旧山中 凌结浮萍水 雪和衰柳风 曙光鸡未报 嘹唳两三鸿   \n",
       "4                    刘郎不用闲惆怅 且作花间共醉人 算得贞元旧朝士 几人同见太和春   \n",
       "\n",
       "                                nostop_clean_content  \\\n",
       "0      静爱青苔院 深宜白鬓翁 貌将松共瘦 心竹俱空 暖有低檐日 春多飏幕风 平生闲境界 尽五言中   \n",
       "1  腊雪一尺厚 云冻寒顽痴 孤城大泽畔 人疏烟火微 愤悱欲语 忧愠不能持 天子号仁圣 任贤如事师...   \n",
       "2                     随八马上仙山 顿隔尘埃物象闲 只恐西追王母宴 却忧难得到人间   \n",
       "3     羁旅复经冬 瓢空盎亦空 泪流寒枕上 迹绝旧山中 凌结浮萍水 雪衰柳风 曙光鸡未报 嘹唳两三鸿   \n",
       "4                       刘郎不用闲惆怅 作花间共醉人 算得贞元旧朝士 几人见太春   \n",
       "\n",
       "                                           all_nouns sentiment  \\\n",
       "0                   ['鬓翁', '貌', '心', '竹', '境界', '言']  positive   \n",
       "1  ['云', '泽畔', '人', '烟火', '语', '天子', '号', '事', '师...  positive   \n",
       "2                            ['马上', '仙山', '物象', '宴']  positive   \n",
       "3  ['瓢空盎', '泪流', '枕上', '迹', '山中', '水', '雪', '风', ...  negative   \n",
       "4                                        ['花间', '人']  positive   \n",
       "\n",
       "                                           dep_nouns  \\\n",
       "0                         ['青', '苔', '院', '白', '\\t']   \n",
       "1  ['\\t', '亭', '障', '师', '盗', '策', '鞭', '，', '肉',...   \n",
       "2                                   ['馬', '山', '\\t']   \n",
       "3                                        ['冬', '\\t']   \n",
       "4                                        ['閑', '\\t']   \n",
       "\n",
       "                                            dep_adjs  \\\n",
       "0                         ['靜', '深', '深', '深', '\\t']   \n",
       "1  ['\\t', '\\t', '牵', '牵', '不', '长', '如', '不', '一'...   \n",
       "2                                   ['因', '，', '\\t']   \n",
       "3                                        ['复', '\\t']   \n",
       "4                                         ['不', '和']   \n",
       "\n",
       "                                             adj_tag  word_count  \\\n",
       "0  ['positive', 'positive', 'positive', 'positive...          40   \n",
       "1  ['negative', 'negative', 'positive', 'positive...         160   \n",
       "2                           ['positive', 'positive']          28   \n",
       "3                           ['negative', 'negative']          40   \n",
       "4               ['positive', 'positive', 'positive']          28   \n",
       "\n",
       "   stopword_count  line_count  stop_vs_words  pos_count_noun  pos_count_verb  \\\n",
       "0               3           8       0.075000              22               7   \n",
       "1              14          32       0.087500              69              71   \n",
       "2               2           4       0.071429              17               6   \n",
       "3               2           8       0.050000              22              11   \n",
       "4               4           4       0.142857              10               7   \n",
       "\n",
       "   pos_count_pron  pos_count_adj  pos_count_adv  count_positive  \\\n",
       "0               0             11              3        1.000000   \n",
       "1               8             20             10        0.882353   \n",
       "2               0              2              3        1.000000   \n",
       "3               0              5              4        0.000000   \n",
       "4               0              2              5        1.000000   \n",
       "\n",
       "   count_negative  \n",
       "0        0.000000  \n",
       "1        0.117647  \n",
       "2        0.000000  \n",
       "3        1.000000  \n",
       "4        0.000000  "
      ]
     },
     "execution_count": 14,
     "metadata": {},
     "output_type": "execute_result"
    }
   ],
   "source": [
    "featured['word_count'] = featured['clean_content'].apply(lambda x:count_words(x))\n",
    "featured['stopword_count'] = featured['clean_content'].apply(lambda x:count_stopwords(x))\n",
    "featured['line_count'] = featured['clean_content'].apply(lambda x:count_lines(x))\n",
    "featured['stop_vs_words'] = featured['stopword_count']/featured['word_count']\n",
    "featured['pos_count_noun'] = featured['clean_content'].apply(lambda x:count_tag_noun(x))\n",
    "featured['pos_count_verb'] = featured['clean_content'].apply(lambda x:count_tag_verb(x))\n",
    "featured['pos_count_pron'] = featured['clean_content'].apply(lambda x:count_tag_pron(x))\n",
    "featured['pos_count_adj'] = featured['clean_content'].apply(lambda x:count_tag_adj(x))\n",
    "featured['pos_count_adv'] = featured['clean_content'].apply(lambda x:count_tag_adv(x))\n",
    "featured['count_positive'] = featured['adj_tag'].apply(lambda x:count_num_positive_imagery(x))\n",
    "featured['count_negative'] = featured['adj_tag'].apply(lambda x:count_num_negative_imagery(x))\n",
    "\n",
    "featured.head(5)"
   ]
  },
  {
   "cell_type": "code",
   "execution_count": 15,
   "metadata": {},
   "outputs": [
    {
     "name": "stdout",
     "output_type": "stream",
     "text": [
      "(30, 347)\n"
     ]
    }
   ],
   "source": [
    "# Using TF-IDF\n",
    "vectorizer2 = TfidfVectorizer()\n",
    "featured_text = vectorizer2.fit_transform(featured['clean_content']).toarray()\n",
    "print(featured_text.shape)"
   ]
  },
  {
   "cell_type": "code",
   "execution_count": 16,
   "metadata": {},
   "outputs": [],
   "source": [
    "featured_tfidf = pd.DataFrame(featured_text)\n",
    "featured_targeted = featured.sentiment\n",
    "\n",
    "features = ['word_count', 'stopword_count', 'line_count',\n",
    "       'stop_vs_words', 'pos_count_noun', 'pos_count_verb',\n",
    "       'pos_count_adj', 'pos_count_pron', 'pos_count_adv']\n",
    "features.append(\"count_positive\")\n",
    "features.append(\"count_negative\")\n",
    "featured_all = pd.merge(featured_tfidf,featured[features],left_index=True, right_index=True)\n",
    "X_train_ref, X_test_ref, y_train_ref, y_test_ref = train_test_split(featured_all, featured_targeted ,test_size=0.2, random_state=50)"
   ]
  },
  {
   "cell_type": "markdown",
   "metadata": {},
   "source": [
    "### Random Forest"
   ]
  },
  {
   "cell_type": "code",
   "execution_count": 17,
   "metadata": {},
   "outputs": [
    {
     "name": "stderr",
     "output_type": "stream",
     "text": [
      "/Users/jojoli/miniconda3/lib/python3.8/site-packages/sklearn/utils/validation.py:1688: FutureWarning: Feature names only support names that are all strings. Got feature names with dtypes: ['int', 'str']. An error will be raised in 1.2.\n",
      "  warnings.warn(\n"
     ]
    },
    {
     "name": "stdout",
     "output_type": "stream",
     "text": [
      "              precision    recall  f1-score   support\n",
      "\n",
      "    negative       1.00      1.00      1.00         3\n",
      "    positive       1.00      1.00      1.00         3\n",
      "\n",
      "    accuracy                           1.00         6\n",
      "   macro avg       1.00      1.00      1.00         6\n",
      "weighted avg       1.00      1.00      1.00         6\n",
      "\n",
      "--------------The Accuracy of the model----------------------------\n",
      "Accuracy of Random Forest on test set: 1.00000000\n"
     ]
    },
    {
     "name": "stderr",
     "output_type": "stream",
     "text": [
      "/Users/jojoli/miniconda3/lib/python3.8/site-packages/sklearn/utils/validation.py:1688: FutureWarning: Feature names only support names that are all strings. Got feature names with dtypes: ['int', 'str']. An error will be raised in 1.2.\n",
      "  warnings.warn(\n"
     ]
    },
    {
     "data": {
      "text/plain": [
       "Text(0.5, 1.05, 'Confusion_matrix')"
      ]
     },
     "execution_count": 17,
     "metadata": {},
     "output_type": "execute_result"
    },
    {
     "data": {
      "image/png": "[encoded data removed]",
      "text/plain": [
       "<Figure size 432x288 with 2 Axes>"
      ]
     },
     "metadata": {
      "needs_background": "light"
     },
     "output_type": "display_data"
    }
   ],
   "source": [
    "# Random Forest\n",
    "import seaborn as sns\n",
    "import matplotlib.pyplot as plt\n",
    "\n",
    "fmodel1 = RandomForestClassifier(criterion='gini', n_estimators=700,\n",
    "                             min_samples_split=10,min_samples_leaf=1,\n",
    "                             max_features='auto',oob_score=True,\n",
    "                             random_state=1,n_jobs=-1)\n",
    "fmodel1.fit(X_train_ref, y_train_ref)\n",
    "y_pred_rm4 = fmodel1.predict(X_test_ref)\n",
    "print(metrics.classification_report(y_pred_rm4, y_test_ref))\n",
    "print('--------------The Accuracy of the model----------------------------')\n",
    "print('Accuracy of Random Forest on test set: {:.8f}'.format(accuracy_score(y_pred_rm4, y_test_ref)))\n",
    "\n",
    "sns.heatmap(confusion_matrix(y_test_ref,y_pred_rm4),annot=True,fmt='3.0f',cmap=\"summer\")\n",
    "plt.title('Confusion_matrix', y=1.05, size=15)\n"
   ]
  },
  {
   "cell_type": "markdown",
   "metadata": {},
   "source": [
    "### Multinomial Naive Bayes"
   ]
  },
  {
   "cell_type": "code",
   "execution_count": 18,
   "metadata": {},
   "outputs": [
    {
     "name": "stdout",
     "output_type": "stream",
     "text": [
      "              precision    recall  f1-score   support\n",
      "\n",
      "    negative       1.00      0.75      0.86         4\n",
      "    positive       0.67      1.00      0.80         2\n",
      "\n",
      "    accuracy                           0.83         6\n",
      "   macro avg       0.83      0.88      0.83         6\n",
      "weighted avg       0.89      0.83      0.84         6\n",
      "\n",
      "--------------The Accuracy of the model----------------------------\n",
      "Accuracy of Multinomial Naive Bayes on test set: 0.83333333\n"
     ]
    },
    {
     "name": "stderr",
     "output_type": "stream",
     "text": [
      "/Users/jojoli/miniconda3/lib/python3.8/site-packages/sklearn/utils/validation.py:1688: FutureWarning: Feature names only support names that are all strings. Got feature names with dtypes: ['int', 'str']. An error will be raised in 1.2.\n",
      "  warnings.warn(\n",
      "/Users/jojoli/miniconda3/lib/python3.8/site-packages/sklearn/utils/validation.py:1688: FutureWarning: Feature names only support names that are all strings. Got feature names with dtypes: ['int', 'str']. An error will be raised in 1.2.\n",
      "  warnings.warn(\n"
     ]
    },
    {
     "data": {
      "text/plain": [
       "Text(0.5, 1.05, 'Confusion_matrix')"
      ]
     },
     "execution_count": 18,
     "metadata": {},
     "output_type": "execute_result"
    },
    {
     "data": {
      "image/png": "[encoded data removed]",
      "text/plain": [
       "<Figure size 432x288 with 2 Axes>"
      ]
     },
     "metadata": {
      "needs_background": "light"
     },
     "output_type": "display_data"
    }
   ],
   "source": [
    "multinomialnb2 = MultinomialNB()\n",
    "multinomialnb2.fit(X_train_ref, y_train_ref)\n",
    "y_pred_rm5 = multinomialnb2.predict(X_test_ref)\n",
    "print(metrics.classification_report(y_pred_rm5, y_test_ref))\n",
    "print('--------------The Accuracy of the model----------------------------')\n",
    "print('Accuracy of Multinomial Naive Bayes on test set: {:.8f}'.format(accuracy_score(y_pred_rm5, y_test_ref)))\n",
    "\n",
    "sns.heatmap(confusion_matrix(y_test_ref,y_pred_rm5),annot=True,fmt='3.0f',cmap=\"summer\")\n",
    "plt.title('Confusion_matrix', y=1.05, size=15)"
   ]
  },
  {
   "cell_type": "markdown",
   "metadata": {},
   "source": [
    "### Support Vector Machine (SVM)"
   ]
  },
  {
   "cell_type": "code",
   "execution_count": 19,
   "metadata": {},
   "outputs": [
    {
     "name": "stdout",
     "output_type": "stream",
     "text": [
      "              precision    recall  f1-score   support\n",
      "\n",
      "    negative       0.67      1.00      0.80         2\n",
      "    positive       1.00      0.75      0.86         4\n",
      "\n",
      "    accuracy                           0.83         6\n",
      "   macro avg       0.83      0.88      0.83         6\n",
      "weighted avg       0.89      0.83      0.84         6\n",
      "\n",
      "--------------The Accuracy of the model----------------------------\n",
      "Accuracy of SVM on test set: 0.83333333\n"
     ]
    },
    {
     "name": "stderr",
     "output_type": "stream",
     "text": [
      "/Users/jojoli/miniconda3/lib/python3.8/site-packages/sklearn/utils/validation.py:1688: FutureWarning: Feature names only support names that are all strings. Got feature names with dtypes: ['int', 'str']. An error will be raised in 1.2.\n",
      "  warnings.warn(\n",
      "/Users/jojoli/miniconda3/lib/python3.8/site-packages/sklearn/svm/_base.py:1206: ConvergenceWarning: Liblinear failed to converge, increase the number of iterations.\n",
      "  warnings.warn(\n",
      "/Users/jojoli/miniconda3/lib/python3.8/site-packages/sklearn/utils/validation.py:1688: FutureWarning: Feature names only support names that are all strings. Got feature names with dtypes: ['int', 'str']. An error will be raised in 1.2.\n",
      "  warnings.warn(\n"
     ]
    },
    {
     "data": {
      "text/plain": [
       "Text(0.5, 1.05, 'Confusion_matrix')"
      ]
     },
     "execution_count": 19,
     "metadata": {},
     "output_type": "execute_result"
    },
    {
     "data": {
      "image/png": "[encoded data removed]",
      "text/plain": [
       "<Figure size 432x288 with 2 Axes>"
      ]
     },
     "metadata": {
      "needs_background": "light"
     },
     "output_type": "display_data"
    }
   ],
   "source": [
    "linearsvc = LinearSVC()\n",
    "\n",
    "linearsvc.fit(X_train_ref, y_train_ref)\n",
    "y_pred_rm6 = linearsvc.predict(X_test_ref)\n",
    "print(metrics.classification_report(y_pred_rm6, y_test_ref))\n",
    "print('--------------The Accuracy of the model----------------------------')\n",
    "print('Accuracy of SVM on test set: {:.8f}'.format(accuracy_score(y_pred_rm6, y_test_ref)))\n",
    "\n",
    "sns.heatmap(confusion_matrix(y_test_ref,y_pred_rm2),annot=True,fmt='3.0f',cmap=\"summer\")\n",
    "plt.title('Confusion_matrix', y=1.05, size=15)"
   ]
  },
  {
   "cell_type": "code",
   "execution_count": null,
   "metadata": {},
   "outputs": [],
   "source": [
    "featured.to_csv(\"/Users/jojoli/Documents/夏校申请:项目制作/英才计划/正式培养/chinese/datasets/Tang_Dynasty_featured.csv\")"
   ]
  },
  {
   "cell_type": "markdown",
   "metadata": {},
   "source": [
    "## Coreference Resolution + Feature Engineering"
   ]
  },
  {
   "cell_type": "code",
   "execution_count": null,
   "metadata": {},
   "outputs": [],
   "source": [
    "# 是否可以在coreference resolution的基础上进行feature engineering\n",
    "# Add the number of positive and negative imageries according to the results in\n",
    "    # coreference resolution to feature engineering and then train with the same models\n",
    "# 存储标注：https://blog.csdn.net/Itsme_MrJJ/article/details/123830831"
   ]
  },
  {
   "cell_type": "code",
   "execution_count": null,
   "metadata": {},
   "outputs": [],
   "source": [
    "import functions\n",
    "# Use the last function of en_functions.py and read the csv file\n",
    "# Train model"
   ]
  },
  {
   "cell_type": "code",
   "execution_count": null,
   "metadata": {},
   "outputs": [],
   "source": []
  }
 ],
 "metadata": {
  "kernelspec": {
   "display_name": "Python 3.8.11 ('base')",
   "language": "python",
   "name": "python3"
  },
  "language_info": {
   "codemirror_mode": {
    "name": "ipython",
    "version": 3
   },
   "file_extension": ".py",
   "mimetype": "text/x-python",
   "name": "python",
   "nbconvert_exporter": "python",
   "pygments_lexer": "ipython3",
   "version": "3.8.11"
  },
  "orig_nbformat": 4,
  "vscode": {
   "interpreter": {
    "hash": "fa6335b93832437a7ad6101cee87dd3e9814daa15b714665e121125b2ec0bb3c"
   }
  }
 },
 "nbformat": 4,
 "nbformat_minor": 2
}
