{
 "cells": [
  {
   "cell_type": "code",
   "execution_count": 1,
   "metadata": {},
   "outputs": [],
   "source": [
    "# Sources: https://github.com/jiaeyan/Jiayan\n",
    "#          https://github.com/kpu/kenlm"
   ]
  },
  {
   "cell_type": "code",
   "execution_count": 2,
   "metadata": {},
   "outputs": [],
   "source": [
    "import pandas as pd\n",
    "from jiayan import load_lm\n",
    "from jiayan import CharHMMTokenizer\n",
    "from jiayan import CRFPOSTagger\n",
    "from jiayan import CRFSentencizer\n",
    "import numpy as np"
   ]
  },
  {
   "cell_type": "markdown",
   "metadata": {},
   "source": [
    "## An Example of Jiayan\n",
    "### Jiayan POS Tags\n",
    "\n",
    "Tag | Description | Example\n",
    "--- | --- | ---\n",
    "a | adjective | 幽明\n",
    "b | other noun-modifier | 男，女\n",
    "c | conjunction | 与，而\n",
    "d | adverb | 皆\n",
    "e | exclamation | 呜呼\n",
    "g | morpheme | 甥\n",
    "h | prefix | 非\n",
    "i | idiom | 发愤忘食\n",
    "j | abbreviation | 五帝\n",
    "k | suffix | 者\n",
    "m | number | 一，百\n",
    "n | general noun | 鬼神，山川\n",
    "nd | direction noun | 东，西，南，北\n",
    "nh | person name | 轩辕\n",
    "ni | organization name | 辽队\n",
    "nl | location noun | 城北\n",
    "ns | geographical name | 襄平县\n",
    "nt | temporal noun | 春，夏，秋，冬\n",
    "nz | other proper noun | 山海经\n",
    "o | onomatopoeia | 呜呜\n",
    "p | preposition | 以，为\n",
    "q | quantity | 年，岁\n",
    "r | pronoun | 其，斯\n",
    "u | auxiliary | 之，所\n",
    "v | verb | 赐\n",
    "wp | punctuation | ，。！\n",
    "ws | foreign words | CPU\n",
    "x | non-lexeme | 萄, 翱\n",
    "z | descriptive words | 默然，区区"
   ]
  },
  {
   "cell_type": "code",
   "execution_count": 3,
   "metadata": {},
   "outputs": [
    {
     "name": "stdout",
     "output_type": "stream",
     "text": [
      "['别来', '春', '半', '，', '触目', '柔', '肠断', '。', '砌下', '落梅', '如雪', '乱', '，', '拂', '了一', '身', '还', '满', '。', '雁来', '音信', '无', '凭', '，', '路遥', '归', '梦难成', '。', '离恨', '恰如', '春草', '，', '更', '行', '更远', '还', '生', '。']\n",
      "\n",
      " ['nh', 'nt', 'm', 'wp', 'v', 'a', 'n', 'wp', 'v', 'v', 'n', 'a', 'wp', 'v', 'v', 'n', 'd', 'a', 'wp', 'v', 'n', 'v', 'n', 'wp', 'n', 'v', 'n', 'wp', 'v', 'v', 'n', 'wp', 'd', 'v', 'n', 'd', 'v', 'wp']\n",
      "\n",
      " ['别来春半', '触目柔肠断砌下落', '梅如雪乱', '拂了一身还满', '雁来音信', '无凭路遥', '归梦难成离恨', '恰如春草', '更行更远还生']\n"
     ]
    },
    {
     "data": {
      "text/plain": [
       "['v']"
      ]
     },
     "execution_count": 3,
     "metadata": {},
     "output_type": "execute_result"
    }
   ],
   "source": [
    "text1 = '别来春半，触目柔肠断。砌下落梅如雪乱，拂了一身还满。雁来音信无凭，路遥归梦难成。离恨恰如春草，更行更远还生。'\n",
    "text2 = '别来春半触目柔肠断砌下落梅如雪乱拂了一身还满雁来音信无凭路遥归梦难成离恨恰如春草更行更远还生'\n",
    "\n",
    "lm = load_lm('/Users/jojoli/jiayan_models/jiayan.klm')\n",
    "tokenizer = CharHMMTokenizer(lm)\n",
    "words = list(tokenizer.tokenize(text1))\n",
    "print(words)\n",
    "\n",
    "postagger = CRFPOSTagger()\n",
    "postagger.load('/Users/jojoli/jiayan_models/pos_model')\n",
    "print('\\n', postagger.postag(words))\n",
    "\n",
    "sentencizer = CRFSentencizer(lm)\n",
    "sentencizer.load('/Users/jojoli/jiayan_models/cut_model')\n",
    "print('\\n', sentencizer.sentencize(text2))\n",
    "\n",
    "postagger.postag(\"抽\")"
   ]
  },
  {
   "cell_type": "markdown",
   "metadata": {},
   "source": [
    "## Preprocessing"
   ]
  },
  {
   "cell_type": "code",
   "execution_count": 4,
   "metadata": {},
   "outputs": [
    {
     "data": {
      "text/html": [
       "<div>\n",
       "<style scoped>\n",
       "    .dataframe tbody tr th:only-of-type {\n",
       "        vertical-align: middle;\n",
       "    }\n",
       "\n",
       "    .dataframe tbody tr th {\n",
       "        vertical-align: top;\n",
       "    }\n",
       "\n",
       "    .dataframe thead th {\n",
       "        text-align: right;\n",
       "    }\n",
       "</style>\n",
       "<table border=\"1\" class=\"dataframe\">\n",
       "  <thead>\n",
       "    <tr style=\"text-align: right;\">\n",
       "      <th></th>\n",
       "      <th>type</th>\n",
       "      <th>content</th>\n",
       "    </tr>\n",
       "  </thead>\n",
       "  <tbody>\n",
       "    <tr>\n",
       "      <th>0</th>\n",
       "      <td>首春</td>\n",
       "      <td>寒随穷律变，春逐鸟声开。初风飘带柳，晚雪间花梅。碧林青旧竹，绿沼翠新苔。芝田初雁去，绮树巧莺来。</td>\n",
       "    </tr>\n",
       "    <tr>\n",
       "      <th>1</th>\n",
       "      <td>初晴落景</td>\n",
       "      <td>晚霞聊自怡，初晴弥可喜。日晃百花色，风动千林翠。池鱼跃不同，园鸟声还异。寄言博通者，知予物外志。</td>\n",
       "    </tr>\n",
       "    <tr>\n",
       "      <th>2</th>\n",
       "      <td>初夏</td>\n",
       "      <td>一朝春夏改，隔夜鸟花迁。阴阳深浅叶，晓夕重轻烟。哢莺犹响殿，横丝正网天。珮高兰影接，绶细草纹...</td>\n",
       "    </tr>\n",
       "    <tr>\n",
       "      <th>3</th>\n",
       "      <td>度秋</td>\n",
       "      <td>夏律昨留灰，秋箭今移晷。峨嵋岫初出，洞庭波渐起。桂白发幽岩，菊黄开灞涘。运流方可叹，含毫属微理。</td>\n",
       "    </tr>\n",
       "    <tr>\n",
       "      <th>4</th>\n",
       "      <td>仪鸾殿早秋</td>\n",
       "      <td>寒惊蓟门叶，秋发小山枝。松阴背日转，竹影避风移。提壶菊花岸，高兴芙蓉池。欲知凉气早，巢空燕不窥。</td>\n",
       "    </tr>\n",
       "  </tbody>\n",
       "</table>\n",
       "</div>"
      ],
      "text/plain": [
       "    type                                            content\n",
       "0     首春   寒随穷律变，春逐鸟声开。初风飘带柳，晚雪间花梅。碧林青旧竹，绿沼翠新苔。芝田初雁去，绮树巧莺来。\n",
       "1   初晴落景   晚霞聊自怡，初晴弥可喜。日晃百花色，风动千林翠。池鱼跃不同，园鸟声还异。寄言博通者，知予物外志。\n",
       "2     初夏  一朝春夏改，隔夜鸟花迁。阴阳深浅叶，晓夕重轻烟。哢莺犹响殿，横丝正网天。珮高兰影接，绶细草纹...\n",
       "3     度秋   夏律昨留灰，秋箭今移晷。峨嵋岫初出，洞庭波渐起。桂白发幽岩，菊黄开灞涘。运流方可叹，含毫属微理。\n",
       "4  仪鸾殿早秋   寒惊蓟门叶，秋发小山枝。松阴背日转，竹影避风移。提壶菊花岸，高兴芙蓉池。欲知凉气早，巢空燕不窥。"
      ]
     },
     "execution_count": 4,
     "metadata": {},
     "output_type": "execute_result"
    }
   ],
   "source": [
    "columns = [\"type\", \"content\"]\n",
    "data = pd.read_csv(\"/Users/jojoli/Documents/夏校申请:项目制作/英才计划/正式培养/chinese/datasets/Tang_Dynasty.txt\",\n",
    "                    delimiter=\":\", header=None,names=columns,skiprows=0)\n",
    "data.head()"
   ]
  },
  {
   "cell_type": "code",
   "execution_count": 5,
   "metadata": {},
   "outputs": [],
   "source": [
    "# Remove Punctuations\n",
    "\n",
    "punct_list = list(\"。\" + \"，\" + \"；\" + \"（\" + \"）\" + \"《\" + \"》\")\n",
    "def remove_punctuation(text):\n",
    "    for punc in punct_list:\n",
    "        if punc in text:\n",
    "            text = text.replace(punc, \" \")\n",
    "    return text.strip()\n",
    "\n",
    "data['clean_content'] = data[\"content\"].astype(str).apply(remove_punctuation)"
   ]
  },
  {
   "cell_type": "code",
   "execution_count": 6,
   "metadata": {},
   "outputs": [],
   "source": [
    "# Remove stopwords\n",
    "\n",
    "def re_stop(text):\n",
    "    for chr in text:\n",
    "        ls = postagger.postag(chr)\n",
    "        if ls[0] == 'p' or ls[0] == 'r' or ls[0] == 'u' or ls[0] == 'c':\n",
    "            text = text.replace(chr, \"\")\n",
    "    return text.strip()\n",
    "\n",
    "data['nostop_clean_content'] = data[\"clean_content\"].apply(re_stop)"
   ]
  },
  {
   "cell_type": "code",
   "execution_count": 7,
   "metadata": {},
   "outputs": [
    {
     "data": {
      "text/html": [
       "<div>\n",
       "<style scoped>\n",
       "    .dataframe tbody tr th:only-of-type {\n",
       "        vertical-align: middle;\n",
       "    }\n",
       "\n",
       "    .dataframe tbody tr th {\n",
       "        vertical-align: top;\n",
       "    }\n",
       "\n",
       "    .dataframe thead th {\n",
       "        text-align: right;\n",
       "    }\n",
       "</style>\n",
       "<table border=\"1\" class=\"dataframe\">\n",
       "  <thead>\n",
       "    <tr style=\"text-align: right;\">\n",
       "      <th></th>\n",
       "      <th>nostop_clean_content</th>\n",
       "    </tr>\n",
       "  </thead>\n",
       "  <tbody>\n",
       "    <tr>\n",
       "      <th>13</th>\n",
       "      <td>昔年怀壮气 提戈初仗节 心随朗日高 志秋霜洁 移锋惊电起 转战长河决 营碎落星沉 阵卷横云裂...</td>\n",
       "    </tr>\n",
       "  </tbody>\n",
       "</table>\n",
       "</div>"
      ],
      "text/plain": [
       "                                 nostop_clean_content\n",
       "13  昔年怀壮气 提戈初仗节 心随朗日高 志秋霜洁 移锋惊电起 转战长河决 营碎落星沉 阵卷横云裂..."
      ]
     },
     "execution_count": 7,
     "metadata": {},
     "output_type": "execute_result"
    }
   ],
   "source": [
    "data.iloc[13:14, 3:4]"
   ]
  },
  {
   "cell_type": "code",
   "execution_count": 8,
   "metadata": {},
   "outputs": [
    {
     "data": {
      "text/html": [
       "<div>\n",
       "<style scoped>\n",
       "    .dataframe tbody tr th:only-of-type {\n",
       "        vertical-align: middle;\n",
       "    }\n",
       "\n",
       "    .dataframe tbody tr th {\n",
       "        vertical-align: top;\n",
       "    }\n",
       "\n",
       "    .dataframe thead th {\n",
       "        text-align: right;\n",
       "    }\n",
       "</style>\n",
       "<table border=\"1\" class=\"dataframe\">\n",
       "  <thead>\n",
       "    <tr style=\"text-align: right;\">\n",
       "      <th></th>\n",
       "      <th>type</th>\n",
       "      <th>content</th>\n",
       "      <th>clean_content</th>\n",
       "      <th>nostop_clean_content</th>\n",
       "    </tr>\n",
       "  </thead>\n",
       "  <tbody>\n",
       "    <tr>\n",
       "      <th>43025</th>\n",
       "      <td>促拍满路花</td>\n",
       "      <td>西风吹渭水，落叶满长安。茫茫尘世里，独清闲。自然炉鼎，虎绕与龙盘。九转丹砂就，一粒刀圭，便成...</td>\n",
       "      <td>西风吹渭水 落叶满长安 茫茫尘世里 独清闲 自然炉鼎 虎绕与龙盘 九转丹砂就 一粒刀圭 便成...</td>\n",
       "      <td>西风吹渭水 落叶满长安 茫茫尘世里 独清闲 自炉鼎 虎绕龙盘 九转丹砂就 一粒刀圭 便成陆地...</td>\n",
       "    </tr>\n",
       "    <tr>\n",
       "      <th>43026</th>\n",
       "      <td>六么令</td>\n",
       "      <td>东与西，眼与眉。偃月炉中运坎离，灵砂且上飞。最幽微，是天机，你休痴，你不知。</td>\n",
       "      <td>东与西 眼与眉 偃月炉中运坎离 灵砂且上飞 最幽微 是天机 你休痴 你不知</td>\n",
       "      <td>东西 眼眉 偃月炉中运坎离 灵砂上飞 最幽微 是天机 休痴 不知</td>\n",
       "    </tr>\n",
       "    <tr>\n",
       "      <th>43027</th>\n",
       "      <td>汉宫春</td>\n",
       "      <td>横笛声沉，倚危楼红日，江转天斜。黄尘边火澒洞，何处吾家。胎禽怨夜，来乘风、玄露丹霞。先生笑、...</td>\n",
       "      <td>横笛声沉 倚危楼红日 江转天斜 黄尘边火澒洞 何处吾家 胎禽怨夜 来乘风、玄露丹霞 先生笑、...</td>\n",
       "      <td>横笛声沉 倚危楼红日 江转天斜 黄尘边火澒洞 何处家 胎禽怨夜 来乘风、玄露丹霞 先生笑、飞...</td>\n",
       "    </tr>\n",
       "    <tr>\n",
       "      <th>43028</th>\n",
       "      <td>忆江南</td>\n",
       "      <td>江南鼓，梭肚两头栾。钉著不知侵骨髓，打来只是没心肝。空腹被人谩。</td>\n",
       "      <td>江南鼓 梭肚两头栾 钉著不知侵骨髓 打来只是没心肝 空腹被人谩</td>\n",
       "      <td>江南鼓 梭肚两头栾 钉著不知侵骨髓 打来只是没心肝 空腹人谩</td>\n",
       "    </tr>\n",
       "    <tr>\n",
       "      <th>43029</th>\n",
       "      <td>句</td>\n",
       "      <td>暂游大庾，白鹤飞来谁共语？岭畔人家，曾见寒梅几度花。春来春去，人在落花流水处。花满前蹊，藏尽...</td>\n",
       "      <td>暂游大庾 白鹤飞来谁共语？岭畔人家 曾见寒梅几度花 春来春去 人在落花流水处 花满前蹊 藏尽...</td>\n",
       "      <td>暂游大庾 白鹤飞来共语？岭畔人家 曾见寒梅几度花 春来春去 人落花流水处 花满前蹊 藏尽神仙人不知</td>\n",
       "    </tr>\n",
       "  </tbody>\n",
       "</table>\n",
       "</div>"
      ],
      "text/plain": [
       "        type                                            content  \\\n",
       "43025  促拍满路花  西风吹渭水，落叶满长安。茫茫尘世里，独清闲。自然炉鼎，虎绕与龙盘。九转丹砂就，一粒刀圭，便成...   \n",
       "43026    六么令             东与西，眼与眉。偃月炉中运坎离，灵砂且上飞。最幽微，是天机，你休痴，你不知。   \n",
       "43027    汉宫春  横笛声沉，倚危楼红日，江转天斜。黄尘边火澒洞，何处吾家。胎禽怨夜，来乘风、玄露丹霞。先生笑、...   \n",
       "43028    忆江南                   江南鼓，梭肚两头栾。钉著不知侵骨髓，打来只是没心肝。空腹被人谩。   \n",
       "43029      句  暂游大庾，白鹤飞来谁共语？岭畔人家，曾见寒梅几度花。春来春去，人在落花流水处。花满前蹊，藏尽...   \n",
       "\n",
       "                                           clean_content  \\\n",
       "43025  西风吹渭水 落叶满长安 茫茫尘世里 独清闲 自然炉鼎 虎绕与龙盘 九转丹砂就 一粒刀圭 便成...   \n",
       "43026              东与西 眼与眉 偃月炉中运坎离 灵砂且上飞 最幽微 是天机 你休痴 你不知   \n",
       "43027  横笛声沉 倚危楼红日 江转天斜 黄尘边火澒洞 何处吾家 胎禽怨夜 来乘风、玄露丹霞 先生笑、...   \n",
       "43028                    江南鼓 梭肚两头栾 钉著不知侵骨髓 打来只是没心肝 空腹被人谩   \n",
       "43029  暂游大庾 白鹤飞来谁共语？岭畔人家 曾见寒梅几度花 春来春去 人在落花流水处 花满前蹊 藏尽...   \n",
       "\n",
       "                                    nostop_clean_content  \n",
       "43025  西风吹渭水 落叶满长安 茫茫尘世里 独清闲 自炉鼎 虎绕龙盘 九转丹砂就 一粒刀圭 便成陆地...  \n",
       "43026                   东西 眼眉 偃月炉中运坎离 灵砂上飞 最幽微 是天机 休痴 不知  \n",
       "43027  横笛声沉 倚危楼红日 江转天斜 黄尘边火澒洞 何处家 胎禽怨夜 来乘风、玄露丹霞 先生笑、飞...  \n",
       "43028                     江南鼓 梭肚两头栾 钉著不知侵骨髓 打来只是没心肝 空腹人谩  \n",
       "43029  暂游大庾 白鹤飞来共语？岭畔人家 曾见寒梅几度花 春来春去 人落花流水处 花满前蹊 藏尽神仙人不知  "
      ]
     },
     "execution_count": 8,
     "metadata": {},
     "output_type": "execute_result"
    }
   ],
   "source": [
    "data.tail()"
   ]
  },
  {
   "cell_type": "markdown",
   "metadata": {},
   "source": [
    "### POS tagging & Noun Extraction"
   ]
  },
  {
   "cell_type": "code",
   "execution_count": 10,
   "metadata": {},
   "outputs": [
    {
     "data": {
      "text/html": [
       "<div>\n",
       "<style scoped>\n",
       "    .dataframe tbody tr th:only-of-type {\n",
       "        vertical-align: middle;\n",
       "    }\n",
       "\n",
       "    .dataframe tbody tr th {\n",
       "        vertical-align: top;\n",
       "    }\n",
       "\n",
       "    .dataframe thead th {\n",
       "        text-align: right;\n",
       "    }\n",
       "</style>\n",
       "<table border=\"1\" class=\"dataframe\">\n",
       "  <thead>\n",
       "    <tr style=\"text-align: right;\">\n",
       "      <th></th>\n",
       "      <th>type</th>\n",
       "      <th>content</th>\n",
       "      <th>clean_content</th>\n",
       "      <th>nostop_clean_content</th>\n",
       "      <th>all_nouns</th>\n",
       "    </tr>\n",
       "  </thead>\n",
       "  <tbody>\n",
       "    <tr>\n",
       "      <th>0</th>\n",
       "      <td>首春</td>\n",
       "      <td>寒随穷律变，春逐鸟声开。初风飘带柳，晚雪间花梅。碧林青旧竹，绿沼翠新苔。芝田初雁去，绮树巧莺来。</td>\n",
       "      <td>寒随穷律变 春逐鸟声开 初风飘带柳 晚雪间花梅 碧林青旧竹 绿沼翠新苔 芝田初雁去 绮树巧莺来</td>\n",
       "      <td>寒随穷律变 春逐鸟声开 初风飘带柳 晚雪间花梅 碧林青旧竹 绿沼翠新苔 芝田初雁去 绮树巧莺来</td>\n",
       "      <td>[律, 鸟声, 风飘, 柳, 雪, 碧林, 竹, 沼翠新苔, 雁去]</td>\n",
       "    </tr>\n",
       "    <tr>\n",
       "      <th>1</th>\n",
       "      <td>初晴落景</td>\n",
       "      <td>晚霞聊自怡，初晴弥可喜。日晃百花色，风动千林翠。池鱼跃不同，园鸟声还异。寄言博通者，知予物外志。</td>\n",
       "      <td>晚霞聊自怡 初晴弥可喜 日晃百花色 风动千林翠 池鱼跃不同 园鸟声还异 寄言博通者 知予物外志</td>\n",
       "      <td>晚霞聊自怡 初晴弥可喜 日晃百花色 风动千林翠 池鱼跃不 园鸟声还异 寄言博通者 知予物外志</td>\n",
       "      <td>[色, 风动, 池, 鱼跃, 园, 鸟声, 言, 物外, 志]</td>\n",
       "    </tr>\n",
       "    <tr>\n",
       "      <th>2</th>\n",
       "      <td>初夏</td>\n",
       "      <td>一朝春夏改，隔夜鸟花迁。阴阳深浅叶，晓夕重轻烟。哢莺犹响殿，横丝正网天。珮高兰影接，绶细草纹...</td>\n",
       "      <td>一朝春夏改 隔夜鸟花迁 阴阳深浅叶 晓夕重轻烟 哢莺犹响殿 横丝正网天 珮高兰影接 绶细草纹...</td>\n",
       "      <td>一朝春夏改 隔夜鸟花迁 阴阳深浅叶 晓夕重轻烟 哢莺犹响殿 横丝正网天 珮高兰影接 绶细草纹...</td>\n",
       "      <td>[鸟, 殿, 丝, 网, 天, 珮高兰影, 纹, 碧, 鳞惊棹侧, 檐前, 处, 山, 泉]</td>\n",
       "    </tr>\n",
       "    <tr>\n",
       "      <th>3</th>\n",
       "      <td>度秋</td>\n",
       "      <td>夏律昨留灰，秋箭今移晷。峨嵋岫初出，洞庭波渐起。桂白发幽岩，菊黄开灞涘。运流方可叹，含毫属微理。</td>\n",
       "      <td>夏律昨留灰 秋箭今移晷 峨嵋岫初出 洞庭波渐起 桂白发幽岩 菊黄开灞涘 运流方可叹 含毫属微理</td>\n",
       "      <td>夏律昨留灰 秋箭今移晷 峨嵋岫初出 洞庭波渐起 桂白发幽岩 菊黄开灞涘 运流方可叹 含毫属微理</td>\n",
       "      <td>[律, 箭, 洞庭, 波, 菊黄, 理]</td>\n",
       "    </tr>\n",
       "    <tr>\n",
       "      <th>4</th>\n",
       "      <td>仪鸾殿早秋</td>\n",
       "      <td>寒惊蓟门叶，秋发小山枝。松阴背日转，竹影避风移。提壶菊花岸，高兴芙蓉池。欲知凉气早，巢空燕不窥。</td>\n",
       "      <td>寒惊蓟门叶 秋发小山枝 松阴背日转 竹影避风移 提壶菊花岸 高兴芙蓉池 欲知凉气早 巢空燕不窥</td>\n",
       "      <td>寒惊蓟门叶 秋发小山枝 松阴背日转 竹影避风移 提壶菊花岸 高兴芙蓉池 欲知凉气早 巢空燕不窥</td>\n",
       "      <td>[枝, 松阴, 竹影, 菊花, 岸, 池, 巢空]</td>\n",
       "    </tr>\n",
       "  </tbody>\n",
       "</table>\n",
       "</div>"
      ],
      "text/plain": [
       "    type                                            content  \\\n",
       "0     首春   寒随穷律变，春逐鸟声开。初风飘带柳，晚雪间花梅。碧林青旧竹，绿沼翠新苔。芝田初雁去，绮树巧莺来。   \n",
       "1   初晴落景   晚霞聊自怡，初晴弥可喜。日晃百花色，风动千林翠。池鱼跃不同，园鸟声还异。寄言博通者，知予物外志。   \n",
       "2     初夏  一朝春夏改，隔夜鸟花迁。阴阳深浅叶，晓夕重轻烟。哢莺犹响殿，横丝正网天。珮高兰影接，绶细草纹...   \n",
       "3     度秋   夏律昨留灰，秋箭今移晷。峨嵋岫初出，洞庭波渐起。桂白发幽岩，菊黄开灞涘。运流方可叹，含毫属微理。   \n",
       "4  仪鸾殿早秋   寒惊蓟门叶，秋发小山枝。松阴背日转，竹影避风移。提壶菊花岸，高兴芙蓉池。欲知凉气早，巢空燕不窥。   \n",
       "\n",
       "                                       clean_content  \\\n",
       "0    寒随穷律变 春逐鸟声开 初风飘带柳 晚雪间花梅 碧林青旧竹 绿沼翠新苔 芝田初雁去 绮树巧莺来   \n",
       "1    晚霞聊自怡 初晴弥可喜 日晃百花色 风动千林翠 池鱼跃不同 园鸟声还异 寄言博通者 知予物外志   \n",
       "2  一朝春夏改 隔夜鸟花迁 阴阳深浅叶 晓夕重轻烟 哢莺犹响殿 横丝正网天 珮高兰影接 绶细草纹...   \n",
       "3    夏律昨留灰 秋箭今移晷 峨嵋岫初出 洞庭波渐起 桂白发幽岩 菊黄开灞涘 运流方可叹 含毫属微理   \n",
       "4    寒惊蓟门叶 秋发小山枝 松阴背日转 竹影避风移 提壶菊花岸 高兴芙蓉池 欲知凉气早 巢空燕不窥   \n",
       "\n",
       "                                nostop_clean_content  \\\n",
       "0    寒随穷律变 春逐鸟声开 初风飘带柳 晚雪间花梅 碧林青旧竹 绿沼翠新苔 芝田初雁去 绮树巧莺来   \n",
       "1     晚霞聊自怡 初晴弥可喜 日晃百花色 风动千林翠 池鱼跃不 园鸟声还异 寄言博通者 知予物外志   \n",
       "2  一朝春夏改 隔夜鸟花迁 阴阳深浅叶 晓夕重轻烟 哢莺犹响殿 横丝正网天 珮高兰影接 绶细草纹...   \n",
       "3    夏律昨留灰 秋箭今移晷 峨嵋岫初出 洞庭波渐起 桂白发幽岩 菊黄开灞涘 运流方可叹 含毫属微理   \n",
       "4    寒惊蓟门叶 秋发小山枝 松阴背日转 竹影避风移 提壶菊花岸 高兴芙蓉池 欲知凉气早 巢空燕不窥   \n",
       "\n",
       "                                        all_nouns  \n",
       "0              [律, 鸟声, 风飘, 柳, 雪, 碧林, 竹, 沼翠新苔, 雁去]  \n",
       "1                 [色, 风动, 池, 鱼跃, 园, 鸟声, 言, 物外, 志]  \n",
       "2  [鸟, 殿, 丝, 网, 天, 珮高兰影, 纹, 碧, 鳞惊棹侧, 檐前, 处, 山, 泉]  \n",
       "3                            [律, 箭, 洞庭, 波, 菊黄, 理]  \n",
       "4                       [枝, 松阴, 竹影, 菊花, 岸, 池, 巢空]  "
      ]
     },
     "execution_count": 10,
     "metadata": {},
     "output_type": "execute_result"
    }
   ],
   "source": [
    "def extract_noun(text):\n",
    "    text = list(tokenizer.tokenize(text))\n",
    "    temp = []\n",
    "    for each in text:\n",
    "        ls = postagger.postag(each)\n",
    "        if (ls[0] == 'n'):\n",
    "            temp.append(each) # extract nouns\n",
    "    return temp\n",
    "\n",
    "data['all_nouns'] = data[\"nostop_clean_content\"].apply(extract_noun)\n",
    "data.head()"
   ]
  },
  {
   "cell_type": "markdown",
   "metadata": {},
   "source": [
    "### Randomly Select 600 Poems to be Saved and Tagged"
   ]
  },
  {
   "cell_type": "code",
   "execution_count": 11,
   "metadata": {},
   "outputs": [],
   "source": [
    "(data.sample(n=600)).to_csv(\"/Users/jojoli/Documents/夏校申请:项目制作/英才计划/正式培养/chinese/datasets/Tang_Dynasty_preprocessed.csv\", index=False)"
   ]
  },
  {
   "cell_type": "code",
   "execution_count": null,
   "metadata": {},
   "outputs": [],
   "source": []
  }
 ],
 "metadata": {
  "kernelspec": {
   "display_name": "Python 3.8.11 ('base')",
   "language": "python",
   "name": "python3"
  },
  "language_info": {
   "codemirror_mode": {
    "name": "ipython",
    "version": 3
   },
   "file_extension": ".py",
   "mimetype": "text/x-python",
   "name": "python",
   "nbconvert_exporter": "python",
   "pygments_lexer": "ipython3",
   "version": "3.8.11"
  },
  "orig_nbformat": 4,
  "vscode": {
   "interpreter": {
    "hash": "fa6335b93832437a7ad6101cee87dd3e9814daa15b714665e121125b2ec0bb3c"
   }
  }
 },
 "nbformat": 4,
 "nbformat_minor": 2
}
