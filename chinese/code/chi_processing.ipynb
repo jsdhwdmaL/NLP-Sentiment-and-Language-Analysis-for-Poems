{
 "cells": [
  {
   "cell_type": "code",
   "execution_count": 1,
   "metadata": {},
   "outputs": [],
   "source": [
    "# Sources: https://github.com/jiaeyan/Jiayan\n",
    "#          https://github.com/kpu/kenlm"
   ]
  },
  {
   "cell_type": "code",
   "execution_count": 2,
   "metadata": {},
   "outputs": [],
   "source": [
    "import pandas as pd\n",
    "from jiayan import load_lm\n",
    "from jiayan import CharHMMTokenizer\n",
    "from jiayan import CRFPOSTagger\n",
    "from jiayan import CRFSentencizer"
   ]
  },
  {
   "cell_type": "code",
   "execution_count": 3,
   "metadata": {},
   "outputs": [
    {
     "data": {
      "text/html": [
       "<div>\n",
       "<style scoped>\n",
       "    .dataframe tbody tr th:only-of-type {\n",
       "        vertical-align: middle;\n",
       "    }\n",
       "\n",
       "    .dataframe tbody tr th {\n",
       "        vertical-align: top;\n",
       "    }\n",
       "\n",
       "    .dataframe thead th {\n",
       "        text-align: right;\n",
       "    }\n",
       "</style>\n",
       "<table border=\"1\" class=\"dataframe\">\n",
       "  <thead>\n",
       "    <tr style=\"text-align: right;\">\n",
       "      <th></th>\n",
       "      <th>type</th>\n",
       "      <th>content</th>\n",
       "    </tr>\n",
       "  </thead>\n",
       "  <tbody>\n",
       "    <tr>\n",
       "      <th>0</th>\n",
       "      <td>初晴落景</td>\n",
       "      <td>晚霞聊自怡，初晴弥可喜。日晃百花色，风动千林翠。池鱼跃不同，园鸟声还异。寄言博通者，知予物外志。</td>\n",
       "    </tr>\n",
       "    <tr>\n",
       "      <th>1</th>\n",
       "      <td>初夏</td>\n",
       "      <td>一朝春夏改，隔夜鸟花迁。阴阳深浅叶，晓夕重轻烟。哢莺犹响殿，横丝正网天。珮高兰影接，绶细草纹...</td>\n",
       "    </tr>\n",
       "    <tr>\n",
       "      <th>2</th>\n",
       "      <td>度秋</td>\n",
       "      <td>夏律昨留灰，秋箭今移晷。峨嵋岫初出，洞庭波渐起。桂白发幽岩，菊黄开灞涘。运流方可叹，含毫属微理。</td>\n",
       "    </tr>\n",
       "    <tr>\n",
       "      <th>3</th>\n",
       "      <td>仪鸾殿早秋</td>\n",
       "      <td>寒惊蓟门叶，秋发小山枝。松阴背日转，竹影避风移。提壶菊花岸，高兴芙蓉池。欲知凉气早，巢空燕不窥。</td>\n",
       "    </tr>\n",
       "    <tr>\n",
       "      <th>4</th>\n",
       "      <td>秋日即目</td>\n",
       "      <td>爽气浮丹阙，秋光澹紫宫。衣碎荷疏影，花明菊点丛。袍轻低草露，盖侧舞松风。散岫飘云叶，迷路飞烟...</td>\n",
       "    </tr>\n",
       "  </tbody>\n",
       "</table>\n",
       "</div>"
      ],
      "text/plain": [
       "    type                                            content\n",
       "0   初晴落景   晚霞聊自怡，初晴弥可喜。日晃百花色，风动千林翠。池鱼跃不同，园鸟声还异。寄言博通者，知予物外志。\n",
       "1     初夏  一朝春夏改，隔夜鸟花迁。阴阳深浅叶，晓夕重轻烟。哢莺犹响殿，横丝正网天。珮高兰影接，绶细草纹...\n",
       "2     度秋   夏律昨留灰，秋箭今移晷。峨嵋岫初出，洞庭波渐起。桂白发幽岩，菊黄开灞涘。运流方可叹，含毫属微理。\n",
       "3  仪鸾殿早秋   寒惊蓟门叶，秋发小山枝。松阴背日转，竹影避风移。提壶菊花岸，高兴芙蓉池。欲知凉气早，巢空燕不窥。\n",
       "4   秋日即目  爽气浮丹阙，秋光澹紫宫。衣碎荷疏影，花明菊点丛。袍轻低草露，盖侧舞松风。散岫飘云叶，迷路飞烟..."
      ]
     },
     "execution_count": 3,
     "metadata": {},
     "output_type": "execute_result"
    }
   ],
   "source": [
    "columns = [\"type\", \"content\"]\n",
    "data = pd.read_csv(\"/Users/jojoli/Documents/夏校申请:项目制作/英才计划/正式培养/chinese/datasets/Tang_Dynasty.txt\",\n",
    "                    delimiter=\":\", header=None,names=columns,skiprows=1)\n",
    "data.head()"
   ]
  },
  {
   "cell_type": "markdown",
   "metadata": {},
   "source": [
    "## An Example of Jiayan\n",
    "### Jiayan POS Tags\n",
    "\n",
    "Tag | Description | Example\n",
    "--- | --- | ---\n",
    "a | adjective | 幽明\n",
    "b | other noun-modifier | 男，女\n",
    "c | conjunction | 与，而\n",
    "d | adverb | 皆\n",
    "e | exclamation | 呜呼\n",
    "g | morpheme | 甥\n",
    "h | prefix | 非\n",
    "i | idiom | 发愤忘食\n",
    "j | abbreviation | 五帝\n",
    "k | suffix | 者\n",
    "m | number | 一，百\n",
    "n | general noun | 鬼神，山川\n",
    "nd | direction noun | 东，西，南，北\n",
    "nh | person name | 轩辕\n",
    "ni | organization name | 辽队\n",
    "nl | location noun | 城北\n",
    "ns | geographical name | 襄平县\n",
    "nt | temporal noun | 春，夏，秋，冬\n",
    "nz | other proper noun | 山海经\n",
    "o | onomatopoeia | 呜呜\n",
    "p | preposition | 以，为\n",
    "q | quantity | 年，岁\n",
    "r | pronoun | 其，斯\n",
    "u | auxiliary | 之，所\n",
    "v | verb | 赐\n",
    "wp | punctuation | ，。！\n",
    "ws | foreign words | CPU\n",
    "x | non-lexeme | 萄, 翱\n",
    "z | descriptive words | 默然，区区"
   ]
  },
  {
   "cell_type": "code",
   "execution_count": 6,
   "metadata": {},
   "outputs": [
    {
     "name": "stdout",
     "output_type": "stream",
     "text": [
      "['别来', '春', '半', '，', '触目', '柔', '肠断', '。', '砌下', '落梅', '如雪', '乱', '，', '拂', '了一', '身', '还', '满', '。', '雁来', '音信', '无', '凭', '，', '路遥', '归', '梦难成', '。', '离恨', '恰如', '春草', '，', '更', '行', '更远', '还', '生', '。']\n",
      "\n",
      " ['nh', 'nt', 'm', 'wp', 'v', 'a', 'n', 'wp', 'v', 'v', 'n', 'a', 'wp', 'v', 'v', 'n', 'd', 'a', 'wp', 'v', 'n', 'v', 'n', 'wp', 'n', 'v', 'n', 'wp', 'v', 'v', 'n', 'wp', 'd', 'v', 'n', 'd', 'v', 'wp']\n",
      "\n",
      " ['别来春半', '触目柔肠断砌下落', '梅如雪乱', '拂了一身还满', '雁来音信', '无凭路遥', '归梦难成离恨', '恰如春草', '更行更远还生']\n"
     ]
    }
   ],
   "source": [
    "text1 = '别来春半，触目柔肠断。砌下落梅如雪乱，拂了一身还满。雁来音信无凭，路遥归梦难成。离恨恰如春草，更行更远还生。'\n",
    "text2 = '别来春半触目柔肠断砌下落梅如雪乱拂了一身还满雁来音信无凭路遥归梦难成离恨恰如春草更行更远还生'\n",
    "\n",
    "lm = load_lm('/Users/jojoli/jiayan_models/jiayan.klm')\n",
    "tokenizer = CharHMMTokenizer(lm)\n",
    "words = list(tokenizer.tokenize(text1))\n",
    "print(words)\n",
    "\n",
    "postagger = CRFPOSTagger()\n",
    "postagger.load('/Users/jojoli/jiayan_models/pos_model')\n",
    "print('\\n', postagger.postag(words))\n",
    "\n",
    "sentencizer = CRFSentencizer(lm)\n",
    "sentencizer.load('/Users/jojoli/jiayan_models/cut_model')\n",
    "print('\\n', sentencizer.sentencize(text2))"
   ]
  },
  {
   "cell_type": "code",
   "execution_count": null,
   "metadata": {},
   "outputs": [],
   "source": []
  }
 ],
 "metadata": {
  "kernelspec": {
   "display_name": "Python 3.8.11 ('base')",
   "language": "python",
   "name": "python3"
  },
  "language_info": {
   "codemirror_mode": {
    "name": "ipython",
    "version": 3
   },
   "file_extension": ".py",
   "mimetype": "text/x-python",
   "name": "python",
   "nbconvert_exporter": "python",
   "pygments_lexer": "ipython3",
   "version": "3.8.11"
  },
  "orig_nbformat": 4,
  "vscode": {
   "interpreter": {
    "hash": "fa6335b93832437a7ad6101cee87dd3e9814daa15b714665e121125b2ec0bb3c"
   }
  }
 },
 "nbformat": 4,
 "nbformat_minor": 2
}
