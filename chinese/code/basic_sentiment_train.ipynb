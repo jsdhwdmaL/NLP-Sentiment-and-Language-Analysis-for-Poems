{
 "cells": [
  {
   "cell_type": "markdown",
   "metadata": {},
   "source": [
    "## Train a Basic Sentiment Classification Model for Future Use\n",
    "##### Data source: https://github.com/z17176/Chinese_conversation_sentiment"
   ]
  },
  {
   "cell_type": "code",
   "execution_count": 2,
   "metadata": {},
   "outputs": [],
   "source": [
    "import re\n",
    "import pandas as pd\n",
    "import string\n",
    "import numpy as np\n",
    "import nltk\n",
    "from nltk import pos_tag\n",
    "from nltk.tag import StanfordNERTagger\n",
    "from nltk.corpus import stopwords\n",
    "from nltk.tokenize import word_tokenize\n",
    "from sklearn.feature_extraction.text import CountVectorizer\n",
    "from sklearn.decomposition import TruncatedSVD, SparsePCA\n",
    "from sklearn.ensemble import RandomForestClassifier\n",
    "from sklearn.feature_extraction.text import TfidfVectorizer\n",
    "from sklearn.pipeline import Pipeline\n",
    "from sklearn.metrics import classification_report, confusion_matrix\n",
    "from sklearn.model_selection import train_test_split\n",
    "from sklearn import metrics\n",
    "from sklearn.metrics import accuracy_score, confusion_matrix, classification_report\n",
    "from sklearn.model_selection import KFold #for K-fold cross validation\n",
    "from sklearn.model_selection import cross_val_score #score evaluation\n",
    "from sklearn.model_selection import cross_val_predict #prediction\n",
    "from sklearn.model_selection import GridSearchCV # for Hyper parameter tuning"
   ]
  },
  {
   "cell_type": "code",
   "execution_count": 3,
   "metadata": {},
   "outputs": [
    {
     "data": {
      "text/plain": [
       "(29613, 2)"
      ]
     },
     "execution_count": 3,
     "metadata": {},
     "output_type": "execute_result"
    }
   ],
   "source": [
    "# 导入中文数据集\n",
    "rawData = pd.read_csv(\"/Users/jojoli/Documents/夏校申请:项目制作/英才计划/正式培养/chinese/datasets/sentiment_XS_30k.txt\",\n",
    "                    delimiter=\",\", header=0,skiprows=0)\n",
    "rawData.head()\n",
    "rawData.shape"
   ]
  },
  {
   "cell_type": "markdown",
   "metadata": {},
   "source": [
    "#### Preprocessing"
   ]
  },
  {
   "cell_type": "code",
   "execution_count": 4,
   "metadata": {},
   "outputs": [
    {
     "data": {
      "text/html": [
       "<div>\n",
       "<style scoped>\n",
       "    .dataframe tbody tr th:only-of-type {\n",
       "        vertical-align: middle;\n",
       "    }\n",
       "\n",
       "    .dataframe tbody tr th {\n",
       "        vertical-align: top;\n",
       "    }\n",
       "\n",
       "    .dataframe thead th {\n",
       "        text-align: right;\n",
       "    }\n",
       "</style>\n",
       "<table border=\"1\" class=\"dataframe\">\n",
       "  <thead>\n",
       "    <tr style=\"text-align: right;\">\n",
       "      <th></th>\n",
       "      <th>labels</th>\n",
       "      <th>text</th>\n",
       "      <th>tokenized</th>\n",
       "    </tr>\n",
       "  </thead>\n",
       "  <tbody>\n",
       "    <tr>\n",
       "      <th>0</th>\n",
       "      <td>positive</td>\n",
       "      <td>奖励 就是 亲</td>\n",
       "      <td>[奖励, 就是, 亲]</td>\n",
       "    </tr>\n",
       "    <tr>\n",
       "      <th>1</th>\n",
       "      <td>positive</td>\n",
       "      <td>谢谢 妹妹 加 朋友</td>\n",
       "      <td>[谢谢, 妹妹, 加, 朋友]</td>\n",
       "    </tr>\n",
       "    <tr>\n",
       "      <th>2</th>\n",
       "      <td>positive</td>\n",
       "      <td>喜欢 吃 南浮</td>\n",
       "      <td>[喜欢, 吃, 南浮]</td>\n",
       "    </tr>\n",
       "    <tr>\n",
       "      <th>3</th>\n",
       "      <td>positive</td>\n",
       "      <td>好 吧 小 很 强悍 怕 不</td>\n",
       "      <td>[好, 吧, 小, 很, 强悍, 怕, 不]</td>\n",
       "    </tr>\n",
       "    <tr>\n",
       "      <th>4</th>\n",
       "      <td>negative</td>\n",
       "      <td>他 女朋友 旁边 所以 不 方便 跟 说话</td>\n",
       "      <td>[他, 女朋友, 旁边, 所以, 不, 方便, 跟, 说话]</td>\n",
       "    </tr>\n",
       "  </tbody>\n",
       "</table>\n",
       "</div>"
      ],
      "text/plain": [
       "     labels                   text                       tokenized\n",
       "0  positive                奖励 就是 亲                     [奖励, 就是, 亲]\n",
       "1  positive             谢谢 妹妹 加 朋友                 [谢谢, 妹妹, 加, 朋友]\n",
       "2  positive                喜欢 吃 南浮                     [喜欢, 吃, 南浮]\n",
       "3  positive         好 吧 小 很 强悍 怕 不          [好, 吧, 小, 很, 强悍, 怕, 不]\n",
       "4  negative  他 女朋友 旁边 所以 不 方便 跟 说话  [他, 女朋友, 旁边, 所以, 不, 方便, 跟, 说话]"
      ]
     },
     "execution_count": 4,
     "metadata": {},
     "output_type": "execute_result"
    }
   ],
   "source": [
    "# Tokenize -- create a new tokenized column\n",
    "import re\n",
    "\n",
    "def tokenize(text):\n",
    "    toks = str(text).split()\n",
    "    return toks\n",
    "\n",
    "rawData['tokenized'] = rawData['text'].apply(lambda x : tokenize(x.lower()))\n",
    "rawData.head()"
   ]
  },
  {
   "cell_type": "code",
   "execution_count": 5,
   "metadata": {},
   "outputs": [],
   "source": [
    "rawData.to_csv('/Users/jojoli/Documents/夏校申请:项目制作/英才计划/正式培养/chinese/datasets/sentiment_XS_30k_cleaned.csv', index=False)\n"
   ]
  },
  {
   "cell_type": "markdown",
   "metadata": {},
   "source": [
    "### Training"
   ]
  },
  {
   "cell_type": "code",
   "execution_count": 6,
   "metadata": {},
   "outputs": [
    {
     "data": {
      "text/html": [
       "<div>\n",
       "<style scoped>\n",
       "    .dataframe tbody tr th:only-of-type {\n",
       "        vertical-align: middle;\n",
       "    }\n",
       "\n",
       "    .dataframe tbody tr th {\n",
       "        vertical-align: top;\n",
       "    }\n",
       "\n",
       "    .dataframe thead th {\n",
       "        text-align: right;\n",
       "    }\n",
       "</style>\n",
       "<table border=\"1\" class=\"dataframe\">\n",
       "  <thead>\n",
       "    <tr style=\"text-align: right;\">\n",
       "      <th></th>\n",
       "      <th>labels</th>\n",
       "      <th>text</th>\n",
       "      <th>tokenized</th>\n",
       "    </tr>\n",
       "  </thead>\n",
       "  <tbody>\n",
       "    <tr>\n",
       "      <th>0</th>\n",
       "      <td>positive</td>\n",
       "      <td>奖励 就是 亲</td>\n",
       "      <td>['奖励', '就是', '亲']</td>\n",
       "    </tr>\n",
       "    <tr>\n",
       "      <th>1</th>\n",
       "      <td>positive</td>\n",
       "      <td>谢谢 妹妹 加 朋友</td>\n",
       "      <td>['谢谢', '妹妹', '加', '朋友']</td>\n",
       "    </tr>\n",
       "    <tr>\n",
       "      <th>2</th>\n",
       "      <td>positive</td>\n",
       "      <td>喜欢 吃 南浮</td>\n",
       "      <td>['喜欢', '吃', '南浮']</td>\n",
       "    </tr>\n",
       "    <tr>\n",
       "      <th>3</th>\n",
       "      <td>positive</td>\n",
       "      <td>好 吧 小 很 强悍 怕 不</td>\n",
       "      <td>['好', '吧', '小', '很', '强悍', '怕', '不']</td>\n",
       "    </tr>\n",
       "    <tr>\n",
       "      <th>4</th>\n",
       "      <td>negative</td>\n",
       "      <td>他 女朋友 旁边 所以 不 方便 跟 说话</td>\n",
       "      <td>['他', '女朋友', '旁边', '所以', '不', '方便', '跟', '说话']</td>\n",
       "    </tr>\n",
       "  </tbody>\n",
       "</table>\n",
       "</div>"
      ],
      "text/plain": [
       "     labels                   text  \\\n",
       "0  positive                奖励 就是 亲   \n",
       "1  positive             谢谢 妹妹 加 朋友   \n",
       "2  positive                喜欢 吃 南浮   \n",
       "3  positive         好 吧 小 很 强悍 怕 不   \n",
       "4  negative  他 女朋友 旁边 所以 不 方便 跟 说话   \n",
       "\n",
       "                                        tokenized  \n",
       "0                               ['奖励', '就是', '亲']  \n",
       "1                         ['谢谢', '妹妹', '加', '朋友']  \n",
       "2                               ['喜欢', '吃', '南浮']  \n",
       "3            ['好', '吧', '小', '很', '强悍', '怕', '不']  \n",
       "4  ['他', '女朋友', '旁边', '所以', '不', '方便', '跟', '说话']  "
      ]
     },
     "execution_count": 6,
     "metadata": {},
     "output_type": "execute_result"
    }
   ],
   "source": [
    "df = pd.read_csv(\"/Users/jojoli/Documents/夏校申请:项目制作/英才计划/正式培养/chinese/datasets/sentiment_XS_30k_cleaned.csv\")\n",
    "df.head(5)"
   ]
  },
  {
   "cell_type": "code",
   "execution_count": 9,
   "metadata": {},
   "outputs": [
    {
     "name": "stdout",
     "output_type": "stream",
     "text": [
      "(29613, 16440)\n"
     ]
    }
   ],
   "source": [
    "# Using TF-IDF\n",
    "vectorizer = TfidfVectorizer()\n",
    "vectorizer.fit(df['tokenized'])\n",
    "df_text = vectorizer.transform(df['tokenized'])\n",
    "print(df_text.shape)\n",
    "\n",
    "# df_tfidf = pd.DataFrame(df_text)\n",
    "df_targeted = df.labels\n",
    "X_train, X_test, y_train, y_test = train_test_split(df_text, df_targeted ,test_size=0.3, random_state=42)"
   ]
  },
  {
   "cell_type": "code",
   "execution_count": null,
   "metadata": {},
   "outputs": [],
   "source": [
    "# Random Forest\n",
    "\n",
    "import seaborn as sns\n",
    "import matplotlib.pyplot as plt\n",
    "\n",
    "model = RandomForestClassifier(criterion='gini', n_estimators=700,\n",
    "                             min_samples_split=10,min_samples_leaf=1,\n",
    "                             max_features='auto',oob_score=True,\n",
    "                             random_state=1,n_jobs=-1)\n",
    "model.fit(X_train, y_train)\n",
    "y_pred = model.predict(X_test)\n",
    "print(metrics.classification_report(y_pred, y_test))\n",
    "print('--------------The Accuracy of the model----------------------------')\n",
    "print('Accuracy of Random Forest on test set: {:.8f}'.format(accuracy_score(y_pred, y_test)))\n",
    "\n",
    "sns.heatmap(confusion_matrix(y_test,y_pred),annot=True,fmt='3.0f',cmap=\"summer\")\n",
    "plt.title('Confusion_matrix', y=1.05, size=15)"
   ]
  },
  {
   "cell_type": "code",
   "execution_count": 16,
   "metadata": {},
   "outputs": [
    {
     "name": "stdout",
     "output_type": "stream",
     "text": [
      "              precision    recall  f1-score   support\n",
      "\n",
      "    negative       0.80      0.95      0.87      3138\n",
      "    positive       0.97      0.87      0.92      5746\n",
      "\n",
      "    accuracy                           0.90      8884\n",
      "   macro avg       0.89      0.91      0.89      8884\n",
      "weighted avg       0.91      0.90      0.90      8884\n",
      "\n",
      "--------------The Accuracy of the model----------------------------\n",
      "Accuracy of Multinomial Naive Bayes on test set: 0.89936965\n"
     ]
    },
    {
     "data": {
      "text/plain": [
       "Text(0.5, 1.05, 'Confusion_matrix')"
      ]
     },
     "execution_count": 16,
     "metadata": {},
     "output_type": "execute_result"
    },
    {
     "data": {
      "image/png": "[encoded data removed]",
      "text/plain": [
       "<Figure size 432x288 with 2 Axes>"
      ]
     },
     "metadata": {
      "needs_background": "light"
     },
     "output_type": "display_data"
    }
   ],
   "source": [
    "# Multinomial Naive Bayes\n",
    "\n",
    "from sklearn.naive_bayes import MultinomialNB\n",
    "\n",
    "multinomialnb = MultinomialNB()\n",
    "multinomialnb.fit(X_train, y_train)\n",
    "print(\"Training completed\")\n",
    "y_pred_2 = multinomialnb.predict(X_test)\n",
    "print(metrics.classification_report(y_pred_2, y_test))\n",
    "print('--------------The Accuracy of the model----------------------------')\n",
    "print('Accuracy of Multinomial Naive Bayes on test set: {:.8f}'.format(accuracy_score(y_pred_2, y_test)))\n",
    "\n",
    "sns.heatmap(confusion_matrix(y_test,y_pred_2),annot=True,fmt='3.0f',cmap=\"summer\")\n",
    "plt.title('Confusion_matrix', y=1.05, size=15)"
   ]
  },
  {
   "cell_type": "code",
   "execution_count": 11,
   "metadata": {},
   "outputs": [],
   "source": [
    "# SVM\n",
    "\n",
    "from sklearn.svm import LinearSVC\n",
    "\n",
    "linearsvc = LinearSVC()\n",
    "linearsvc.fit(X_train, y_train)\n",
    "print(\"Training completed\")\n",
    "y_pred_3 = linearsvc.predict(X_test)\n",
    "print(metrics.classification_report(y_pred_3, y_test))\n",
    "print('--------------The Accuracy of the model----------------------------')\n",
    "print('Accuracy of SVM on test set: {:.8f}'.format(accuracy_score(y_pred_3, y_test)))\n",
    "\n",
    "sns.heatmap(confusion_matrix(y_test,y_pred_3),annot=True,fmt='3.0f',cmap=\"summer\")\n",
    "plt.title('Confusion_matrix', y=1.05, size=15)"
   ]
  },
  {
   "cell_type": "code",
   "execution_count": 11,
   "metadata": {},
   "outputs": [
    {
     "name": "stdout",
     "output_type": "stream",
     "text": [
      "              precision    recall  f1-score   support\n",
      "\n",
      "    negative       0.82      0.95      0.88      3239\n",
      "    positive       0.97      0.88      0.92      5645\n",
      "\n",
      "    accuracy                           0.91      8884\n",
      "   macro avg       0.90      0.92      0.90      8884\n",
      "weighted avg       0.91      0.91      0.91      8884\n",
      "\n",
      "--------------The Accuracy of the model----------------------------\n",
      "Accuracy of SVM on test set: 0.90668618\n"
     ]
    },
    {
     "data": {
      "text/plain": [
       "Text(0.5, 1.05, 'Confusion_matrix')"
      ]
     },
     "execution_count": 11,
     "metadata": {},
     "output_type": "execute_result"
    },
    {
     "data": {
      "image/png": "[encoded data removed]",
      "text/plain": [
       "<Figure size 432x288 with 2 Axes>"
      ]
     },
     "metadata": {
      "needs_background": "light"
     },
     "output_type": "display_data"
    }
   ],
   "source": [
    "import pickle\n",
    "import seaborn as sns\n",
    "import matplotlib.pyplot as plt\n",
    "\n",
    "filename = '/Users/jojoli/Documents/夏校申请:项目制作/英才计划/正式培养/chinese/code/basic_model_svc.sav'\n",
    "# pickle.dump(linearsvc, open(filename, 'wb'))\n",
    "\n",
    "# load the model\n",
    "load_model = pickle.load(open(filename, 'rb'))\n",
    "\n",
    "y_pred_4 = load_model.predict(X_test)\n",
    "print(metrics.classification_report(y_pred_4, y_test))\n",
    "print('--------------The Accuracy of the model----------------------------')\n",
    "print('Accuracy of SVM on test set: {:.8f}'.format(accuracy_score(y_pred_4, y_test)))\n",
    "\n",
    "sns.heatmap(confusion_matrix(y_test,y_pred_4),annot=True,fmt='3.0f',cmap=\"summer\")\n",
    "plt.title('Confusion_matrix', y=1.05, size=15)"
   ]
  },
  {
   "cell_type": "code",
   "execution_count": 16,
   "metadata": {},
   "outputs": [
    {
     "name": "stdout",
     "output_type": "stream",
     "text": [
      "(1, 16440)\n",
      "['positive']\n"
     ]
    }
   ],
   "source": [
    "word = '乱'\n",
    "temp = pd.DataFrame({'adj':[word]})\n",
    "basic_df = pd.read_csv(\"/Users/jojoli/Documents/夏校申请:项目制作/英才计划/正式培养/chinese/datasets/sentiment_XS_30k_cleaned.csv\")\n",
    "vectorizer = TfidfVectorizer()\n",
    "vectorizer.fit(basic_df[\"tokenized\"])\n",
    "test = vectorizer.transform(temp)\n",
    "print(test.shape)\n",
    "\n",
    "# df_test = pd.DataFrame(test)\n",
    "pred = load_model.predict(test)\n",
    "print(pred)"
   ]
  },
  {
   "cell_type": "markdown",
   "metadata": {},
   "source": [
    "### Use it for Imagery"
   ]
  },
  {
   "cell_type": "code",
   "execution_count": 45,
   "metadata": {},
   "outputs": [
    {
     "name": "stdout",
     "output_type": "stream",
     "text": [
      "Parsing analysis completed.\n",
      "\n",
      "['positive']   ['positive']   靜\n",
      "['positive']   ['positive']   深\n",
      "['positive']   ['positive']   深\n",
      "['positive']   ['positive']   深\n",
      "Done\n",
      "['positive']   ['positive']   牵\n",
      "['positive']   ['positive']   牵\n",
      "['positive']   ['positive']   不\n",
      "['positive']   ['positive']   长\n",
      "['positive']   ['positive']   如\n",
      "['positive']   ['positive']   不\n",
      "['positive']   ['positive']   一\n",
      "['positive']   ['positive']   乃\n",
      "['positive']   ['positive']   乃\n",
      "['positive']   ['positive']   乃\n",
      "['positive']   ['positive']   长\n",
      "['positive']   ['positive']   长\n",
      "['positive']   ['positive']   当\n",
      "['positive']   ['positive']   不\n",
      "['positive']   ['positive']   且\n",
      "['positive']   ['positive']   且\n",
      "Done\n",
      "['positive']   ['positive']   因\n",
      "Done\n",
      "['positive']   ['positive']   复\n",
      "Done\n",
      "['positive']   ['positive']   不\n",
      "['positive']   ['positive']   和\n",
      "Done\n",
      "['positive']   ['positive']   高\n",
      "Done\n",
      "['positive']   ['positive']   最\n",
      "['positive']   ['positive']   新\n",
      "Done\n",
      "['positive']   ['positive']   仍\n",
      "['positive']   ['positive']   忽\n",
      "['positive']   ['positive']   不\n",
      "['positive']   ['positive']   莫\n",
      "['positive']   ['positive']   无\n",
      "['positive']   ['positive']   复\n",
      "['positive']   ['positive']   复\n",
      "['positive']   ['positive']   钓\n",
      "['positive']   ['positive']   平\n",
      "['positive']   ['positive']   层\n",
      "['positive']   ['positive']   层\n",
      "['positive']   ['positive']   荒\n",
      "['positive']   ['positive']   荒\n",
      "['positive']   ['positive']   荒\n",
      "['positive']   ['positive']   荒\n",
      "['positive']   ['positive']   虽\n",
      "Done\n",
      "Done\n",
      "['positive']   ['positive']   釣\n",
      "Done\n",
      "['positive']   ['positive']   暂\n",
      "['positive']   ['positive']   暂\n",
      "['positive']   ['positive']   盡\n",
      "['positive']   ['positive']   盡\n",
      "Done\n",
      "Done\n",
      "['positive']   ['positive']   諂\n",
      "Done\n",
      "Done\n",
      "['positive']   ['positive']   眇\n",
      "['positive']   ['positive']   浮\n",
      "['positive']   ['positive']   空\n",
      "['positive']   ['positive']   苦\n",
      "['positive']   ['positive']   苦\n",
      "['positive']   ['positive']   隳\n",
      "['positive']   ['positive']   精\n",
      "['positive']   ['positive']   精\n",
      "['positive']   ['positive']   岂\n",
      "['positive']   ['positive']   岂\n",
      "['positive']   ['positive']   岂\n",
      "['positive']   ['positive']   自\n",
      "['positive']   ['positive']   必\n",
      "['positive']   ['positive']   娱\n",
      "['positive']   ['positive']   娱\n",
      "Done\n",
      "Done\n",
      "['positive']   ['positive']   徐\n",
      "['positive']   ['positive']   徐\n",
      "Done\n",
      "['positive']   ['positive']   俱\n",
      "['positive']   ['positive']   俱\n",
      "['positive']   ['positive']   俱\n",
      "['positive']   ['positive']   只\n",
      "['positive']   ['positive']   只\n",
      "['positive']   ['positive']   囚\n",
      "['positive']   ['positive']   相\n",
      "['positive']   ['positive']   膻\n",
      "['positive']   ['positive']   膻\n",
      "['positive']   ['positive']   旧\n",
      "['positive']   ['positive']   旧\n",
      "['positive']   ['positive']   旧\n",
      "['positive']   ['positive']   清\n",
      "['positive']   ['positive']   高\n",
      "['positive']   ['positive']   。\n",
      "['positive']   ['positive']   。\n",
      "['positive']   ['positive']   望\n",
      "['positive']   ['positive']   望\n",
      "['positive']   ['positive']   望\n",
      "['positive']   ['positive']   望\n",
      "['positive']   ['positive']   若\n",
      "['positive']   ['positive']   若\n",
      "['positive']   ['positive']   仍\n",
      "['positive']   ['positive']   点\n",
      "['positive']   ['positive']   点\n",
      "['positive']   ['positive']   栖\n",
      "['positive']   ['positive']   聚\n",
      "['positive']   ['positive']   聚\n",
      "['positive']   ['positive']   不\n",
      "['positive']   ['positive']   掘\n",
      "['positive']   ['positive']   埋\n",
      "['positive']   ['positive']   提\n",
      "['positive']   ['positive']   侏\n",
      "['positive']   ['positive']   渔\n",
      "['positive']   ['positive']   似\n",
      "['positive']   ['positive']   未\n",
      "['positive']   ['positive']   残\n",
      "['positive']   ['positive']   残\n",
      "['positive']   ['positive']   近\n",
      "['positive']   ['positive']   近\n",
      "['positive']   ['positive']   忠\n",
      "['positive']   ['positive']   烈\n",
      "['positive']   ['positive']   烈\n",
      "['positive']   ['positive']   烈\n",
      "['positive']   ['positive']   烈\n",
      "['positive']   ['positive']   定\n",
      "['positive']   ['positive']   定\n",
      "['positive']   ['positive']   定\n",
      "['positive']   ['positive']   定\n",
      "['positive']   ['positive']   定\n",
      "['positive']   ['positive']   定\n",
      "['positive']   ['positive']   定\n",
      "['positive']   ['positive']   定\n",
      "['positive']   ['positive']   定\n",
      "['positive']   ['positive']   定\n",
      "['positive']   ['positive']   定\n",
      "['positive']   ['positive']   定\n",
      "['positive']   ['positive']   定\n",
      "['positive']   ['positive']   定\n",
      "Done\n",
      "['positive']   ['positive']   相\n",
      "['positive']   ['positive']   相\n",
      "Done\n",
      "Done\n",
      "Done\n",
      "Done\n",
      "['positive']   ['positive']   新\n",
      "['positive']   ['positive']   新\n",
      "Done\n",
      "Done\n",
      "Done\n",
      "['positive']   ['positive']   那\n",
      "['positive']   ['positive']   屡\n",
      "['positive']   ['positive']   屡\n",
      "['positive']   ['positive']   犹\n",
      "['positive']   ['positive']   无\n",
      "['positive']   ['positive']   无\n",
      "['positive']   ['positive']   无\n",
      "['positive']   ['positive']   更\n",
      "['positive']   ['positive']   更\n",
      "Done\n",
      "Done\n",
      "Done\n",
      "Done\n",
      "Done\n",
      "Imagery classification completed.\n"
     ]
    }
   ],
   "source": [
    "import functions\n",
    "functions.read_parsing_file()\n",
    "df = pd.read_csv(\"/Users/jojoli/Documents/夏校申请:项目制作/英才计划/正式培养/chinese/datasets/Tang_Dynasty_parsed.csv\")\n",
    "basic_df = pd.read_csv(\"/Users/jojoli/Documents/夏校申请:项目制作/英才计划/正式培养/chinese/datasets/sentiment_XS_30k_cleaned.csv\")\n",
    "all_pred = []\n",
    "i = 0\n",
    "for each in df[\"dep_adjs\"]:\n",
    "    pred = []\n",
    "    temp_df_noun = pd.DataFrame({\"noun\":[df[\"all_nouns\"][i]]})\n",
    "    test_noun = vectorizer.transform(temp_df_noun)\n",
    "    filename = \"/Users/jojoli/Documents/夏校申请:项目制作/英才计划/正式培养/chinese/code/basic_model_svc.sav\"\n",
    "    load_model = pickle.load(open(filename, 'rb'))\n",
    "    t2 = load_model.predict(test_noun)\n",
    "    for word in each:\n",
    "        if (word != '[' and word != \"'\" and word != \",\" and word != \"\\\\\" and word != \"t\" and word != \"，\" and word != \"]\" and word != \" \"):\n",
    "            temp_df_adj = pd.DataFrame({'adj':[word]})\n",
    "            test_adj = vectorizer.transform(temp_df_adj)\n",
    "\n",
    "            # sentiment classification\n",
    "            t1 = load_model.predict(test_adj)\n",
    "            pred.append(t1[0])\n",
    "            print(t1, \" \", t2, \" \", word)\n",
    "    i+=1\n",
    "    pred.append(t2[0])\n",
    "    all_pred.append(pred)\n",
    "    print(\"Done\")\n",
    "df['adj_tag'] = all_pred\n",
    "\n",
    "# Save\n",
    "df.to_csv(\"/Users/jojoli/Documents/夏校申请:项目制作/英才计划/正式培养/chinese/datasets/Tang_Dynasty_adj-tagged.csv\", index=False)\n",
    "print(\"Imagery classification completed.\")"
   ]
  },
  {
   "cell_type": "code",
   "execution_count": 40,
   "metadata": {},
   "outputs": [
    {
     "data": {
      "text/plain": [
       "\"['鬓翁', '貌', '心', '竹', '境界', '言']\""
      ]
     },
     "execution_count": 40,
     "metadata": {},
     "output_type": "execute_result"
    }
   ],
   "source": [
    "word = \"wow\"\n",
    "df[\"all_nouns\"][0]"
   ]
  },
  {
   "cell_type": "code",
   "execution_count": null,
   "metadata": {},
   "outputs": [],
   "source": []
  }
 ],
 "metadata": {
  "kernelspec": {
   "display_name": "Python 3.8.11 ('base')",
   "language": "python",
   "name": "python3"
  },
  "language_info": {
   "codemirror_mode": {
    "name": "ipython",
    "version": 3
   },
   "file_extension": ".py",
   "mimetype": "text/x-python",
   "name": "python",
   "nbconvert_exporter": "python",
   "pygments_lexer": "ipython3",
   "version": "3.8.11"
  },
  "vscode": {
   "interpreter": {
    "hash": "fa6335b93832437a7ad6101cee87dd3e9814daa15b714665e121125b2ec0bb3c"
   }
  }
 },
 "nbformat": 4,
 "nbformat_minor": 2
}
