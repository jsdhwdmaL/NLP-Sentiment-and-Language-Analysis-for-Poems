{
 "cells": [
  {
   "cell_type": "code",
   "execution_count": 36,
   "metadata": {},
   "outputs": [],
   "source": [
    "import suparkanbun\n",
    "import deplacy"
   ]
  },
  {
   "cell_type": "markdown",
   "metadata": {},
   "source": [
    "## An Example of SuPar-Kanbun"
   ]
  },
  {
   "cell_type": "code",
   "execution_count": 5,
   "metadata": {},
   "outputs": [
    {
     "name": "stderr",
     "output_type": "stream",
     "text": [
      "Some weights of the model checkpoint at KoichiYasuoka/roberta-classical-chinese-base-char were not used when initializing RobertaModel: ['lm_head.layer_norm.bias', 'lm_head.decoder.bias', 'lm_head.dense.weight', 'lm_head.decoder.weight', 'lm_head.layer_norm.weight', 'lm_head.bias', 'lm_head.dense.bias']\n",
      "- This IS expected if you are initializing RobertaModel from the checkpoint of a model trained on another task or with another architecture (e.g. initializing a BertForSequenceClassification model from a BertForPreTraining model).\n",
      "- This IS NOT expected if you are initializing RobertaModel from the checkpoint of a model that you expect to be exactly identical (initializing a BertForSequenceClassification model from a BertForSequenceClassification model).\n"
     ]
    }
   ],
   "source": [
    "nlp=suparkanbun.load()"
   ]
  },
  {
   "cell_type": "code",
   "execution_count": 30,
   "metadata": {},
   "outputs": [
    {
     "name": "stdout",
     "output_type": "stream",
     "text": [
      "2022-10-19 22:10:37 INFO Loading the data\n"
     ]
    },
    {
     "name": "stderr",
     "output_type": "stream",
     "text": [
      "                                            \r"
     ]
    },
    {
     "name": "stdout",
     "output_type": "stream",
     "text": [
      "2022-10-19 22:10:37 INFO \n",
      "Dataset(n_sentences=1, n_batches=1, n_buckets=1)\n",
      "2022-10-19 22:10:37 INFO Making predictions on the dataset\n"
     ]
    },
    {
     "name": "stderr",
     "output_type": "stream",
     "text": [
      "                                           \r"
     ]
    },
    {
     "name": "stdout",
     "output_type": "stream",
     "text": [
      "2022-10-19 22:10:37 INFO 0:00:00.074066s elapsed, 13.50 Sents/s\n",
      "# text = 砌下落梅如雪,乱拂了一身还满\n",
      "1\t砌\t砌\tNOUN\tn,名詞,固定物,建造物\tCase=Loc\t2\tnmod\t_\tSpaceAfter=No\n",
      "2\t下\t下\tNOUN\tn,名詞,固定物,関係\tCase=Loc\t4\tnmod\t_\tGloss=down|SpaceAfter=No\n",
      "3\t落\t落\tVERB\tv,動詞,行為,移動\t_\t4\tamod\t_\tGloss=drop|SpaceAfter=No\n",
      "4\t梅\t梅\tNOUN\tn,名詞,固定物,樹木\t_\t5\tnsubj\t_\tGloss=Japanese-apricot|SpaceAfter=No\n",
      "5\t如\t如\tVERB\tv,動詞,行為,分類\tDegree=Equ\t9\tcsubj\t_\tGloss=be-like|SpaceAfter=No\n",
      "6\t雪\t雪\tNOUN\tn,名詞,天象,気象\t_\t5\tobj\t_\tGloss=snow|SpaceAfter=No\n",
      "7\t,\t,\tSYM\ts,記号,一般,*\t_\t5\tconj\t_\tSpaceAfter=No\n",
      "8\t乱\t亂\tVERB\tv,動詞,行為,動作\t_\t9\tadvmod\t_\tGloss=disorder|SpaceAfter=No\n",
      "9\t拂\t拂\tVERB\tv,動詞,行為,動作\t_\t0\troot\t_\tGloss=brush-away|SpaceAfter=No\n",
      "10\t了\t了\tPART\tp,助詞,句末,*\t_\t9\tflat:vv\t_\tSpaceAfter=No\n",
      "11\t一\t一\tNUM\tn,数詞,数字,*\t_\t12\tnummod\t_\tGloss=one|SpaceAfter=No\n",
      "12\t身\t身\tNOUN\tn,名詞,不可譲,身体\t_\t9\tobj\t_\tGloss=body|SpaceAfter=No\n",
      "13\t还\t還\tADV\tv,副詞,頻度,重複\t_\t9\tparataxis\t_\tSpaceAfter=No\n",
      "14\t满\t滿\tVERB\tv,動詞,行為,得失\t_\t13\tflat:vv\t_\tGloss=full|SpaceAfter=No\n",
      "\n",
      "\n"
     ]
    }
   ],
   "source": [
    "doc=nlp(\"砌下落梅如雪,乱拂了一身还满\")\n",
    "tmp = suparkanbun.to_conllu(doc)\n",
    "print(tmp)"
   ]
  },
  {
   "cell_type": "code",
   "execution_count": 31,
   "metadata": {},
   "outputs": [
    {
     "name": "stdout",
     "output_type": "stream",
     "text": [
      "2022-10-19 22:10:42 INFO Loading the data\n"
     ]
    },
    {
     "name": "stderr",
     "output_type": "stream",
     "text": [
      "                                            \r"
     ]
    },
    {
     "name": "stdout",
     "output_type": "stream",
     "text": [
      "2022-10-19 22:10:42 INFO \n",
      "Dataset(n_sentences=1, n_batches=1, n_buckets=1)\n",
      "2022-10-19 22:10:42 INFO Making predictions on the dataset\n"
     ]
    },
    {
     "name": "stderr",
     "output_type": "stream",
     "text": [
      "                                                   \r"
     ]
    },
    {
     "name": "stdout",
     "output_type": "stream",
     "text": [
      "2022-10-19 22:10:42 INFO 0:00:00.140794s elapsed, 7.10 Sents/s\n",
      "砌 NOUN <╗         nmod\n",
      "下 NOUN ═╝<╗       nmod\n",
      "落 VERB <╗ ║       amod\n",
      "梅 NOUN ═╝═╝<╗     nsubj\n",
      "如 VERB ═══╗═╝═══╗ ROOT\n",
      "雪 NOUN <╗ ║     ║ nsubj\n",
      "乱 VERB ═╝<╝     ║ ccomp\n",
      ".  SYM  <════╗   ║ nsubj\n",
      "拂 VERB ═╗═╗═╝═╗<╝ conj\n",
      "了 PART <╝ ║   ║   flat:vv\n",
      "一 NUM  <╗ ║   ║   nummod\n",
      "身 NOUN ═╝<╝   ║   obj\n",
      "还 ADV  ═╗<════╝   parataxis\n",
      "满 VERB <╝         flat:vv\n"
     ]
    },
    {
     "data": {
      "text/plain": [
       "'None'"
      ]
     },
     "execution_count": 31,
     "metadata": {},
     "output_type": "execute_result"
    }
   ],
   "source": [
    "doc=nlp(\"砌下落梅如雪乱.拂了一身还满\")\n",
    "tmp = str(deplacy.render(doc))\n",
    "tmp"
   ]
  },
  {
   "cell_type": "markdown",
   "metadata": {},
   "source": [
    "## Form Dependency Parsing Files for Data-Frame"
   ]
  },
  {
   "cell_type": "code",
   "execution_count": 16,
   "metadata": {},
   "outputs": [],
   "source": [
    "# 提取出来的 amod 和 nmod 可能不准确，可以写程序与之前提取的名词比较，只录入两次都出现的词\n",
    "# 一般形容词修饰最近的意象，那就把形容词和离他最近的意象associate"
   ]
  },
  {
   "cell_type": "code",
   "execution_count": 19,
   "metadata": {},
   "outputs": [],
   "source": [
    "# Testing\n",
    "\n",
    "tempfile = \"/Users/jojoli/Documents/夏校申请:项目制作/英才计划/正式培养/chinese/datasets/parsing\" + \"/temp.txt\"\n",
    "\n",
    "with open(tempfile, 'w') as file_object1:\n",
    "    file_object1.write(suparkanbun.to_conllu(doc))"
   ]
  },
  {
   "cell_type": "code",
   "execution_count": 41,
   "metadata": {},
   "outputs": [
    {
     "name": "stdout",
     "output_type": "stream",
     "text": [
      "静爱青苔院，深宜白鬓翁。貌将松共瘦，心与竹俱空。暖有低檐日，春多飏幕风。平生闲境界，尽在五言中。\n",
      "2022-10-27 01:16:01 INFO Loading the data\n"
     ]
    },
    {
     "name": "stderr",
     "output_type": "stream",
     "text": [
      "                                            \r"
     ]
    },
    {
     "name": "stdout",
     "output_type": "stream",
     "text": [
      "2022-10-27 01:16:01 INFO \n",
      "Dataset(n_sentences=1, n_batches=1, n_buckets=1)\n",
      "2022-10-27 01:16:01 INFO Making predictions on the dataset\n"
     ]
    },
    {
     "name": "stderr",
     "output_type": "stream",
     "text": [
      "                                           \r"
     ]
    },
    {
     "name": "stdout",
     "output_type": "stream",
     "text": [
      "2022-10-27 01:16:01 INFO 0:00:00.097419s elapsed, 10.26 Sents/s\n",
      "腊雪一尺厚，云冻寒顽痴。孤城大泽畔，人疏烟火微。愤悱欲谁语，忧愠不能持。天子号仁圣，任贤如事师。凡称曰治具，小大无不施。明庭开广敞，才隽受羁维。如日月縆升，若鸾凤葳蕤。人才自朽下，弃去亦其宜。北虏坏亭障，闻屯千里师。牵连久不解，他盗恐旁窥。臣实有长策，彼可徐鞭笞。如蒙一召议，食肉寝其皮。斯乃庙堂事，尔微非尔知。向来躐等语，长作陷身机。行当腊欲破，酒齐不可迟。且想春候暖，瓮间倾一卮。\n",
      "2022-10-27 01:16:01 INFO Loading the data\n"
     ]
    },
    {
     "name": "stderr",
     "output_type": "stream",
     "text": [
      "                                             \r"
     ]
    },
    {
     "name": "stdout",
     "output_type": "stream",
     "text": [
      "2022-10-27 01:16:01 INFO \n",
      "Dataset(n_sentences=1, n_batches=1, n_buckets=1)\n",
      "2022-10-27 01:16:01 INFO Making predictions on the dataset\n"
     ]
    },
    {
     "name": "stderr",
     "output_type": "stream",
     "text": [
      "                                                   \r"
     ]
    },
    {
     "name": "stdout",
     "output_type": "stream",
     "text": [
      "2022-10-27 01:16:01 INFO 0:00:00.315265s elapsed, 3.17 Sents/s\n",
      "因随八马上仙山，顿隔尘埃物象闲。只恐西追王母宴，却忧难得到人间。\n",
      "2022-10-27 01:16:01 INFO Loading the data\n"
     ]
    },
    {
     "name": "stderr",
     "output_type": "stream",
     "text": [
      "                                            \r"
     ]
    },
    {
     "name": "stdout",
     "output_type": "stream",
     "text": [
      "2022-10-27 01:16:01 INFO \n",
      "Dataset(n_sentences=1, n_batches=1, n_buckets=1)\n",
      "2022-10-27 01:16:01 INFO Making predictions on the dataset\n"
     ]
    },
    {
     "name": "stderr",
     "output_type": "stream",
     "text": [
      "                                           \r"
     ]
    },
    {
     "name": "stdout",
     "output_type": "stream",
     "text": [
      "2022-10-27 01:16:02 INFO 0:00:00.092250s elapsed, 10.84 Sents/s\n",
      "羁旅复经冬，瓢空盎亦空。泪流寒枕上，迹绝旧山中。凌结浮萍水，雪和衰柳风。曙光鸡未报，嘹唳两三鸿。\n",
      "2022-10-27 01:16:02 INFO Loading the data\n"
     ]
    },
    {
     "name": "stderr",
     "output_type": "stream",
     "text": [
      "                                            \r"
     ]
    },
    {
     "name": "stdout",
     "output_type": "stream",
     "text": [
      "2022-10-27 01:16:02 INFO \n",
      "Dataset(n_sentences=1, n_batches=1, n_buckets=1)\n",
      "2022-10-27 01:16:02 INFO Making predictions on the dataset\n"
     ]
    },
    {
     "name": "stderr",
     "output_type": "stream",
     "text": [
      "                                           \r"
     ]
    },
    {
     "name": "stdout",
     "output_type": "stream",
     "text": [
      "2022-10-27 01:16:02 INFO 0:00:00.101374s elapsed, 9.86 Sents/s\n",
      "刘郎不用闲惆怅，且作花间共醉人。算得贞元旧朝士，几人同见太和春。\n",
      "2022-10-27 01:16:02 INFO Loading the data\n"
     ]
    },
    {
     "name": "stderr",
     "output_type": "stream",
     "text": [
      "                                            \r"
     ]
    },
    {
     "name": "stdout",
     "output_type": "stream",
     "text": [
      "2022-10-27 01:16:02 INFO \n",
      "Dataset(n_sentences=1, n_batches=1, n_buckets=1)\n",
      "2022-10-27 01:16:02 INFO Making predictions on the dataset\n"
     ]
    },
    {
     "name": "stderr",
     "output_type": "stream",
     "text": [
      "                                           \r"
     ]
    },
    {
     "name": "stdout",
     "output_type": "stream",
     "text": [
      "2022-10-27 01:16:02 INFO 0:00:00.086559s elapsed, 11.55 Sents/s\n",
      "岩嶂随高步，琴尊奉胜游。金风吹绿簟，湘水入朱楼。朗抱云开月，高情鹤见秋。登临多暇日，非为赋消忧。\n",
      "2022-10-27 01:16:02 INFO Loading the data\n"
     ]
    },
    {
     "name": "stderr",
     "output_type": "stream",
     "text": [
      "                                            \r"
     ]
    },
    {
     "name": "stdout",
     "output_type": "stream",
     "text": [
      "2022-10-27 01:16:02 INFO \n",
      "Dataset(n_sentences=1, n_batches=1, n_buckets=1)\n",
      "2022-10-27 01:16:02 INFO Making predictions on the dataset\n"
     ]
    },
    {
     "name": "stderr",
     "output_type": "stream",
     "text": [
      "                                           \r"
     ]
    },
    {
     "name": "stdout",
     "output_type": "stream",
     "text": [
      "2022-10-27 01:16:02 INFO 0:00:00.098927s elapsed, 10.11 Sents/s\n",
      "池畔最平处，树阴新合时。移床解衣带，坐任清风吹。举棹鸟先觉，垂纶鱼未知。前头何所有，一卷晋公诗。\n",
      "2022-10-27 01:16:02 INFO Loading the data\n"
     ]
    },
    {
     "name": "stderr",
     "output_type": "stream",
     "text": [
      "                                            \r"
     ]
    },
    {
     "name": "stdout",
     "output_type": "stream",
     "text": [
      "2022-10-27 01:16:02 INFO \n",
      "Dataset(n_sentences=1, n_batches=1, n_buckets=1)\n",
      "2022-10-27 01:16:02 INFO Making predictions on the dataset\n"
     ]
    },
    {
     "name": "stderr",
     "output_type": "stream",
     "text": [
      "                                           \r"
     ]
    },
    {
     "name": "stdout",
     "output_type": "stream",
     "text": [
      "2022-10-27 01:16:02 INFO 0:00:00.098382s elapsed, 10.16 Sents/s\n",
      "客心悲暮序，登墉塘瞰平陆。林泽窅芊绵，山川郁重复。王公资设险，名都拒江隩。方城次北门，溟海穷南服。长策挫吴豕，雄图竞周鹿。万乘重沮漳，九鼎轻伊谷。大搜云梦掩，壮观章华筑。人世更盛衰，吉凶良倚伏。遽见邻交断，仍睹贤臣逐。南风忽不竞，西师日侵蹙。运圯属驰驱，时屯恣敲朴。莫救夷陵火，无复秦庭哭。鄢郢遂丘墟，风尘俄惨黩。狐兔时游践，霜露日沾沐。钓渚故池平，神台层宇覆。阵云埋夏首，穷阴惨荒谷。怅矣舟壑迁，悲哉年祀倏。虽异三春望，终伤千里目。\n",
      "2022-10-27 01:16:02 INFO Loading the data\n"
     ]
    },
    {
     "name": "stderr",
     "output_type": "stream",
     "text": [
      "                                             \r"
     ]
    },
    {
     "name": "stdout",
     "output_type": "stream",
     "text": [
      "2022-10-27 01:16:02 INFO \n",
      "Dataset(n_sentences=1, n_batches=1, n_buckets=1)\n",
      "2022-10-27 01:16:02 INFO Making predictions on the dataset\n"
     ]
    },
    {
     "name": "stderr",
     "output_type": "stream",
     "text": [
      "                                                   \r"
     ]
    },
    {
     "name": "stdout",
     "output_type": "stream",
     "text": [
      "2022-10-27 01:16:03 INFO 0:00:00.290007s elapsed, 3.45 Sents/s\n",
      "知掩山扉三十秋，鱼须翠碧弃床头。莫道谢公方在郡，五言今日为君休。\n",
      "2022-10-27 01:16:03 INFO Loading the data\n"
     ]
    },
    {
     "name": "stderr",
     "output_type": "stream",
     "text": [
      "                                            \r"
     ]
    },
    {
     "name": "stdout",
     "output_type": "stream",
     "text": [
      "2022-10-27 01:16:03 INFO \n",
      "Dataset(n_sentences=1, n_batches=1, n_buckets=1)\n",
      "2022-10-27 01:16:03 INFO Making predictions on the dataset\n"
     ]
    },
    {
     "name": "stderr",
     "output_type": "stream",
     "text": [
      "                                           \r"
     ]
    },
    {
     "name": "stdout",
     "output_type": "stream",
     "text": [
      "2022-10-27 01:16:03 INFO 0:00:00.086833s elapsed, 11.52 Sents/s\n",
      "露团沙鹤起，人卧钓船流。（见《摭言》）\n",
      "2022-10-27 01:16:03 INFO Loading the data\n"
     ]
    },
    {
     "name": "stderr",
     "output_type": "stream",
     "text": [
      "                                            \r"
     ]
    },
    {
     "name": "stdout",
     "output_type": "stream",
     "text": [
      "2022-10-27 01:16:03 INFO \n",
      "Dataset(n_sentences=1, n_batches=1, n_buckets=1)\n",
      "2022-10-27 01:16:03 INFO Making predictions on the dataset\n"
     ]
    },
    {
     "name": "stderr",
     "output_type": "stream",
     "text": [
      "                                           \r"
     ]
    },
    {
     "name": "stdout",
     "output_type": "stream",
     "text": [
      "2022-10-27 01:16:03 INFO 0:00:00.079822s elapsed, 12.53 Sents/s\n",
      "暂辞堂印执兵权，尽管诸军破贼年。冠盖相望催入相，待将功德格皇天。\n",
      "2022-10-27 01:16:03 INFO Loading the data\n"
     ]
    },
    {
     "name": "stderr",
     "output_type": "stream",
     "text": [
      "                                            \r"
     ]
    },
    {
     "name": "stdout",
     "output_type": "stream",
     "text": [
      "2022-10-27 01:16:03 INFO \n",
      "Dataset(n_sentences=1, n_batches=1, n_buckets=1)\n",
      "2022-10-27 01:16:03 INFO Making predictions on the dataset\n"
     ]
    },
    {
     "name": "stderr",
     "output_type": "stream",
     "text": [
      "                                           \r"
     ]
    },
    {
     "name": "stdout",
     "output_type": "stream",
     "text": [
      "2022-10-27 01:16:03 INFO 0:00:00.088857s elapsed, 11.25 Sents/s\n",
      "北园东风起，杂花次第开。心知须臾落，一日三四来。花下岂无酒，欲酌复迟回。所思眇千里，谁劝我一杯。\n",
      "2022-10-27 01:16:03 INFO Loading the data\n"
     ]
    },
    {
     "name": "stderr",
     "output_type": "stream",
     "text": [
      "                                            \r"
     ]
    },
    {
     "name": "stdout",
     "output_type": "stream",
     "text": [
      "2022-10-27 01:16:03 INFO \n",
      "Dataset(n_sentences=1, n_batches=1, n_buckets=1)\n",
      "2022-10-27 01:16:03 INFO Making predictions on the dataset\n"
     ]
    },
    {
     "name": "stderr",
     "output_type": "stream",
     "text": [
      "                                           \r"
     ]
    },
    {
     "name": "stdout",
     "output_type": "stream",
     "text": [
      "2022-10-27 01:16:03 INFO 0:00:00.096812s elapsed, 10.33 Sents/s\n",
      "薄俗何心议感恩，谄容卑迹赖君门。春申还道三千客，寂寞无人杀李园。\n",
      "2022-10-27 01:16:03 INFO Loading the data\n"
     ]
    },
    {
     "name": "stderr",
     "output_type": "stream",
     "text": [
      "                                            \r"
     ]
    },
    {
     "name": "stdout",
     "output_type": "stream",
     "text": [
      "2022-10-27 01:16:03 INFO \n",
      "Dataset(n_sentences=1, n_batches=1, n_buckets=1)\n",
      "2022-10-27 01:16:03 INFO Making predictions on the dataset\n"
     ]
    },
    {
     "name": "stderr",
     "output_type": "stream",
     "text": [
      "                                           \r"
     ]
    },
    {
     "name": "stdout",
     "output_type": "stream",
     "text": [
      "2022-10-27 01:16:03 INFO 0:00:00.099886s elapsed, 10.01 Sents/s\n",
      "吴国分牛斗，晋室命龙骧。受任敌已灭，策勋名不彰。居美未尽善，矜功徒自伤。长戟今何在，孤坟此路傍。不观松柏茂，空余荆棘场。叹嗟悬剑陇，谁识梦刀祥。\n",
      "2022-10-27 01:16:04 INFO Loading the data\n"
     ]
    },
    {
     "name": "stderr",
     "output_type": "stream",
     "text": [
      "                                            \r"
     ]
    },
    {
     "name": "stdout",
     "output_type": "stream",
     "text": [
      "2022-10-27 01:16:04 INFO \n",
      "Dataset(n_sentences=1, n_batches=1, n_buckets=1)\n",
      "2022-10-27 01:16:04 INFO Making predictions on the dataset\n"
     ]
    },
    {
     "name": "stderr",
     "output_type": "stream",
     "text": [
      "                                                   \r"
     ]
    },
    {
     "name": "stdout",
     "output_type": "stream",
     "text": [
      "2022-10-27 01:16:04 INFO 0:00:00.129546s elapsed, 7.72 Sents/s\n",
      "新阳故楼上，眇眇伤遐眷。违世情易忘，羇时得无倦。春归华柳发，世故陵谷变。扰扰陌上心，悠悠梦中见。苍林有灵境，杳映遥可羡。春日倚东峰，华泉落西甸。钟声在空碧，幡影摇葱蒨。缅想山中人，神期如会面。别离芳月积，岐路浮云偏。正□入空门，仙君依苦县。隳形舍簪绂，烹玉思精炼。事外宜我心，人间岂予恋。身遗世自薄，道胜名必贱。耳目何所娱，白云与黄卷。\n",
      "2022-10-27 01:16:04 INFO Loading the data\n"
     ]
    },
    {
     "name": "stderr",
     "output_type": "stream",
     "text": [
      "                                             \r"
     ]
    },
    {
     "name": "stdout",
     "output_type": "stream",
     "text": [
      "2022-10-27 01:16:04 INFO \n",
      "Dataset(n_sentences=1, n_batches=1, n_buckets=1)\n",
      "2022-10-27 01:16:04 INFO Making predictions on the dataset\n"
     ]
    },
    {
     "name": "stderr",
     "output_type": "stream",
     "text": [
      "                                                   \r"
     ]
    },
    {
     "name": "stdout",
     "output_type": "stream",
     "text": [
      "2022-10-27 01:16:04 INFO 0:00:00.274119s elapsed, 3.65 Sents/s\n",
      "路过章台气象宽，九重城阙在云端。烟含上苑沈沈紫，雪露南山愯愯寒。绮陌已堪骑宝马，绿芜行即弹金丸。灞川南北真图画，更待残阳一望看。\n",
      "2022-10-27 01:16:04 INFO Loading the data\n"
     ]
    },
    {
     "name": "stderr",
     "output_type": "stream",
     "text": [
      "                                            \r"
     ]
    },
    {
     "name": "stdout",
     "output_type": "stream",
     "text": [
      "2022-10-27 01:16:04 INFO \n",
      "Dataset(n_sentences=1, n_batches=1, n_buckets=1)\n",
      "2022-10-27 01:16:04 INFO Making predictions on the dataset\n"
     ]
    },
    {
     "name": "stderr",
     "output_type": "stream",
     "text": [
      "                                                   \r"
     ]
    },
    {
     "name": "stdout",
     "output_type": "stream",
     "text": [
      "2022-10-27 01:16:04 INFO 0:00:00.123570s elapsed, 8.09 Sents/s\n",
      "聊排灵琐闼，徐步入清都。青溪冥寂士，思玄徇道枢。十芒生药笥，七焰发丹炉。缥帙桐君录，朱书王母符。宫槐散绿穗，日槿落青柎。矫翰雷门鹤，飞来叶县凫。凌风自可御，安事迫中区。方追羽化侣，从此得玄珠。\n",
      "2022-10-27 01:16:04 INFO Loading the data\n"
     ]
    },
    {
     "name": "stderr",
     "output_type": "stream",
     "text": [
      "                                            \r"
     ]
    },
    {
     "name": "stdout",
     "output_type": "stream",
     "text": [
      "2022-10-27 01:16:04 INFO \n",
      "Dataset(n_sentences=1, n_batches=1, n_buckets=1)\n",
      "2022-10-27 01:16:04 INFO Making predictions on the dataset\n"
     ]
    },
    {
     "name": "stderr",
     "output_type": "stream",
     "text": [
      "                                                   \r"
     ]
    },
    {
     "name": "stdout",
     "output_type": "stream",
     "text": [
      "2022-10-27 01:16:05 INFO 0:00:00.156867s elapsed, 6.37 Sents/s\n",
      "大雅何寥阔，斯人尚典刑。交期余潦倒，材力尔精灵。二子声同日，诸生困一经。文章开穾奥，迁擢润朝廷。旧好何由展，新诗更忆听。别来头并白，相见眼终青。伊昔贫皆甚，同忧心不宁。栖遑分半菽，浩荡逐流萍。俗态犹猜忌，妖氛忽杳冥。独惭投汉阁，俱议哭秦庭。还蜀只无补，囚梁亦固扃。华夷相混合，宇宙一膻腥。帝力收三统，天威总四溟。旧都俄望幸，清庙肃惟馨。杂种虽高垒，长驱甚建瓴。焚香淑景殿，涨水望云亭。法驾初还日，群公若会星。宫臣仍点染，柱史正零丁。官忝趋栖凤，朝回叹聚萤。唤人看騕褭，不嫁惜娉婷。掘剑知埋狱，提刀见发硎。侏儒应共饱，渔父忌偏醒。旅泊穷清渭，长吟望浊泾。羽书还似急，烽火未全停。师老资残寇，戎生及近坰。忠臣辞愤激，烈士涕飘零。上将盈边鄙，元勋溢鼎铭。仰思调玉烛，谁定握青萍。陇俗轻鹦鹉，原情类鶺鴒。秋风动关塞，高卧想仪形。\n",
      "2022-10-27 01:16:05 INFO Loading the data\n"
     ]
    },
    {
     "name": "stderr",
     "output_type": "stream",
     "text": [
      "                                             \r"
     ]
    },
    {
     "name": "stdout",
     "output_type": "stream",
     "text": [
      "2022-10-27 01:16:05 INFO \n",
      "Dataset(n_sentences=1, n_batches=1, n_buckets=1)\n",
      "2022-10-27 01:16:05 INFO Making predictions on the dataset\n"
     ]
    },
    {
     "name": "stderr",
     "output_type": "stream",
     "text": [
      "                                                   \r"
     ]
    },
    {
     "name": "stdout",
     "output_type": "stream",
     "text": [
      "2022-10-27 01:16:05 INFO 0:00:00.654249s elapsed, 1.53 Sents/s\n",
      "郊外谁相送，夫君道术亲。书生邹鲁客，才子洛阳人。祖席依寒草，行车起暮尘。山川何寂寞，长望泪沾巾。\n",
      "2022-10-27 01:16:05 INFO Loading the data\n"
     ]
    },
    {
     "name": "stderr",
     "output_type": "stream",
     "text": [
      "                                            \r"
     ]
    },
    {
     "name": "stdout",
     "output_type": "stream",
     "text": [
      "2022-10-27 01:16:05 INFO \n",
      "Dataset(n_sentences=1, n_batches=1, n_buckets=1)\n",
      "2022-10-27 01:16:05 INFO Making predictions on the dataset\n"
     ]
    },
    {
     "name": "stderr",
     "output_type": "stream",
     "text": [
      "                                           \r"
     ]
    },
    {
     "name": "stdout",
     "output_type": "stream",
     "text": [
      "2022-10-27 01:16:06 INFO 0:00:00.092498s elapsed, 10.81 Sents/s\n",
      "欲别牵郎衣，郎今到何处。不恨归来迟，莫向临邛去。\n",
      "2022-10-27 01:16:06 INFO Loading the data\n"
     ]
    },
    {
     "name": "stderr",
     "output_type": "stream",
     "text": [
      "                                            \r"
     ]
    },
    {
     "name": "stdout",
     "output_type": "stream",
     "text": [
      "2022-10-27 01:16:06 INFO \n",
      "Dataset(n_sentences=1, n_batches=1, n_buckets=1)\n",
      "2022-10-27 01:16:06 INFO Making predictions on the dataset\n"
     ]
    },
    {
     "name": "stderr",
     "output_type": "stream",
     "text": [
      "                                           \r"
     ]
    },
    {
     "name": "stdout",
     "output_type": "stream",
     "text": [
      "2022-10-27 01:16:06 INFO 0:00:00.070465s elapsed, 14.19 Sents/s\n",
      "北风沙漠地，吾子远从军。官路虽非远，诗名要且闻。蝉悲欲落日，雕下拟阴云。此去难相恋，前山掺袂分。\n",
      "2022-10-27 01:16:06 INFO Loading the data\n"
     ]
    },
    {
     "name": "stderr",
     "output_type": "stream",
     "text": [
      "                                            \r"
     ]
    },
    {
     "name": "stdout",
     "output_type": "stream",
     "text": [
      "2022-10-27 01:16:06 INFO \n",
      "Dataset(n_sentences=1, n_batches=1, n_buckets=1)\n",
      "2022-10-27 01:16:06 INFO Making predictions on the dataset\n"
     ]
    },
    {
     "name": "stderr",
     "output_type": "stream",
     "text": [
      "                                           \r"
     ]
    },
    {
     "name": "stdout",
     "output_type": "stream",
     "text": [
      "2022-10-27 01:16:06 INFO 0:00:00.096029s elapsed, 10.41 Sents/s\n",
      "采藕平湖上，藕泥封藕节。船影入荷香，莫冲莲柄折。\n",
      "2022-10-27 01:16:06 INFO Loading the data\n"
     ]
    },
    {
     "name": "stderr",
     "output_type": "stream",
     "text": [
      "                                            \r"
     ]
    },
    {
     "name": "stdout",
     "output_type": "stream",
     "text": [
      "2022-10-27 01:16:06 INFO \n",
      "Dataset(n_sentences=1, n_batches=1, n_buckets=1)\n",
      "2022-10-27 01:16:06 INFO Making predictions on the dataset\n"
     ]
    },
    {
     "name": "stderr",
     "output_type": "stream",
     "text": [
      "                                           \r"
     ]
    },
    {
     "name": "stdout",
     "output_type": "stream",
     "text": [
      "2022-10-27 01:16:06 INFO 0:00:00.076359s elapsed, 13.10 Sents/s\n",
      "新酒此时熟，故人何日来。自从金谷别，不见玉山颓。疏索柳花碗，寂寥荷叶杯。今冬问毡帐，雪里为谁开。\n",
      "2022-10-27 01:16:06 INFO Loading the data\n"
     ]
    },
    {
     "name": "stderr",
     "output_type": "stream",
     "text": [
      "                                            \r"
     ]
    },
    {
     "name": "stdout",
     "output_type": "stream",
     "text": [
      "2022-10-27 01:16:06 INFO \n",
      "Dataset(n_sentences=1, n_batches=1, n_buckets=1)\n",
      "2022-10-27 01:16:06 INFO Making predictions on the dataset\n"
     ]
    },
    {
     "name": "stderr",
     "output_type": "stream",
     "text": [
      "                                           \r"
     ]
    },
    {
     "name": "stdout",
     "output_type": "stream",
     "text": [
      "2022-10-27 01:16:06 INFO 0:00:00.098381s elapsed, 10.16 Sents/s\n",
      "身死声名在，多应万古传。寡妻无子息，破宅带林泉。冢近登山道，诗随过海船。故人相吊后，斜日下寒天。\n",
      "2022-10-27 01:16:06 INFO Loading the data\n"
     ]
    },
    {
     "name": "stderr",
     "output_type": "stream",
     "text": [
      "                                            \r"
     ]
    },
    {
     "name": "stdout",
     "output_type": "stream",
     "text": [
      "2022-10-27 01:16:06 INFO \n",
      "Dataset(n_sentences=1, n_batches=1, n_buckets=1)\n",
      "2022-10-27 01:16:06 INFO Making predictions on the dataset\n"
     ]
    },
    {
     "name": "stderr",
     "output_type": "stream",
     "text": [
      "                                           \r"
     ]
    },
    {
     "name": "stdout",
     "output_type": "stream",
     "text": [
      "2022-10-27 01:16:06 INFO 0:00:00.090414s elapsed, 11.06 Sents/s\n",
      "红紫共纷纷，祗承老使君。移舟木兰棹，行酒石榴裙。水色窗窗见，花香院院闻。恋他官舍住，双鬓白如云。\n",
      "2022-10-27 01:16:06 INFO Loading the data\n"
     ]
    },
    {
     "name": "stderr",
     "output_type": "stream",
     "text": [
      "                                            \r"
     ]
    },
    {
     "name": "stdout",
     "output_type": "stream",
     "text": [
      "2022-10-27 01:16:06 INFO \n",
      "Dataset(n_sentences=1, n_batches=1, n_buckets=1)\n",
      "2022-10-27 01:16:06 INFO Making predictions on the dataset\n"
     ]
    },
    {
     "name": "stderr",
     "output_type": "stream",
     "text": [
      "                                           \r"
     ]
    },
    {
     "name": "stdout",
     "output_type": "stream",
     "text": [
      "2022-10-27 01:16:06 INFO 0:00:00.091317s elapsed, 10.95 Sents/s\n",
      "深闺闲锁难成梦，那得同衾共绣床。一自与郎江上别，霜天更自觉宵长。愁听黄莺唤友声，空闺曙色梦初成。窗间总有花笺纸，难寄妾心字字明。寂静璇闺度岁年，并头莲叶又如钱。愁人独处那堪此，安得君来独枕眠。卧病匡床香屡添，夜深犹有一丝烟。怀君无计能成梦，更恨砧声到枕边。\n",
      "2022-10-27 01:16:07 INFO Loading the data\n"
     ]
    },
    {
     "name": "stderr",
     "output_type": "stream",
     "text": [
      "                                             \r"
     ]
    },
    {
     "name": "stdout",
     "output_type": "stream",
     "text": [
      "2022-10-27 01:16:07 INFO \n",
      "Dataset(n_sentences=1, n_batches=1, n_buckets=1)\n",
      "2022-10-27 01:16:07 INFO Making predictions on the dataset\n"
     ]
    },
    {
     "name": "stderr",
     "output_type": "stream",
     "text": [
      "                                                   \r"
     ]
    },
    {
     "name": "stdout",
     "output_type": "stream",
     "text": [
      "2022-10-27 01:16:07 INFO 0:00:00.209584s elapsed, 4.77 Sents/s\n",
      "朝旦微风吹晓霞，散为和气满家家。不知容貌潜消落，且喜春光动物华。出问池冰犹塞岸，归寻园柳未生芽。摩娑酒瓮重封闭，待入新年共赏花。\n",
      "2022-10-27 01:16:07 INFO Loading the data\n"
     ]
    },
    {
     "name": "stderr",
     "output_type": "stream",
     "text": [
      "                                            \r"
     ]
    },
    {
     "name": "stdout",
     "output_type": "stream",
     "text": [
      "2022-10-27 01:16:07 INFO \n",
      "Dataset(n_sentences=1, n_batches=1, n_buckets=1)\n",
      "2022-10-27 01:16:07 INFO Making predictions on the dataset\n"
     ]
    },
    {
     "name": "stderr",
     "output_type": "stream",
     "text": [
      "                                                   \r"
     ]
    },
    {
     "name": "stdout",
     "output_type": "stream",
     "text": [
      "2022-10-27 01:16:07 INFO 0:00:00.114225s elapsed, 8.75 Sents/s\n",
      "楚客忆关中，疏溪想汾水。萦纡非一曲，意态如千里。倒影罗文动，微波笑颜起。君今赐环归，何人承玉趾。\n",
      "2022-10-27 01:16:07 INFO Loading the data\n"
     ]
    },
    {
     "name": "stderr",
     "output_type": "stream",
     "text": [
      "                                            \r"
     ]
    },
    {
     "name": "stdout",
     "output_type": "stream",
     "text": [
      "2022-10-27 01:16:07 INFO \n",
      "Dataset(n_sentences=1, n_batches=1, n_buckets=1)\n",
      "2022-10-27 01:16:07 INFO Making predictions on the dataset\n"
     ]
    },
    {
     "name": "stderr",
     "output_type": "stream",
     "text": [
      "                                           \r"
     ]
    },
    {
     "name": "stdout",
     "output_type": "stream",
     "text": [
      "2022-10-27 01:16:07 INFO 0:00:00.093282s elapsed, 10.72 Sents/s\n",
      "劲节凌冬劲，芳心待岁芳。能令人益寿，非止麝含香。\n",
      "2022-10-27 01:16:07 INFO Loading the data\n"
     ]
    },
    {
     "name": "stderr",
     "output_type": "stream",
     "text": [
      "                                            \r"
     ]
    },
    {
     "name": "stdout",
     "output_type": "stream",
     "text": [
      "2022-10-27 01:16:07 INFO \n",
      "Dataset(n_sentences=1, n_batches=1, n_buckets=1)\n",
      "2022-10-27 01:16:07 INFO Making predictions on the dataset\n"
     ]
    },
    {
     "name": "stderr",
     "output_type": "stream",
     "text": [
      "                                           \r"
     ]
    },
    {
     "name": "stdout",
     "output_type": "stream",
     "text": [
      "2022-10-27 01:16:07 INFO 0:00:00.078944s elapsed, 12.67 Sents/s\n",
      "山鸟飞红带，亭薇拆紫花。溪光初透彻，秋色正清华。静处知生乐，喧中见死夸。无多珪组累，终不负烟霞。\n",
      "2022-10-27 01:16:07 INFO Loading the data\n"
     ]
    },
    {
     "name": "stderr",
     "output_type": "stream",
     "text": [
      "                                            \r"
     ]
    },
    {
     "name": "stdout",
     "output_type": "stream",
     "text": [
      "2022-10-27 01:16:07 INFO \n",
      "Dataset(n_sentences=1, n_batches=1, n_buckets=1)\n",
      "2022-10-27 01:16:07 INFO Making predictions on the dataset\n"
     ]
    },
    {
     "name": "stderr",
     "output_type": "stream",
     "text": [
      "                                                   \r"
     ]
    },
    {
     "name": "stdout",
     "output_type": "stream",
     "text": [
      "2022-10-27 01:16:07 INFO 0:00:00.105136s elapsed, 9.51 Sents/s\n"
     ]
    },
    {
     "data": {
      "text/plain": [
       "'\\nwith open(parsingfile, \\'w\\') as file_object2:\\n    file_object2.write(suparkanbun.to_conllu(first))\\n    file_object2.write((\"*********+++++++++\"))\\n\\nfor row in df.itertuples():\\n    print(row.content)\\n    with open(parsingfile, \\'a\\') as file_object2:\\n        file_object2.write(suparkanbun.to_conllu(nlp(row.content)))\\n        file_object2.write(\"*********+++++++++\\n\\n\")\\n'"
      ]
     },
     "execution_count": 41,
     "metadata": {},
     "output_type": "execute_result"
    }
   ],
   "source": [
    "# Form file\n",
    "\n",
    "import tqdm\n",
    "import pandas as pd\n",
    "\n",
    "parsingfile = \"/Users/jojoli/Documents/夏校申请:项目制作/英才计划/正式培养/chinese/datasets/parsing\"\n",
    "\n",
    "df = pd.read_csv('/Users/jojoli/Documents/夏校申请:项目制作/英才计划/正式培养/chinese/datasets/Tang_Dynasty_preprocessed.csv')\n",
    "df = df.head(30)\n",
    "\n",
    "# first = nlp(\"静爱青苔院，深宜白鬓翁。貌将松共瘦，心与竹俱空。暖有低檐日，春多飏幕风。平生闲境界，尽在五言中。\")\n",
    "i = 0\n",
    "for row in df.itertuples():\n",
    "    print(row.content)\n",
    "    with open((parsingfile + \"/parsing\" + str(i) + \".txt\"), 'w') as file_object:\n",
    "        file_object.write(suparkanbun.to_conllu(nlp(row.content)))\n",
    "    i+=1\n",
    "\n",
    "\"\"\"\n",
    "with open(parsingfile, 'w') as file_object2:\n",
    "    file_object2.write(suparkanbun.to_conllu(first))\n",
    "    file_object2.write((\"*********+++++++++\"))\n",
    "\n",
    "for row in df.itertuples():\n",
    "    print(row.content)\n",
    "    with open(parsingfile, 'a') as file_object2:\n",
    "        file_object2.write(suparkanbun.to_conllu(nlp(row.content)))\n",
    "        file_object2.write(\"*********+++++++++\\n\\n\")\n",
    "\"\"\""
   ]
  },
  {
   "cell_type": "code",
   "execution_count": 44,
   "metadata": {},
   "outputs": [
    {
     "name": "stdout",
     "output_type": "stream",
     "text": [
      "50\n",
      "{'青': '靜', '苔': '深', '院': '深', '白': '深', '\\t': '\\t'}\n"
     ]
    }
   ],
   "source": [
    "# An example of dependency parse extraction\n",
    "\n",
    "nounkeylist = [\"obj\", \"nmod\"]\n",
    "adjkeylist = [\"amod\", \"advmod\"]\n",
    "dep_cnt = 0\n",
    "result = {}\n",
    "with open((\"/Users/jojoli/Documents/夏校申请:项目制作/英才计划/正式培养/chinese/datasets/parsing/parsing0.txt\"), 'r') as file_object:\n",
    "    lines = file_object.readlines()\n",
    "    for i in range(0, len(lines)):\n",
    "        templine = lines[i]\n",
    "        # Extract useful relationships (find adjectives and modified nouns)\n",
    "        for k in nounkeylist:\n",
    "            if k in templine:\n",
    "                noun = templine[4]\n",
    "                step = 1\n",
    "                flag = False\n",
    "                while (i-step >= 0 and i+step < len(lines)):\n",
    "                    l1 = lines[i+step]\n",
    "                    for j in adjkeylist:\n",
    "                        if j in l1:\n",
    "                            flag = True\n",
    "                            adj = l1[4]\n",
    "                            result[noun] = adj\n",
    "\n",
    "                    if (flag == True):\n",
    "                        break\n",
    "\n",
    "                    l2 = lines[i-step]\n",
    "                    for j in adjkeylist:\n",
    "                        if j in l2:\n",
    "                            flag = True\n",
    "                            adj = l2[4]\n",
    "                            result[noun] = adj\n",
    "\n",
    "                    if (flag == True):\n",
    "                        break\n",
    "\n",
    "                    step+=1\n",
    "print(result)"
   ]
  },
  {
   "cell_type": "code",
   "execution_count": 45,
   "metadata": {},
   "outputs": [
    {
     "data": {
      "text/plain": [
       "'静爱青苔院，深宜白鬓翁。貌将松共瘦，心与竹俱空。暖有低檐日，春多飏幕风。平生闲境界，尽在五言中。'"
      ]
     },
     "execution_count": 45,
     "metadata": {},
     "output_type": "execute_result"
    }
   ],
   "source": [
    "df['content'][0]"
   ]
  },
  {
   "cell_type": "code",
   "execution_count": 3,
   "metadata": {},
   "outputs": [
    {
     "data": {
      "text/html": [
       "<div>\n",
       "<style scoped>\n",
       "    .dataframe tbody tr th:only-of-type {\n",
       "        vertical-align: middle;\n",
       "    }\n",
       "\n",
       "    .dataframe tbody tr th {\n",
       "        vertical-align: top;\n",
       "    }\n",
       "\n",
       "    .dataframe thead th {\n",
       "        text-align: right;\n",
       "    }\n",
       "</style>\n",
       "<table border=\"1\" class=\"dataframe\">\n",
       "  <thead>\n",
       "    <tr style=\"text-align: right;\">\n",
       "      <th></th>\n",
       "      <th>type</th>\n",
       "      <th>content</th>\n",
       "      <th>clean_content</th>\n",
       "      <th>nostop_clean_content</th>\n",
       "      <th>all_nouns</th>\n",
       "      <th>sentiment_detailed</th>\n",
       "      <th>sentiment</th>\n",
       "      <th>dep_nouns</th>\n",
       "      <th>dep_adjs</th>\n",
       "    </tr>\n",
       "  </thead>\n",
       "  <tbody>\n",
       "    <tr>\n",
       "      <th>0</th>\n",
       "      <td>偶题阁下厅</td>\n",
       "      <td>静爱青苔院，深宜白鬓翁。貌将松共瘦，心与竹俱空。暖有低檐日，春多飏幕风。平生闲境界，尽在五言中。</td>\n",
       "      <td>静爱青苔院 深宜白鬓翁 貌将松共瘦 心与竹俱空 暖有低檐日 春多飏幕风 平生闲境界 尽在五言中</td>\n",
       "      <td>静爱青苔院 深宜白鬓翁 貌将松共瘦 心竹俱空 暖有低檐日 春多飏幕风 平生闲境界 尽五言中</td>\n",
       "      <td>['鬓翁', '貌', '心', '竹', '境界', '言']</td>\n",
       "      <td>devout</td>\n",
       "      <td>positive</td>\n",
       "      <td>[青, 苔, 院, 白, \\t]</td>\n",
       "      <td>[靜, 深, 深, 深, \\t]</td>\n",
       "    </tr>\n",
       "    <tr>\n",
       "      <th>1</th>\n",
       "      <td>雪中书怀</td>\n",
       "      <td>腊雪一尺厚，云冻寒顽痴。孤城大泽畔，人疏烟火微。愤悱欲谁语，忧愠不能持。天子号仁圣，任贤如事...</td>\n",
       "      <td>腊雪一尺厚 云冻寒顽痴 孤城大泽畔 人疏烟火微 愤悱欲谁语 忧愠不能持 天子号仁圣 任贤如事...</td>\n",
       "      <td>腊雪一尺厚 云冻寒顽痴 孤城大泽畔 人疏烟火微 愤悱欲语 忧愠不能持 天子号仁圣 任贤如事师...</td>\n",
       "      <td>['云', '泽畔', '人', '烟火', '语', '天子', '号', '事', '师...</td>\n",
       "      <td>devout</td>\n",
       "      <td>neutral</td>\n",
       "      <td>[\\t, 亭, 障, 师, 盗, 策, 鞭, ，, 肉, 皮, 庙, 堂, 语, 身, 机,...</td>\n",
       "      <td>[\\t, \\t, 牵, 牵, 不, 长, 如, 不, 一, 乃, 乃, 乃, 长, 长, 当...</td>\n",
       "    </tr>\n",
       "    <tr>\n",
       "      <th>2</th>\n",
       "      <td>随驾游青城</td>\n",
       "      <td>因随八马上仙山，顿隔尘埃物象闲。只恐西追王母宴，却忧难得到人间。</td>\n",
       "      <td>因随八马上仙山 顿隔尘埃物象闲 只恐西追王母宴 却忧难得到人间</td>\n",
       "      <td>随八马上仙山 顿隔尘埃物象闲 只恐西追王母宴 却忧难得到人间</td>\n",
       "      <td>['马上', '仙山', '物象', '宴']</td>\n",
       "      <td>devout</td>\n",
       "      <td>positive</td>\n",
       "      <td>[馬, 山, \\t]</td>\n",
       "      <td>[因, ，, \\t]</td>\n",
       "    </tr>\n",
       "    <tr>\n",
       "      <th>3</th>\n",
       "      <td>冬夜</td>\n",
       "      <td>羁旅复经冬，瓢空盎亦空。泪流寒枕上，迹绝旧山中。凌结浮萍水，雪和衰柳风。曙光鸡未报，嘹唳两三鸿。</td>\n",
       "      <td>羁旅复经冬 瓢空盎亦空 泪流寒枕上 迹绝旧山中 凌结浮萍水 雪和衰柳风 曙光鸡未报 嘹唳两三鸿</td>\n",
       "      <td>羁旅复经冬 瓢空盎亦空 泪流寒枕上 迹绝旧山中 凌结浮萍水 雪衰柳风 曙光鸡未报 嘹唳两三鸿</td>\n",
       "      <td>['瓢空盎', '泪流', '枕上', '迹', '山中', '水', '雪', '风', ...</td>\n",
       "      <td>bitter</td>\n",
       "      <td>negative</td>\n",
       "      <td>[冬, \\t]</td>\n",
       "      <td>[复, \\t]</td>\n",
       "    </tr>\n",
       "    <tr>\n",
       "      <th>4</th>\n",
       "      <td>酬白乐天杏花园</td>\n",
       "      <td>刘郎不用闲惆怅，且作花间共醉人。算得贞元旧朝士，几人同见太和春。</td>\n",
       "      <td>刘郎不用闲惆怅 且作花间共醉人 算得贞元旧朝士 几人同见太和春</td>\n",
       "      <td>刘郎不用闲惆怅 作花间共醉人 算得贞元旧朝士 几人见太春</td>\n",
       "      <td>['花间', '人']</td>\n",
       "      <td>open-minded</td>\n",
       "      <td>positive</td>\n",
       "      <td>[閑, \\t]</td>\n",
       "      <td>[不, 和]</td>\n",
       "    </tr>\n",
       "  </tbody>\n",
       "</table>\n",
       "</div>"
      ],
      "text/plain": [
       "      type                                            content  \\\n",
       "0    偶题阁下厅   静爱青苔院，深宜白鬓翁。貌将松共瘦，心与竹俱空。暖有低檐日，春多飏幕风。平生闲境界，尽在五言中。   \n",
       "1     雪中书怀  腊雪一尺厚，云冻寒顽痴。孤城大泽畔，人疏烟火微。愤悱欲谁语，忧愠不能持。天子号仁圣，任贤如事...   \n",
       "2    随驾游青城                   因随八马上仙山，顿隔尘埃物象闲。只恐西追王母宴，却忧难得到人间。   \n",
       "3       冬夜   羁旅复经冬，瓢空盎亦空。泪流寒枕上，迹绝旧山中。凌结浮萍水，雪和衰柳风。曙光鸡未报，嘹唳两三鸿。   \n",
       "4  酬白乐天杏花园                   刘郎不用闲惆怅，且作花间共醉人。算得贞元旧朝士，几人同见太和春。   \n",
       "\n",
       "                                       clean_content  \\\n",
       "0    静爱青苔院 深宜白鬓翁 貌将松共瘦 心与竹俱空 暖有低檐日 春多飏幕风 平生闲境界 尽在五言中   \n",
       "1  腊雪一尺厚 云冻寒顽痴 孤城大泽畔 人疏烟火微 愤悱欲谁语 忧愠不能持 天子号仁圣 任贤如事...   \n",
       "2                    因随八马上仙山 顿隔尘埃物象闲 只恐西追王母宴 却忧难得到人间   \n",
       "3    羁旅复经冬 瓢空盎亦空 泪流寒枕上 迹绝旧山中 凌结浮萍水 雪和衰柳风 曙光鸡未报 嘹唳两三鸿   \n",
       "4                    刘郎不用闲惆怅 且作花间共醉人 算得贞元旧朝士 几人同见太和春   \n",
       "\n",
       "                                nostop_clean_content  \\\n",
       "0      静爱青苔院 深宜白鬓翁 貌将松共瘦 心竹俱空 暖有低檐日 春多飏幕风 平生闲境界 尽五言中   \n",
       "1  腊雪一尺厚 云冻寒顽痴 孤城大泽畔 人疏烟火微 愤悱欲语 忧愠不能持 天子号仁圣 任贤如事师...   \n",
       "2                     随八马上仙山 顿隔尘埃物象闲 只恐西追王母宴 却忧难得到人间   \n",
       "3     羁旅复经冬 瓢空盎亦空 泪流寒枕上 迹绝旧山中 凌结浮萍水 雪衰柳风 曙光鸡未报 嘹唳两三鸿   \n",
       "4                       刘郎不用闲惆怅 作花间共醉人 算得贞元旧朝士 几人见太春   \n",
       "\n",
       "                                           all_nouns sentiment_detailed  \\\n",
       "0                   ['鬓翁', '貌', '心', '竹', '境界', '言']             devout   \n",
       "1  ['云', '泽畔', '人', '烟火', '语', '天子', '号', '事', '师...             devout   \n",
       "2                            ['马上', '仙山', '物象', '宴']             devout   \n",
       "3  ['瓢空盎', '泪流', '枕上', '迹', '山中', '水', '雪', '风', ...             bitter   \n",
       "4                                        ['花间', '人']        open-minded   \n",
       "\n",
       "  sentiment                                          dep_nouns  \\\n",
       "0  positive                                   [青, 苔, 院, 白, \\t]   \n",
       "1   neutral  [\\t, 亭, 障, 师, 盗, 策, 鞭, ，, 肉, 皮, 庙, 堂, 语, 身, 机,...   \n",
       "2  positive                                         [馬, 山, \\t]   \n",
       "3  negative                                            [冬, \\t]   \n",
       "4  positive                                            [閑, \\t]   \n",
       "\n",
       "                                            dep_adjs  \n",
       "0                                   [靜, 深, 深, 深, \\t]  \n",
       "1  [\\t, \\t, 牵, 牵, 不, 长, 如, 不, 一, 乃, 乃, 乃, 长, 长, 当...  \n",
       "2                                         [因, ，, \\t]  \n",
       "3                                            [复, \\t]  \n",
       "4                                             [不, 和]  "
      ]
     },
     "execution_count": 3,
     "metadata": {},
     "output_type": "execute_result"
    }
   ],
   "source": [
    "# An demonstration of dependency parse extraction\n",
    "\n",
    "import functions\n",
    "import pandas as pd\n",
    "basename = \"/Users/jojoli/Documents/夏校申请:项目制作/英才计划/正式培养/chinese/datasets/parsing/parsing\"\n",
    "df = pd.read_csv('/Users/jojoli/Documents/夏校申请:项目制作/英才计划/正式培养/chinese/datasets/Tang_Dynasty_preprocessed.csv')\n",
    "df = df.head(30)\n",
    "all_nouns = []\n",
    "all_adjs = []\n",
    "for i in range(0, 30):\n",
    "    result = functions.read_parsing(basename+str(i)+\".txt\")\n",
    "    nouns = []\n",
    "    adjs = []\n",
    "    for key in result:\n",
    "        nouns.append(key)\n",
    "        adjs.append(result[key])\n",
    "    all_nouns.append(nouns)\n",
    "    all_adjs.append(adjs)\n",
    "df['dep_nouns'] = all_nouns\n",
    "df['dep_adjs'] = all_adjs\n",
    "df.head()"
   ]
  },
  {
   "cell_type": "code",
   "execution_count": 4,
   "metadata": {},
   "outputs": [
    {
     "data": {
      "text/plain": [
       "['靜', '深', '深', '深', '\\t']"
      ]
     },
     "execution_count": 4,
     "metadata": {},
     "output_type": "execute_result"
    }
   ],
   "source": [
    "df['dep_adjs'][0]"
   ]
  },
  {
   "cell_type": "code",
   "execution_count": 5,
   "metadata": {},
   "outputs": [
    {
     "name": "stdout",
     "output_type": "stream",
     "text": [
      "青\n",
      "苔\n",
      "院\n",
      "白\n",
      "\t\n",
      "\t\n",
      "亭\n",
      "障\n",
      "师\n",
      "盗\n",
      "策\n",
      "鞭\n",
      "，\n",
      "肉\n",
      "皮\n",
      "庙\n",
      "堂\n",
      "语\n",
      "身\n",
      "机\n",
      "酒\n",
      "春\n",
      "瓮\n",
      "馬\n",
      "山\n",
      "\t\n",
      "冬\n",
      "\t\n",
      "閑\n",
      "\t\n",
      "步\n",
      "\t\n",
      "畔\n",
      "樹\n",
      "\t\n",
      "暮\n",
      "序\n",
      "墉\n",
      "塘\n",
      "\t\n",
      "隩\n",
      "，\n",
      "南\n",
      "西\n",
      "夷\n",
      "火\n",
      "秦\n",
      "风\n",
      "狐\n",
      "故\n",
      "神\n",
      "阵\n",
      "夏\n",
      "首\n",
      "阴\n",
      "舟\n",
      "年\n",
      "魚\n",
      "\t\n",
      "，\n",
      "\t\n",
      "堂\n",
      "印\n",
      "兵\n",
      "權\n",
      "\t\n",
      "\t\n",
      "恩\n",
      "\t\n",
      "室\n",
      "\t\n",
      "樓\n",
      "\t\n",
      "岐\n",
      "门\n",
      "仙\n",
      "县\n",
      "形\n",
      "玉\n",
      "事\n",
      "心\n",
      "人\n",
      "间\n",
      "世\n",
      "名\n",
      "白\n",
      "云\n",
      "\t\n",
      "川\n",
      "琐\n",
      "闼\n",
      "\t\n",
      "\t\n",
      "汉\n",
      "阁\n",
      "秦\n",
      "庭\n",
      "蜀\n",
      "补\n",
      "华\n",
      "帝\n",
      "统\n",
      "天\n",
      "威\n",
      "溟\n",
      "庙\n",
      "垒\n",
      "瓴\n",
      "香\n",
      "水\n",
      "云\n",
      "亭\n",
      "法\n",
      "群\n",
      "星\n",
      "宫\n",
      "柱\n",
      "史\n",
      "凤\n",
      "萤\n",
      "唤\n",
      "騕\n",
      "剑\n",
      "狱\n",
      "刀\n",
      "硎\n",
      "父\n",
      "羽\n",
      "烽\n",
      "师\n",
      "寇\n",
      "戎\n",
      "生\n",
      "臣\n",
      "士\n",
      "上\n",
      "边\n",
      "元\n",
      "勋\n",
      "鼎\n",
      "铭\n",
      "玉\n",
      "烛\n",
      "青\n",
      "萍\n",
      "陇\n",
      "俗\n",
      "鹦\n",
      "鹉\n",
      "原\n",
      "情\n",
      "鶺\n",
      "夫\n",
      "道\n",
      "\t\n",
      "阳\n",
      "，\n",
      "\t\n",
      "\t\n",
      "\t\n",
      "，\n",
      "故\n",
      "\t\n",
      "\t\n",
      "\t\n",
      "兰\n",
      "夢\n",
      "\t\n",
      "床\n",
      "丝\n",
      "烟\n",
      "君\n",
      "计\n",
      "梦\n",
      "砧\n",
      "声\n",
      "\t\n",
      "\t\n",
      "\t\n",
      "紅\n",
      "亭\n",
      "\t\n"
     ]
    }
   ],
   "source": [
    "for each in df[\"dep_nouns\"]:\n",
    "        for noun in each:\n",
    "            print(noun)"
   ]
  },
  {
   "cell_type": "code",
   "execution_count": null,
   "metadata": {},
   "outputs": [],
   "source": []
  }
 ],
 "metadata": {
  "kernelspec": {
   "display_name": "Python 3.8.11 ('base')",
   "language": "python",
   "name": "python3"
  },
  "language_info": {
   "codemirror_mode": {
    "name": "ipython",
    "version": 3
   },
   "file_extension": ".py",
   "mimetype": "text/x-python",
   "name": "python",
   "nbconvert_exporter": "python",
   "pygments_lexer": "ipython3",
   "version": "3.8.11"
  },
  "orig_nbformat": 4,
  "vscode": {
   "interpreter": {
    "hash": "fa6335b93832437a7ad6101cee87dd3e9814daa15b714665e121125b2ec0bb3c"
   }
  }
 },
 "nbformat": 4,
 "nbformat_minor": 2
}
